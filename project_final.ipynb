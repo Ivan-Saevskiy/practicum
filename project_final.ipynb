{
 "cells": [
  {
   "cell_type": "markdown",
   "id": "e7f897ca",
   "metadata": {
    "id": "e7f897ca"
   },
   "source": [
    "# Анализ лояльности пользователей Яндекс Афиши"
   ]
  },
  {
   "cell_type": "markdown",
   "id": "ab3b93fd",
   "metadata": {
    "id": "ab3b93fd"
   },
   "source": [
    "## Этапы выполнения проекта\n",
    "\n",
    "### 1. Загрузка данных и их предобработка\n",
    "\n",
    "---\n",
    "\n",
    "**Задача 1.1:** Напишите SQL-запрос, выгружающий в датафрейм pandas необходимые данные. Используйте следующие параметры для подключения к базе данных `data-analyst-afisha`:\n",
    "\n",
    "- **Хост** — `rc1b-wcoijxj3yxfsf3fs.mdb.yandexcloud.net`\n",
    "- **База данных** — `data-analyst-afisha`\n",
    "- **Порт** — `6432`\n",
    "- **Аутентификация** — `Database Native`\n",
    "- **Пользователь** — `praktikum_student`\n",
    "- **Пароль** — `Sdf4$2;d-d30pp`\n",
    "\n",
    "Для выгрузки используйте запрос из предыдущего урока и библиотеку SQLAlchemy.\n",
    "\n",
    "Выгрузка из базы данных SQL должна позволить собрать следующие данные:\n",
    "\n",
    "- `user_id` — уникальный идентификатор пользователя, совершившего заказ;\n",
    "- `device_type_canonical` — тип устройства, с которого был оформлен заказ (`mobile` — мобильные устройства, `desktop` — стационарные);\n",
    "- `order_id` — уникальный идентификатор заказа;\n",
    "- `order_dt` — дата создания заказа (используйте данные `created_dt_msk`);\n",
    "- `order_ts` — дата и время создания заказа (используйте данные `created_ts_msk`);\n",
    "- `currency_code` — валюта оплаты;\n",
    "- `revenue` — выручка от заказа;\n",
    "- `tickets_count` — количество купленных билетов;\n",
    "- `days_since_prev` — количество дней от предыдущей покупки пользователя, для пользователей с одной покупкой — значение пропущено;\n",
    "- `event_id` — уникальный идентификатор мероприятия;\n",
    "- `service_name` — название билетного оператора;\n",
    "- `event_type_main` — основной тип мероприятия (театральная постановка, концерт и так далее);\n",
    "- `region_name` — название региона, в котором прошло мероприятие;\n",
    "- `city_name` — название города, в котором прошло мероприятие.\n",
    "\n",
    "---\n"
   ]
  },
  {
   "cell_type": "code",
   "execution_count": 5,
   "id": "6e024204",
   "metadata": {
    "id": "6e024204"
   },
   "outputs": [
    {
     "name": "stdout",
     "output_type": "stream",
     "text": [
      "Requirement already satisfied: phik in c:\\programdata\\anaconda3\\lib\\site-packages (0.12.3)\n",
      "Requirement already satisfied: pandas>=0.25.1 in c:\\programdata\\anaconda3\\lib\\site-packages (from phik) (1.3.4)\n",
      "Requirement already satisfied: matplotlib>=2.2.3 in c:\\programdata\\anaconda3\\lib\\site-packages (from phik) (3.4.3)\n",
      "Requirement already satisfied: scipy>=1.5.2 in c:\\programdata\\anaconda3\\lib\\site-packages (from phik) (1.7.1)\n",
      "Requirement already satisfied: numpy>=1.18.0 in c:\\programdata\\anaconda3\\lib\\site-packages (from phik) (1.20.3)\n",
      "Requirement already satisfied: joblib>=0.14.1 in c:\\programdata\\anaconda3\\lib\\site-packages (from phik) (1.1.0)\n",
      "Requirement already satisfied: pillow>=6.2.0 in c:\\programdata\\anaconda3\\lib\\site-packages (from matplotlib>=2.2.3->phik) (8.4.0)\n",
      "Requirement already satisfied: python-dateutil>=2.7 in c:\\programdata\\anaconda3\\lib\\site-packages (from matplotlib>=2.2.3->phik) (2.8.2)\n",
      "Requirement already satisfied: kiwisolver>=1.0.1 in c:\\programdata\\anaconda3\\lib\\site-packages (from matplotlib>=2.2.3->phik) (1.3.1)\n",
      "Requirement already satisfied: cycler>=0.10 in c:\\programdata\\anaconda3\\lib\\site-packages (from matplotlib>=2.2.3->phik) (0.10.0)\n",
      "Requirement already satisfied: pyparsing>=2.2.1 in c:\\programdata\\anaconda3\\lib\\site-packages (from matplotlib>=2.2.3->phik) (3.0.4)\n",
      "Requirement already satisfied: six in c:\\programdata\\anaconda3\\lib\\site-packages (from cycler>=0.10->matplotlib>=2.2.3->phik) (1.16.0)\n",
      "Requirement already satisfied: pytz>=2017.3 in c:\\programdata\\anaconda3\\lib\\site-packages (from pandas>=0.25.1->phik) (2021.3)\n"
     ]
    },
    {
     "name": "stderr",
     "output_type": "stream",
     "text": [
      "WARNING: Ignoring invalid distribution -ipy (c:\\programdata\\anaconda3\\lib\\site-packages)\n",
      "WARNING: Ignoring invalid distribution - (c:\\programdata\\anaconda3\\lib\\site-packages)\n",
      "WARNING: Ignoring invalid distribution -cipy (c:\\programdata\\anaconda3\\lib\\site-packages)\n",
      "WARNING: Ignoring invalid distribution -ipy (c:\\programdata\\anaconda3\\lib\\site-packages)\n",
      "WARNING: Ignoring invalid distribution - (c:\\programdata\\anaconda3\\lib\\site-packages)\n",
      "WARNING: Ignoring invalid distribution -cipy (c:\\programdata\\anaconda3\\lib\\site-packages)\n",
      "WARNING: Ignoring invalid distribution -ipy (c:\\programdata\\anaconda3\\lib\\site-packages)\n",
      "WARNING: Ignoring invalid distribution - (c:\\programdata\\anaconda3\\lib\\site-packages)\n",
      "WARNING: Ignoring invalid distribution -cipy (c:\\programdata\\anaconda3\\lib\\site-packages)\n",
      "WARNING: Ignoring invalid distribution -ipy (c:\\programdata\\anaconda3\\lib\\site-packages)\n",
      "WARNING: Ignoring invalid distribution - (c:\\programdata\\anaconda3\\lib\\site-packages)\n",
      "WARNING: Ignoring invalid distribution -cipy (c:\\programdata\\anaconda3\\lib\\site-packages)\n",
      "WARNING: Ignoring invalid distribution -ipy (c:\\programdata\\anaconda3\\lib\\site-packages)\n",
      "WARNING: Ignoring invalid distribution - (c:\\programdata\\anaconda3\\lib\\site-packages)\n",
      "WARNING: Ignoring invalid distribution -cipy (c:\\programdata\\anaconda3\\lib\\site-packages)\n",
      "WARNING: Ignoring invalid distribution -ipy (c:\\programdata\\anaconda3\\lib\\site-packages)\n",
      "WARNING: Ignoring invalid distribution - (c:\\programdata\\anaconda3\\lib\\site-packages)\n",
      "WARNING: Ignoring invalid distribution -cipy (c:\\programdata\\anaconda3\\lib\\site-packages)\n"
     ]
    },
    {
     "name": "stdout",
     "output_type": "stream",
     "text": [
      "Collecting python-dotenv\n",
      "  Downloading python_dotenv-1.1.1-py3-none-any.whl (20 kB)\n",
      "Installing collected packages: python-dotenv\n",
      "Successfully installed python-dotenv-1.1.1\n"
     ]
    },
    {
     "name": "stderr",
     "output_type": "stream",
     "text": [
      "WARNING: Ignoring invalid distribution -ipy (c:\\programdata\\anaconda3\\lib\\site-packages)\n",
      "WARNING: Ignoring invalid distribution - (c:\\programdata\\anaconda3\\lib\\site-packages)\n",
      "WARNING: Ignoring invalid distribution -cipy (c:\\programdata\\anaconda3\\lib\\site-packages)\n",
      "WARNING: Ignoring invalid distribution -ipy (c:\\programdata\\anaconda3\\lib\\site-packages)\n",
      "WARNING: Ignoring invalid distribution - (c:\\programdata\\anaconda3\\lib\\site-packages)\n",
      "WARNING: Ignoring invalid distribution -cipy (c:\\programdata\\anaconda3\\lib\\site-packages)\n",
      "WARNING: Ignoring invalid distribution -ipy (c:\\programdata\\anaconda3\\lib\\site-packages)\n",
      "WARNING: Ignoring invalid distribution - (c:\\programdata\\anaconda3\\lib\\site-packages)\n",
      "WARNING: Ignoring invalid distribution -cipy (c:\\programdata\\anaconda3\\lib\\site-packages)\n",
      "WARNING: Ignoring invalid distribution -ipy (c:\\programdata\\anaconda3\\lib\\site-packages)\n",
      "WARNING: Ignoring invalid distribution - (c:\\programdata\\anaconda3\\lib\\site-packages)\n",
      "WARNING: Ignoring invalid distribution -cipy (c:\\programdata\\anaconda3\\lib\\site-packages)\n",
      "WARNING: Ignoring invalid distribution -ipy (c:\\programdata\\anaconda3\\lib\\site-packages)\n",
      "WARNING: Ignoring invalid distribution - (c:\\programdata\\anaconda3\\lib\\site-packages)\n",
      "WARNING: Ignoring invalid distribution -cipy (c:\\programdata\\anaconda3\\lib\\site-packages)\n",
      "WARNING: Ignoring invalid distribution -ipy (c:\\programdata\\anaconda3\\lib\\site-packages)\n",
      "WARNING: Ignoring invalid distribution - (c:\\programdata\\anaconda3\\lib\\site-packages)\n",
      "WARNING: Ignoring invalid distribution -cipy (c:\\programdata\\anaconda3\\lib\\site-packages)\n",
      "WARNING: Ignoring invalid distribution -ipy (c:\\programdata\\anaconda3\\lib\\site-packages)\n",
      "WARNING: Ignoring invalid distribution - (c:\\programdata\\anaconda3\\lib\\site-packages)\n",
      "WARNING: Ignoring invalid distribution -cipy (c:\\programdata\\anaconda3\\lib\\site-packages)\n"
     ]
    }
   ],
   "source": [
    "import pandas as pd\n",
    "import matplotlib.pyplot as plt\n",
    "from sqlalchemy import create_engine\n",
    "import seaborn as sns\n",
    "\n",
    "!pip install phik \n",
    "from phik import phik_matrix\n",
    "import os\n",
    "!pip install python-dotenv\n",
    "from dotenv import load_dotenv "
   ]
  },
  {
   "cell_type": "code",
   "execution_count": 10,
   "id": "23b32f3c",
   "metadata": {},
   "outputs": [],
   "source": [
    "load_dotenv(dotenv_path='.env')\n",
    "user = os.getenv('user')\n",
    "pwd = os.getenv('pwd')\n",
    "host = os.getenv('host')\n",
    "port = os.getenv('port')\n",
    "db = os.getenv('db')"
   ]
  },
  {
   "cell_type": "code",
   "execution_count": 11,
   "id": "67ecab94",
   "metadata": {
    "id": "67ecab94"
   },
   "outputs": [],
   "source": [
    "db_config = {'user': 'praktikum_student', # имя пользователя\n",
    "             'pwd': 'Sdf4$2;d-d30pp', # пароль\n",
    "             'host': 'rc1b-wcoijxj3yxfsf3fs.mdb.yandexcloud.net',\n",
    "             'port': 6432, # порт подключения\n",
    "             'db': 'data-analyst-afisha' # название базы данных\n",
    "             }"
   ]
  },
  {
   "cell_type": "code",
   "execution_count": 3,
   "id": "6f638939",
   "metadata": {
    "id": "6f638939"
   },
   "outputs": [],
   "source": [
    "connection_string = 'postgresql://{}:{}@{}:{}/{}'.format(\n",
    "    db_config['user'],\n",
    "    db_config['pwd'],\n",
    "    db_config['host'],\n",
    "    db_config['port'],\n",
    "    db_config['db'],\n",
    ")"
   ]
  },
  {
   "cell_type": "code",
   "execution_count": 4,
   "id": "86b64b9d",
   "metadata": {},
   "outputs": [],
   "source": [
    "engine = create_engine(connection_string)"
   ]
  },
  {
   "cell_type": "code",
   "execution_count": 5,
   "id": "db039ab9",
   "metadata": {},
   "outputs": [],
   "source": [
    "query = '''\n",
    "select user_id, \n",
    "device_type_canonical, \n",
    "order_id, \n",
    "created_dt_msk, \n",
    "created_ts_msk, \n",
    "currency_code, \n",
    "revenue, \n",
    "tickets_count, \n",
    "\n",
    "extract(day from created_dt_msk -\n",
    "lag(created_dt_msk) over(partition by user_id order by created_dt_msk)) as days_since_prev, \n",
    "\n",
    "event_id, \n",
    "event_name_code as event_name, \n",
    "event_type_main, \n",
    "service_name, \n",
    "region_name, \n",
    "city_name\n",
    "from afisha.purchases\n",
    "join afisha.events using (event_id)\n",
    "join afisha.city  using (city_id)\n",
    "join afisha.regions using (region_id)\n",
    "where device_type_canonical in ('mobile', 'desktop') and event_type_main != 'фильм'\n",
    "order by user_id \n",
    "'''"
   ]
  },
  {
   "cell_type": "code",
   "execution_count": 6,
   "id": "1a7f6b37",
   "metadata": {},
   "outputs": [],
   "source": [
    "df = pd.read_sql_query(query, con=engine)"
   ]
  },
  {
   "cell_type": "code",
   "execution_count": 7,
   "id": "6a2faf48",
   "metadata": {},
   "outputs": [
    {
     "data": {
      "text/html": [
       "<div>\n",
       "<style scoped>\n",
       "    .dataframe tbody tr th:only-of-type {\n",
       "        vertical-align: middle;\n",
       "    }\n",
       "\n",
       "    .dataframe tbody tr th {\n",
       "        vertical-align: top;\n",
       "    }\n",
       "\n",
       "    .dataframe thead th {\n",
       "        text-align: right;\n",
       "    }\n",
       "</style>\n",
       "<table border=\"1\" class=\"dataframe\">\n",
       "  <thead>\n",
       "    <tr style=\"text-align: right;\">\n",
       "      <th></th>\n",
       "      <th>user_id</th>\n",
       "      <th>device_type_canonical</th>\n",
       "      <th>order_id</th>\n",
       "      <th>created_dt_msk</th>\n",
       "      <th>created_ts_msk</th>\n",
       "      <th>currency_code</th>\n",
       "      <th>revenue</th>\n",
       "      <th>tickets_count</th>\n",
       "      <th>days_since_prev</th>\n",
       "      <th>event_id</th>\n",
       "      <th>event_name</th>\n",
       "      <th>event_type_main</th>\n",
       "      <th>service_name</th>\n",
       "      <th>region_name</th>\n",
       "      <th>city_name</th>\n",
       "    </tr>\n",
       "  </thead>\n",
       "  <tbody>\n",
       "    <tr>\n",
       "      <th>0</th>\n",
       "      <td>0002849b70a3ce2</td>\n",
       "      <td>mobile</td>\n",
       "      <td>4359165</td>\n",
       "      <td>2024-08-20</td>\n",
       "      <td>2024-08-20 16:08:03</td>\n",
       "      <td>rub</td>\n",
       "      <td>1521.94</td>\n",
       "      <td>4</td>\n",
       "      <td>NaN</td>\n",
       "      <td>169230</td>\n",
       "      <td>f0f7b271-04eb-4af6-bcb8-8f05cf46d6ad</td>\n",
       "      <td>театр</td>\n",
       "      <td>Край билетов</td>\n",
       "      <td>Каменевский регион</td>\n",
       "      <td>Глиногорск</td>\n",
       "    </tr>\n",
       "    <tr>\n",
       "      <th>1</th>\n",
       "      <td>0005ca5e93f2cf4</td>\n",
       "      <td>mobile</td>\n",
       "      <td>7965605</td>\n",
       "      <td>2024-07-23</td>\n",
       "      <td>2024-07-23 18:36:24</td>\n",
       "      <td>rub</td>\n",
       "      <td>289.45</td>\n",
       "      <td>2</td>\n",
       "      <td>NaN</td>\n",
       "      <td>237325</td>\n",
       "      <td>40efeb04-81b7-4135-b41f-708ff00cc64c</td>\n",
       "      <td>выставки</td>\n",
       "      <td>Мой билет</td>\n",
       "      <td>Каменевский регион</td>\n",
       "      <td>Глиногорск</td>\n",
       "    </tr>\n",
       "    <tr>\n",
       "      <th>2</th>\n",
       "      <td>0005ca5e93f2cf4</td>\n",
       "      <td>mobile</td>\n",
       "      <td>7292370</td>\n",
       "      <td>2024-10-06</td>\n",
       "      <td>2024-10-06 13:56:02</td>\n",
       "      <td>rub</td>\n",
       "      <td>1258.57</td>\n",
       "      <td>4</td>\n",
       "      <td>75.0</td>\n",
       "      <td>578454</td>\n",
       "      <td>01f3fb7b-ed07-4f94-b1d3-9a2e1ee5a8ca</td>\n",
       "      <td>другое</td>\n",
       "      <td>За билетом!</td>\n",
       "      <td>Каменевский регион</td>\n",
       "      <td>Глиногорск</td>\n",
       "    </tr>\n",
       "    <tr>\n",
       "      <th>3</th>\n",
       "      <td>000898990054619</td>\n",
       "      <td>mobile</td>\n",
       "      <td>1139875</td>\n",
       "      <td>2024-07-13</td>\n",
       "      <td>2024-07-13 19:40:48</td>\n",
       "      <td>rub</td>\n",
       "      <td>8.49</td>\n",
       "      <td>2</td>\n",
       "      <td>NaN</td>\n",
       "      <td>387271</td>\n",
       "      <td>2f638715-8844-466c-b43f-378a627c419f</td>\n",
       "      <td>другое</td>\n",
       "      <td>Лови билет!</td>\n",
       "      <td>Североярская область</td>\n",
       "      <td>Озёрск</td>\n",
       "    </tr>\n",
       "    <tr>\n",
       "      <th>4</th>\n",
       "      <td>000898990054619</td>\n",
       "      <td>mobile</td>\n",
       "      <td>972400</td>\n",
       "      <td>2024-10-04</td>\n",
       "      <td>2024-10-04 22:33:15</td>\n",
       "      <td>rub</td>\n",
       "      <td>1390.41</td>\n",
       "      <td>3</td>\n",
       "      <td>83.0</td>\n",
       "      <td>509453</td>\n",
       "      <td>10d805d3-9809-4d8a-834e-225b7d03f95d</td>\n",
       "      <td>стендап</td>\n",
       "      <td>Билеты без проблем</td>\n",
       "      <td>Озернинский край</td>\n",
       "      <td>Родниковецк</td>\n",
       "    </tr>\n",
       "  </tbody>\n",
       "</table>\n",
       "</div>"
      ],
      "text/plain": [
       "           user_id device_type_canonical  order_id created_dt_msk  \\\n",
       "0  0002849b70a3ce2                mobile   4359165     2024-08-20   \n",
       "1  0005ca5e93f2cf4                mobile   7965605     2024-07-23   \n",
       "2  0005ca5e93f2cf4                mobile   7292370     2024-10-06   \n",
       "3  000898990054619                mobile   1139875     2024-07-13   \n",
       "4  000898990054619                mobile    972400     2024-10-04   \n",
       "\n",
       "       created_ts_msk currency_code  revenue  tickets_count  days_since_prev  \\\n",
       "0 2024-08-20 16:08:03           rub  1521.94              4              NaN   \n",
       "1 2024-07-23 18:36:24           rub   289.45              2              NaN   \n",
       "2 2024-10-06 13:56:02           rub  1258.57              4             75.0   \n",
       "3 2024-07-13 19:40:48           rub     8.49              2              NaN   \n",
       "4 2024-10-04 22:33:15           rub  1390.41              3             83.0   \n",
       "\n",
       "   event_id                            event_name event_type_main  \\\n",
       "0    169230  f0f7b271-04eb-4af6-bcb8-8f05cf46d6ad           театр   \n",
       "1    237325  40efeb04-81b7-4135-b41f-708ff00cc64c        выставки   \n",
       "2    578454  01f3fb7b-ed07-4f94-b1d3-9a2e1ee5a8ca          другое   \n",
       "3    387271  2f638715-8844-466c-b43f-378a627c419f          другое   \n",
       "4    509453  10d805d3-9809-4d8a-834e-225b7d03f95d         стендап   \n",
       "\n",
       "         service_name           region_name    city_name  \n",
       "0        Край билетов    Каменевский регион   Глиногорск  \n",
       "1           Мой билет    Каменевский регион   Глиногорск  \n",
       "2         За билетом!    Каменевский регион   Глиногорск  \n",
       "3         Лови билет!  Североярская область       Озёрск  \n",
       "4  Билеты без проблем      Озернинский край  Родниковецк  "
      ]
     },
     "execution_count": 7,
     "metadata": {},
     "output_type": "execute_result"
    }
   ],
   "source": [
    "df.head()"
   ]
  },
  {
   "cell_type": "code",
   "execution_count": 8,
   "id": "6913c429",
   "metadata": {},
   "outputs": [
    {
     "name": "stdout",
     "output_type": "stream",
     "text": [
      "<class 'pandas.core.frame.DataFrame'>\n",
      "RangeIndex: 290611 entries, 0 to 290610\n",
      "Data columns (total 15 columns):\n",
      " #   Column                 Non-Null Count   Dtype         \n",
      "---  ------                 --------------   -----         \n",
      " 0   user_id                290611 non-null  object        \n",
      " 1   device_type_canonical  290611 non-null  object        \n",
      " 2   order_id               290611 non-null  int64         \n",
      " 3   created_dt_msk         290611 non-null  datetime64[ns]\n",
      " 4   created_ts_msk         290611 non-null  datetime64[ns]\n",
      " 5   currency_code          290611 non-null  object        \n",
      " 6   revenue                290611 non-null  float64       \n",
      " 7   tickets_count          290611 non-null  int64         \n",
      " 8   days_since_prev        268678 non-null  float64       \n",
      " 9   event_id               290611 non-null  int64         \n",
      " 10  event_name             290611 non-null  object        \n",
      " 11  event_type_main        290611 non-null  object        \n",
      " 12  service_name           290611 non-null  object        \n",
      " 13  region_name            290611 non-null  object        \n",
      " 14  city_name              290611 non-null  object        \n",
      "dtypes: datetime64[ns](2), float64(2), int64(3), object(8)\n",
      "memory usage: 33.3+ MB\n"
     ]
    }
   ],
   "source": [
    "df.info()"
   ]
  },
  {
   "cell_type": "markdown",
   "id": "120237b6",
   "metadata": {
    "id": "120237b6"
   },
   "source": [
    "---\n",
    "\n",
    "**Задача 1.2:** Изучите общую информацию о выгруженных данных. Оцените корректность выгрузки и объём полученных данных.\n",
    "\n",
    "Предположите, какие шаги необходимо сделать на стадии предобработки данных — например, скорректировать типы данных.\n",
    "\n",
    "Зафиксируйте основную информацию о данных в кратком промежуточном выводе.\n",
    "\n",
    "---"
   ]
  },
  {
   "cell_type": "markdown",
   "id": "71b52116",
   "metadata": {
    "id": "e8c6517f"
   },
   "source": [
    "В изучаемом датасете **15** столбцов и **290611** строк. \n",
    "\n",
    "\n",
    "- Задействаованы следующие типы данных:\n",
    "\n",
    "    - `datetime64[ns]` - 2 столбца\n",
    "    \n",
    "    - `float64` - 2 столбца\n",
    "    \n",
    "    - `int64` - 3 столбца \n",
    "    \n",
    "    - `object` - 8 столбцов\n",
    "\n",
    "\n",
    "- Имеются пропуски в столбце `days_since_prev`, эти пропуски подходят под тип **NAR** и говорят о том, что запись содержит инфомацию о первом заказе клиена\n",
    "\n",
    "\n",
    "- Названия столбцов приведены к типу `snake_case`"
   ]
  },
  {
   "cell_type": "markdown",
   "id": "66945343",
   "metadata": {
    "id": "66945343"
   },
   "source": [
    "---\n",
    "\n",
    "###  2. Предобработка данных\n",
    "\n",
    "Выполните все стандартные действия по предобработке данных:\n",
    "\n",
    "---\n",
    "\n",
    "**Задача 2.1:** Данные о выручке сервиса представлены в российских рублях и казахстанских тенге. Приведите выручку к единой валюте — российскому рублю.\n",
    "\n",
    "Для этого используйте датасет с информацией о курсе казахстанского тенге по отношению к российскому рублю за 2024 год — `final_tickets_tenge_df.csv`. Его можно загрузить по пути `https://code.s3.yandex.net/datasets/final_tickets_tenge_df.csv')`\n",
    "\n",
    "Значения в рублях представлено для 100 тенге.\n",
    "\n",
    "Результаты преобразования сохраните в новый столбец `revenue_rub`.\n",
    "\n",
    "---\n"
   ]
  },
  {
   "cell_type": "markdown",
   "id": "c2faf2dc",
   "metadata": {},
   "source": [
    "Создадим новый столбец `revenue_rub` "
   ]
  },
  {
   "cell_type": "markdown",
   "id": "ca6fff92",
   "metadata": {
    "id": "c7ed8a0b"
   },
   "source": [
    "Загрузим датасет с информацией о тенге для приведения все записей о выручке к единому курсу"
   ]
  },
  {
   "cell_type": "code",
   "execution_count": 9,
   "id": "48e5ef83",
   "metadata": {
    "id": "48e5ef83"
   },
   "outputs": [],
   "source": [
    "final_tickets = pd.read_csv('https://code.s3.yandex.net/datasets/final_tickets_tenge_df.csv')"
   ]
  },
  {
   "cell_type": "code",
   "execution_count": 10,
   "id": "887667f3",
   "metadata": {
    "id": "887667f3"
   },
   "outputs": [
    {
     "data": {
      "text/html": [
       "<div>\n",
       "<style scoped>\n",
       "    .dataframe tbody tr th:only-of-type {\n",
       "        vertical-align: middle;\n",
       "    }\n",
       "\n",
       "    .dataframe tbody tr th {\n",
       "        vertical-align: top;\n",
       "    }\n",
       "\n",
       "    .dataframe thead th {\n",
       "        text-align: right;\n",
       "    }\n",
       "</style>\n",
       "<table border=\"1\" class=\"dataframe\">\n",
       "  <thead>\n",
       "    <tr style=\"text-align: right;\">\n",
       "      <th></th>\n",
       "      <th>data</th>\n",
       "      <th>nominal</th>\n",
       "      <th>curs</th>\n",
       "      <th>cdx</th>\n",
       "    </tr>\n",
       "  </thead>\n",
       "  <tbody>\n",
       "    <tr>\n",
       "      <th>0</th>\n",
       "      <td>2024-01-10</td>\n",
       "      <td>100</td>\n",
       "      <td>19.9391</td>\n",
       "      <td>kzt</td>\n",
       "    </tr>\n",
       "    <tr>\n",
       "      <th>1</th>\n",
       "      <td>2024-01-11</td>\n",
       "      <td>100</td>\n",
       "      <td>19.7255</td>\n",
       "      <td>kzt</td>\n",
       "    </tr>\n",
       "    <tr>\n",
       "      <th>2</th>\n",
       "      <td>2024-01-12</td>\n",
       "      <td>100</td>\n",
       "      <td>19.5839</td>\n",
       "      <td>kzt</td>\n",
       "    </tr>\n",
       "    <tr>\n",
       "      <th>3</th>\n",
       "      <td>2024-01-13</td>\n",
       "      <td>100</td>\n",
       "      <td>19.4501</td>\n",
       "      <td>kzt</td>\n",
       "    </tr>\n",
       "    <tr>\n",
       "      <th>4</th>\n",
       "      <td>2024-01-14</td>\n",
       "      <td>100</td>\n",
       "      <td>19.4501</td>\n",
       "      <td>kzt</td>\n",
       "    </tr>\n",
       "  </tbody>\n",
       "</table>\n",
       "</div>"
      ],
      "text/plain": [
       "         data  nominal     curs  cdx\n",
       "0  2024-01-10      100  19.9391  kzt\n",
       "1  2024-01-11      100  19.7255  kzt\n",
       "2  2024-01-12      100  19.5839  kzt\n",
       "3  2024-01-13      100  19.4501  kzt\n",
       "4  2024-01-14      100  19.4501  kzt"
      ]
     },
     "execution_count": 10,
     "metadata": {},
     "output_type": "execute_result"
    }
   ],
   "source": [
    "final_tickets.head()"
   ]
  },
  {
   "cell_type": "code",
   "execution_count": 11,
   "id": "17f69cb7",
   "metadata": {},
   "outputs": [
    {
     "name": "stdout",
     "output_type": "stream",
     "text": [
      "<class 'pandas.core.frame.DataFrame'>\n",
      "RangeIndex: 357 entries, 0 to 356\n",
      "Data columns (total 4 columns):\n",
      " #   Column   Non-Null Count  Dtype  \n",
      "---  ------   --------------  -----  \n",
      " 0   data     357 non-null    object \n",
      " 1   nominal  357 non-null    int64  \n",
      " 2   curs     357 non-null    float64\n",
      " 3   cdx      357 non-null    object \n",
      "dtypes: float64(1), int64(1), object(2)\n",
      "memory usage: 11.3+ KB\n"
     ]
    }
   ],
   "source": [
    "final_tickets.info()"
   ]
  },
  {
   "cell_type": "markdown",
   "id": "4a866732",
   "metadata": {},
   "source": [
    "Обратим внимание, что в столбце `data` используется тип `object`, что может помешать в дальнейшем сравнении. Преобразуем тип данных в `datetime64`"
   ]
  },
  {
   "cell_type": "code",
   "execution_count": 12,
   "id": "7c078424",
   "metadata": {},
   "outputs": [],
   "source": [
    "final_tickets['data'] = final_tickets['data'].astype('datetime64[ns]')"
   ]
  },
  {
   "cell_type": "code",
   "execution_count": 13,
   "id": "0d8bd09f",
   "metadata": {},
   "outputs": [],
   "source": [
    "# Создадим функцию для создания нового столбца\n",
    "\n",
    "def kst_to_rub(row):\n",
    "    if row['currency_code'] == 'kzt':\n",
    "        curs = final_tickets[final_tickets['data'] == row['created_dt_msk']]['curs'].iloc[0]\n",
    "        new_revenue = row['revenue'] * curs / 100\n",
    "        return new_revenue\n",
    "    \n",
    "    return row['revenue']"
   ]
  },
  {
   "cell_type": "code",
   "execution_count": 14,
   "id": "7dccd6ec",
   "metadata": {},
   "outputs": [],
   "source": [
    "# Создадим новый столбец с выручкой в рублях\n",
    "\n",
    "df['revenue_rub'] = df.apply(kst_to_rub, axis=1)"
   ]
  },
  {
   "cell_type": "markdown",
   "id": "d9867bfe",
   "metadata": {
    "id": "d9867bfe"
   },
   "source": [
    "---\n",
    "\n",
    "**Задача 2.2:**\n",
    "\n",
    "- Проверьте данные на пропущенные значения. Если выгрузка из SQL была успешной, то пропуски должны быть только в столбце `days_since_prev`.\n",
    "- Преобразуйте типы данных в некоторых столбцах, если это необходимо. Обратите внимание на данные с датой и временем, а также на числовые данные, размерность которых можно сократить.\n",
    "- Изучите значения в ключевых столбцах. Обработайте ошибки, если обнаружите их.\n",
    "    - Проверьте, какие категории указаны в столбцах с номинальными данными. Есть ли среди категорий такие, что обозначают пропуски в данных или отсутствие информации? Проведите нормализацию данных, если это необходимо.\n",
    "    - Проверьте распределение численных данных и наличие в них выбросов. Для этого используйте статистические показатели, гистограммы распределения значений или диаграммы размаха.\n",
    "        \n",
    "        Важные показатели в рамках поставленной задачи — это выручка с заказа (`revenue_rub`) и количество билетов в заказе (`tickets_count`), поэтому в первую очередь проверьте данные в этих столбцах.\n",
    "        \n",
    "        Если обнаружите выбросы в поле `revenue_rub`, то отфильтруйте значения по 99 перцентилю.\n",
    "\n",
    "После предобработки проверьте, были ли отфильтрованы данные. Если были, то оцените, в каком объёме. Сформулируйте промежуточный вывод, зафиксировав основные действия и описания новых столбцов.\n",
    "\n",
    "---"
   ]
  },
  {
   "cell_type": "markdown",
   "id": "68afa93c",
   "metadata": {
    "id": "e68c5629"
   },
   "source": [
    "Ранее мы рассмотрели данные на типы и пропущенные значения, заметим, что пропущенные значения встречаются в столбце `days_since_prev` и не являются ошибкой. Так же обратим внимание, что можно оптимизировать некоторые типы данных:\n",
    "\n",
    "\n",
    "- атрибут `device_type_canonical` содержит информацию о типе устройств, в нем могут встретиться лишь 2 значения: `mobile` и `desktop`. Такой столбец можно привести к категориальному типу данных `category`.\n",
    "\n",
    "\n",
    "- атрибут `currency_code` также может содержить лишь 2 значения: `rub` и `kzt`. Его тоже стоит привести к типу `category`.\n",
    "\n",
    "\n",
    "- атрибут `tickets_count` содержит информацию о количестве купленных билетов. Это поле не может содержать слишком высокие значения. Его можно изменить на `int8`.\n",
    "\n",
    "\n",
    "- атрибут `days_since_prev` содержит количество дней, прошедших с даты последнего заказа. Количество дней всегда целое. Столбцу соответствует тип `int32`.\n",
    "\n",
    "---"
   ]
  },
  {
   "cell_type": "markdown",
   "id": "0e67ab8a",
   "metadata": {},
   "source": [
    "Преобразуем типы данных "
   ]
  },
  {
   "cell_type": "code",
   "execution_count": 15,
   "id": "8e1737ce",
   "metadata": {},
   "outputs": [],
   "source": [
    "# Преобразуем тип для device_type_canonical\n",
    "df['device_type_canonical'] = df['device_type_canonical'].astype('category')"
   ]
  },
  {
   "cell_type": "code",
   "execution_count": 16,
   "id": "27074f48",
   "metadata": {},
   "outputs": [],
   "source": [
    "# Преобразуем тип для currency_code\n",
    "df['currency_code'] = df['currency_code'].astype('category')"
   ]
  },
  {
   "cell_type": "code",
   "execution_count": 17,
   "id": "19da3d6b",
   "metadata": {
    "id": "19da3d6b"
   },
   "outputs": [],
   "source": [
    "# Преобразуем тип для tickets_count\n",
    "df['tickets_count'] = pd.to_numeric(df['tickets_count'], downcast='integer')"
   ]
  },
  {
   "cell_type": "markdown",
   "id": "b884d9fe",
   "metadata": {},
   "source": [
    "Для преобразования типа `days_since_prev` заменим пропущенные значения, на значение индикатор `-1`"
   ]
  },
  {
   "cell_type": "code",
   "execution_count": 18,
   "id": "c1c577f2",
   "metadata": {},
   "outputs": [],
   "source": [
    "# Заполним пропуски на -1\n",
    "df['days_since_prev'] = df['days_since_prev'].fillna(-1)\n",
    "\n",
    "# Преобразуем тип для days_since_prev\n",
    "df['days_since_prev'] = df['days_since_prev'].astype('int32')"
   ]
  },
  {
   "cell_type": "code",
   "execution_count": 19,
   "id": "d31ebfc8",
   "metadata": {
    "id": "d31ebfc8"
   },
   "outputs": [
    {
     "data": {
      "text/plain": [
       "user_id                          object\n",
       "device_type_canonical          category\n",
       "order_id                          int64\n",
       "created_dt_msk           datetime64[ns]\n",
       "created_ts_msk           datetime64[ns]\n",
       "currency_code                  category\n",
       "revenue                         float64\n",
       "tickets_count                      int8\n",
       "days_since_prev                   int32\n",
       "event_id                          int64\n",
       "event_name                       object\n",
       "event_type_main                  object\n",
       "service_name                     object\n",
       "region_name                      object\n",
       "city_name                        object\n",
       "revenue_rub                     float64\n",
       "dtype: object"
      ]
     },
     "execution_count": 19,
     "metadata": {},
     "output_type": "execute_result"
    }
   ],
   "source": [
    "# Выведем преобразованные типы данных\n",
    "df.dtypes"
   ]
  },
  {
   "cell_type": "markdown",
   "id": "bb478b74",
   "metadata": {},
   "source": [
    "---"
   ]
  },
  {
   "cell_type": "markdown",
   "id": "b3529c31",
   "metadata": {},
   "source": [
    "Изучим значения в категориальных столбцах"
   ]
  },
  {
   "cell_type": "code",
   "execution_count": 20,
   "id": "d5f8a5a0",
   "metadata": {},
   "outputs": [
    {
     "name": "stdout",
     "output_type": "stream",
     "text": [
      "Столбец device_type_canonical: ['mobile', 'desktop']\n",
      "Столбец currency_code: ['rub', 'kzt']\n",
      "Столбец event_type_main: ['театр', 'выставки', 'другое', 'стендап', 'концерты', 'спорт', 'ёлки']\n"
     ]
    }
   ],
   "source": [
    "# Уникальные значения уникальных столбцов\n",
    "for column in ['device_type_canonical', 'currency_code', 'event_type_main']:\n",
    "    print(f'Столбец {column}: {list(df[column].unique())}')"
   ]
  },
  {
   "cell_type": "markdown",
   "id": "dfcf2c3b",
   "metadata": {},
   "source": [
    "Посмотрим на количество уникальных значений в столбцах с названиями "
   ]
  },
  {
   "cell_type": "code",
   "execution_count": 21,
   "id": "6500f4ca",
   "metadata": {},
   "outputs": [
    {
     "name": "stdout",
     "output_type": "stream",
     "text": [
      "Кол-во уникальных значений в столбце service_name: 36\n",
      "Кол-во уникальных значений в столбце region_name: 81\n",
      "Кол-во уникальных значений в столбце city_name: 352\n"
     ]
    }
   ],
   "source": [
    "for column in ['service_name', 'region_name', 'city_name']:\n",
    "    print(f'Кол-во уникальных значений в столбце {column}: {df[column].nunique()}')"
   ]
  },
  {
   "cell_type": "markdown",
   "id": "2017291d",
   "metadata": {},
   "source": [
    "В данных встречается 36 сервисов, 81 регион и 352 города"
   ]
  },
  {
   "cell_type": "markdown",
   "id": "dd164625",
   "metadata": {},
   "source": [
    "---\n",
    "\n",
    "###### Проверим распределение численных данных и наличие в них выбросов."
   ]
  },
  {
   "cell_type": "code",
   "execution_count": 22,
   "id": "9ec1a7e6",
   "metadata": {},
   "outputs": [
    {
     "data": {
      "text/plain": [
       "Text(0.5, 1.0, 'Диаграммма размаха по revenue_rub')"
      ]
     },
     "execution_count": 22,
     "metadata": {},
     "output_type": "execute_result"
    },
    {
     "data": {
      "image/png": "[encoded data removed]",
      "text/plain": [
       "<Figure size 576x216 with 1 Axes>"
      ]
     },
     "metadata": {
      "needs_background": "light"
     },
     "output_type": "display_data"
    }
   ],
   "source": [
    "# Посмотрим распредение данных в столбце revenue_rub\n",
    "df.boxplot(column='revenue_rub', vert=False, grid=True, figsize=(8, 3))\n",
    "plt.title('Диаграммма размаха по revenue_rub', size=15)"
   ]
  },
  {
   "cell_type": "markdown",
   "id": "b18ae67e",
   "metadata": {},
   "source": [
    "Заметим, что в данных присутствует большое количество выбросов, из-за которых возникают сложности с оценкой распределения данных, отфильтруем значения по 99 процентилю."
   ]
  },
  {
   "cell_type": "code",
   "execution_count": 23,
   "id": "44bfa35e",
   "metadata": {},
   "outputs": [
    {
     "data": {
      "text/plain": [
       "Text(0.5, 1.0, 'Диаграммма размаха по revenue_rub')"
      ]
     },
     "execution_count": 23,
     "metadata": {},
     "output_type": "execute_result"
    },
    {
     "data": {
      "image/png": "[encoded data removed]",
      "text/plain": [
       "<Figure size 576x288 with 1 Axes>"
      ]
     },
     "metadata": {
      "needs_background": "light"
     },
     "output_type": "display_data"
    }
   ],
   "source": [
    "# Построим диаграмму с фильтром по 99 процентилю \n",
    "df[df['revenue_rub'] < df['revenue_rub'].quantile(0.99)].boxplot(column='revenue_rub', vert=False, grid=True, figsize=(8, 4))\n",
    "plt.title('Диаграммма размаха по revenue_rub', size=15)"
   ]
  },
  {
   "cell_type": "code",
   "execution_count": 24,
   "id": "67111730",
   "metadata": {},
   "outputs": [
    {
     "data": {
      "text/plain": [
       "Text(0.5, 0, 'revenue_rub')"
      ]
     },
     "execution_count": 24,
     "metadata": {},
     "output_type": "execute_result"
    },
    {
     "data": {
      "image/png": "[encoded data removed]",
      "text/plain": [
       "<Figure size 576x288 with 1 Axes>"
      ]
     },
     "metadata": {
      "needs_background": "light"
     },
     "output_type": "display_data"
    }
   ],
   "source": [
    "# Построим гстограмму с фильтром по 99 процентилю \n",
    "df[df['revenue_rub'] < df['revenue_rub'].quantile(0.99)].hist(column='revenue_rub', bins=20, grid=True, figsize=(8, 4), \n",
    "                                                             edgecolor='k')\n",
    "plt.title('Диаграммма размаха по revenue_rub', size=20)\n",
    "plt.xlabel('revenue_rub', size=15)"
   ]
  },
  {
   "cell_type": "markdown",
   "id": "50d71bbd",
   "metadata": {},
   "source": [
    "Заметим, что распределение имеет ярко выраженный правй хвост, что говорит о положительной ассиметрии. большинство значений лежат в диапазоне от 0 до 500"
   ]
  },
  {
   "cell_type": "code",
   "execution_count": 25,
   "id": "4d71ebe4",
   "metadata": {},
   "outputs": [
    {
     "data": {
      "text/plain": [
       "Text(0.5, 1.0, 'Диаграммма размаха по tickets_count')"
      ]
     },
     "execution_count": 25,
     "metadata": {},
     "output_type": "execute_result"
    },
    {
     "data": {
      "image/png": "[encoded data removed]",
      "text/plain": [
       "<Figure size 576x216 with 1 Axes>"
      ]
     },
     "metadata": {
      "needs_background": "light"
     },
     "output_type": "display_data"
    }
   ],
   "source": [
    "# Посмотрим распредение данных в столбце tickets_count\n",
    "df.boxplot(column='tickets_count', vert=False, grid=True, figsize=(8, 3))\n",
    "plt.title('Диаграммма размаха по tickets_count', size=15)"
   ]
  },
  {
   "cell_type": "markdown",
   "id": "3bcab3df",
   "metadata": {},
   "source": [
    "Заметим что в данных присутствует большое количество выбросов, это мешает анализу разброса.\n",
    "Рассмотрим распределеине без учета выбросов"
   ]
  },
  {
   "cell_type": "code",
   "execution_count": 26,
   "id": "2f487bc8",
   "metadata": {},
   "outputs": [
    {
     "data": {
      "text/plain": [
       "Text(0.5, 1.0, 'Диаграммма размаха по tickets_count')"
      ]
     },
     "execution_count": 26,
     "metadata": {},
     "output_type": "execute_result"
    },
    {
     "data": {
      "image/png": "[encoded data removed]",
      "text/plain": [
       "<Figure size 576x216 with 1 Axes>"
      ]
     },
     "metadata": {
      "needs_background": "light"
     },
     "output_type": "display_data"
    }
   ],
   "source": [
    "# Посмотрим распредение данных в столбце tickets_count без учета выбросов \n",
    "df.boxplot(column='tickets_count', vert=False, grid=True, figsize=(8, 3), showfliers=False)\n",
    "plt.title('Диаграммма размаха по tickets_count', size=15)"
   ]
  },
  {
   "cell_type": "markdown",
   "id": "850ed66f",
   "metadata": {},
   "source": [
    "Заметим, что в большинстве заказов покупается от 2 до 4 билетов, посмотрим на распределение значений от 1 до 7"
   ]
  },
  {
   "cell_type": "code",
   "execution_count": 27,
   "id": "c5a4e0a4",
   "metadata": {},
   "outputs": [
    {
     "data": {
      "text/plain": [
       "Text(0.5, 0, 'tickets_count')"
      ]
     },
     "execution_count": 27,
     "metadata": {},
     "output_type": "execute_result"
    },
    {
     "data": {
      "image/png": "[encoded data removed]",
      "text/plain": [
       "<Figure size 576x288 with 1 Axes>"
      ]
     },
     "metadata": {
      "needs_background": "light"
     },
     "output_type": "display_data"
    }
   ],
   "source": [
    "# Построим гистограмму для tickets_count\n",
    "df[df['tickets_count'] <= 7]['tickets_count'].plot(kind='hist', figsize=(8, 4), edgecolor='k', bins=7)\n",
    "plt.title('Диаграммма размаха по tickets_count', size=20)\n",
    "plt.xlabel('tickets_count', size=15)"
   ]
  },
  {
   "cell_type": "markdown",
   "id": "2edc84dd",
   "metadata": {},
   "source": [
    "На гистограмме видно, что практически во всех заказах от 1 до 6 билетов"
   ]
  },
  {
   "cell_type": "code",
   "execution_count": 28,
   "id": "76125e5f",
   "metadata": {},
   "outputs": [
    {
     "data": {
      "text/plain": [
       "count    268678.000000\n",
       "mean          3.222381\n",
       "std          11.350509\n",
       "min           0.000000\n",
       "25%           0.000000\n",
       "50%           0.000000\n",
       "75%           1.000000\n",
       "max         148.000000\n",
       "Name: days_since_prev, dtype: float64"
      ]
     },
     "execution_count": 28,
     "metadata": {},
     "output_type": "execute_result"
    }
   ],
   "source": [
    "# Изучим значения в days_since_prev\n",
    "df[df['days_since_prev'] > -1]['days_since_prev'].describe() # Отберем данные без учета первых заказов"
   ]
  },
  {
   "cell_type": "markdown",
   "id": "2125884e",
   "metadata": {},
   "source": [
    "Заметим очень высокий максимум, для среднего 3.2 и стандартного отклонения 11.3 \n",
    "Очевидно в данных есть положительные выбросы."
   ]
  },
  {
   "cell_type": "code",
   "execution_count": 29,
   "id": "589d30a1",
   "metadata": {},
   "outputs": [
    {
     "data": {
      "text/plain": [
       "<AxesSubplot:>"
      ]
     },
     "execution_count": 29,
     "metadata": {},
     "output_type": "execute_result"
    },
    {
     "data": {
      "image/png": "[encoded data removed]",
      "text/plain": [
       "<Figure size 432x288 with 1 Axes>"
      ]
     },
     "metadata": {
      "needs_background": "light"
     },
     "output_type": "display_data"
    }
   ],
   "source": [
    "# визуализируем данные из days_since_prev, отсортировав по 90му процентилю\n",
    "df[df['days_since_prev'] <= df['days_since_prev'].quantile(0.90)]['days_since_prev'].hist(bins=30)"
   ]
  },
  {
   "cell_type": "markdown",
   "id": "052a11b8",
   "metadata": {},
   "source": [
    "Большинство повторных заказов были сделаны в тот же день, что и предыдущий, другая большая часть заказов была сделана через день."
   ]
  },
  {
   "cell_type": "markdown",
   "id": "6b556786",
   "metadata": {},
   "source": [
    "##### Промежуточный вывод\n",
    "\n",
    "- Мы создали новый столбец `revenue_rub`, содержащий информацию о цене заказах в рублях \n",
    "\n",
    "- Преобразовали типы данных в столбцах:\n",
    "  \n",
    "    - `device_type_canonical` : `object` $\\rightarrow$ `category` \n",
    "     \n",
    "    - `currency_code` : `object` $\\rightarrow$ `category`\n",
    "    \n",
    "    - `tickets_count` : `int64` $\\rightarrow$ `int8`\n",
    "    \n",
    "    - `days_since_prev` : `float64` $\\rightarrow$ `int32`\n",
    "  \n",
    "  \n",
    "- Изучили значения в категориальных столбцах:\n",
    "\n",
    "    - `device_type_canonical`: mobile, desctop\n",
    "    \n",
    "    - `currency_code`: rub, kzt\n",
    "    \n",
    "    - `event_type_main`: театр, выставки, другое, стендап, концерты, спорт, ёлки\n",
    "\n",
    "\n",
    "- Количество уникальных значений в столбцах с названиями:\n",
    "\n",
    "    - `service_name`: 36\n",
    "    \n",
    "    - `region_name`: 81\n",
    "    \n",
    "    - `city_name`: 352\n",
    "    \n",
    "   \n",
    "- Проверили распредление численных данных и наличие в них выбросов:\n",
    "\n",
    "    - В столбце `revenue_rub` присутствует большое количество положительных выбросов. Большинство значений лежит в промежутке от 0 до 2000, однако максимальное значение превышает 80 тыс.\n",
    "    \n",
    "    - В столбце `tickets_count` также присутствуют выбросы. Большинство заказов содержат 1-6 билетов, однако максимальное значение превышает 50\n",
    "    \n",
    "    - В столбце `days_since_prev` большинство заказов были сделаны в тот же день что и предыдущий, а верхний квартиль равен единице, однако максимальное значение равное 148 свидетельствует  сильном правом хвосте.\n",
    "    "
   ]
  },
  {
   "cell_type": "markdown",
   "id": "621c1db9",
   "metadata": {
    "id": "621c1db9"
   },
   "source": [
    "---\n",
    "\n",
    "### 3. Создание профиля пользователя\n",
    "\n",
    "В будущем отдел маркетинга планирует создать модель для прогнозирования возврата пользователей. Поэтому сейчас они просят вас построить агрегированные признаки, описывающие поведение и профиль каждого пользователя.\n",
    "\n",
    "---\n",
    "\n",
    "**Задача 3.1.** Постройте профиль пользователя — для каждого пользователя найдите:\n",
    "\n",
    "- дату первого и последнего заказа;\n",
    "- устройство, с которого был сделан первый заказ;\n",
    "- регион, в котором был сделан первый заказ;\n",
    "- билетного партнёра, к которому обращались при первом заказе;\n",
    "- жанр первого посещённого мероприятия (используйте поле `event_type_main`);\n",
    "- общее количество заказов;\n",
    "- средняя выручка с одного заказа в рублях;\n",
    "- среднее количество билетов в заказе;\n",
    "- среднее время между заказами.\n",
    "\n",
    "После этого добавьте два бинарных признака:\n",
    "\n",
    "- `is_two` — совершил ли пользователь 2 и более заказа;\n",
    "- `is_five` — совершил ли пользователь 5 и более заказов.\n",
    "\n",
    "**Рекомендация:** перед тем как строить профиль, отсортируйте данные по времени совершения заказа.\n",
    "\n",
    "---\n"
   ]
  },
  {
   "cell_type": "code",
   "execution_count": 30,
   "id": "d351239c",
   "metadata": {
    "id": "d351239c"
   },
   "outputs": [
    {
     "data": {
      "text/html": [
       "<div>\n",
       "<style scoped>\n",
       "    .dataframe tbody tr th:only-of-type {\n",
       "        vertical-align: middle;\n",
       "    }\n",
       "\n",
       "    .dataframe tbody tr th {\n",
       "        vertical-align: top;\n",
       "    }\n",
       "\n",
       "    .dataframe thead th {\n",
       "        text-align: right;\n",
       "    }\n",
       "</style>\n",
       "<table border=\"1\" class=\"dataframe\">\n",
       "  <thead>\n",
       "    <tr style=\"text-align: right;\">\n",
       "      <th></th>\n",
       "      <th>user_id</th>\n",
       "      <th>first_date</th>\n",
       "      <th>first_device_type</th>\n",
       "      <th>first_region_name</th>\n",
       "      <th>first_service_name</th>\n",
       "      <th>first_event_type</th>\n",
       "      <th>last_date</th>\n",
       "      <th>cnt_orders</th>\n",
       "      <th>mean_revenue_rub</th>\n",
       "      <th>tickets_mean</th>\n",
       "      <th>days_mean</th>\n",
       "    </tr>\n",
       "  </thead>\n",
       "  <tbody>\n",
       "    <tr>\n",
       "      <th>0</th>\n",
       "      <td>0002849b70a3ce2</td>\n",
       "      <td>2024-08-20</td>\n",
       "      <td>mobile</td>\n",
       "      <td>Каменевский регион</td>\n",
       "      <td>Край билетов</td>\n",
       "      <td>театр</td>\n",
       "      <td>2024-08-20</td>\n",
       "      <td>1</td>\n",
       "      <td>1521.940000</td>\n",
       "      <td>4.000000</td>\n",
       "      <td>-1.000000</td>\n",
       "    </tr>\n",
       "    <tr>\n",
       "      <th>1</th>\n",
       "      <td>0005ca5e93f2cf4</td>\n",
       "      <td>2024-07-23</td>\n",
       "      <td>mobile</td>\n",
       "      <td>Каменевский регион</td>\n",
       "      <td>Мой билет</td>\n",
       "      <td>выставки</td>\n",
       "      <td>2024-10-06</td>\n",
       "      <td>2</td>\n",
       "      <td>774.010000</td>\n",
       "      <td>3.000000</td>\n",
       "      <td>37.000000</td>\n",
       "    </tr>\n",
       "    <tr>\n",
       "      <th>2</th>\n",
       "      <td>000898990054619</td>\n",
       "      <td>2024-07-13</td>\n",
       "      <td>mobile</td>\n",
       "      <td>Североярская область</td>\n",
       "      <td>Лови билет!</td>\n",
       "      <td>другое</td>\n",
       "      <td>2024-10-23</td>\n",
       "      <td>3</td>\n",
       "      <td>767.213333</td>\n",
       "      <td>2.666667</td>\n",
       "      <td>33.666667</td>\n",
       "    </tr>\n",
       "    <tr>\n",
       "      <th>3</th>\n",
       "      <td>00096d1f542ab2b</td>\n",
       "      <td>2024-08-15</td>\n",
       "      <td>desktop</td>\n",
       "      <td>Каменевский регион</td>\n",
       "      <td>Край билетов</td>\n",
       "      <td>театр</td>\n",
       "      <td>2024-08-15</td>\n",
       "      <td>1</td>\n",
       "      <td>917.830000</td>\n",
       "      <td>4.000000</td>\n",
       "      <td>-1.000000</td>\n",
       "    </tr>\n",
       "    <tr>\n",
       "      <th>4</th>\n",
       "      <td>000a55a418c128c</td>\n",
       "      <td>2024-09-29</td>\n",
       "      <td>mobile</td>\n",
       "      <td>Поленовский край</td>\n",
       "      <td>Лучшие билеты</td>\n",
       "      <td>театр</td>\n",
       "      <td>2024-10-15</td>\n",
       "      <td>2</td>\n",
       "      <td>61.310000</td>\n",
       "      <td>1.500000</td>\n",
       "      <td>7.500000</td>\n",
       "    </tr>\n",
       "  </tbody>\n",
       "</table>\n",
       "</div>"
      ],
      "text/plain": [
       "           user_id first_date first_device_type     first_region_name  \\\n",
       "0  0002849b70a3ce2 2024-08-20            mobile    Каменевский регион   \n",
       "1  0005ca5e93f2cf4 2024-07-23            mobile    Каменевский регион   \n",
       "2  000898990054619 2024-07-13            mobile  Североярская область   \n",
       "3  00096d1f542ab2b 2024-08-15           desktop    Каменевский регион   \n",
       "4  000a55a418c128c 2024-09-29            mobile      Поленовский край   \n",
       "\n",
       "  first_service_name first_event_type  last_date  cnt_orders  \\\n",
       "0       Край билетов            театр 2024-08-20           1   \n",
       "1          Мой билет         выставки 2024-10-06           2   \n",
       "2        Лови билет!           другое 2024-10-23           3   \n",
       "3       Край билетов            театр 2024-08-15           1   \n",
       "4      Лучшие билеты            театр 2024-10-15           2   \n",
       "\n",
       "   mean_revenue_rub  tickets_mean  days_mean  \n",
       "0       1521.940000      4.000000  -1.000000  \n",
       "1        774.010000      3.000000  37.000000  \n",
       "2        767.213333      2.666667  33.666667  \n",
       "3        917.830000      4.000000  -1.000000  \n",
       "4         61.310000      1.500000   7.500000  "
      ]
     },
     "execution_count": 30,
     "metadata": {},
     "output_type": "execute_result"
    }
   ],
   "source": [
    "# Датафрейм с информацией по первому заказу пользователя\n",
    "user_first_order = df[(df['days_since_prev'] == -1)][['user_id', 'created_dt_msk', 'device_type_canonical', 'region_name', \n",
    "                                                'service_name', 'event_type_main']].set_index('user_id')\n",
    "\n",
    "user_first_order.rename(columns={'created_dt_msk': 'first_date'}, inplace=True)\n",
    "\n",
    "agg_method = {'created_dt_msk': 'max', 'order_id': 'count', 'revenue_rub': 'mean', 'tickets_count': 'mean', \n",
    "           'days_since_prev': 'mean'}\n",
    "\n",
    "# Датафрейм с агрегированными показателями пользователя \n",
    "user_group = df.groupby('user_id').agg(agg_method)\n",
    "user_group.rename(columns={'created_dt_msk': 'last_date'}, inplace=True)\n",
    "# Объединяем таблицы в одну\n",
    "user_profile = user_first_order.merge(user_group, on='user_id')\n",
    "\n",
    "# Выведем первые 5 строк анкеты\n",
    "user_profile.reset_index(inplace=True) # Уберем поле user_id из индекса для дальнейшей работы\n",
    "user_profile.columns = ['user_id', 'first_date', 'first_device_type', 'first_region_name', 'first_service_name', \n",
    "'first_event_type', 'last_date', 'cnt_orders', 'mean_revenue_rub', 'tickets_mean', 'days_mean']\n",
    "user_profile.head()"
   ]
  },
  {
   "cell_type": "code",
   "execution_count": 31,
   "id": "fa653874",
   "metadata": {},
   "outputs": [],
   "source": [
    "# Создадим столбец is_two\n",
    "user_orders = df.groupby('user_id')['order_id'].nunique()\n",
    "user_profile['is_two'] = user_profile['user_id'].map(user_orders).apply(lambda x: 1 if x >= 2 else 0)"
   ]
  },
  {
   "cell_type": "code",
   "execution_count": 32,
   "id": "cfa18f00",
   "metadata": {},
   "outputs": [
    {
     "data": {
      "text/html": [
       "<div>\n",
       "<style scoped>\n",
       "    .dataframe tbody tr th:only-of-type {\n",
       "        vertical-align: middle;\n",
       "    }\n",
       "\n",
       "    .dataframe tbody tr th {\n",
       "        vertical-align: top;\n",
       "    }\n",
       "\n",
       "    .dataframe thead th {\n",
       "        text-align: right;\n",
       "    }\n",
       "</style>\n",
       "<table border=\"1\" class=\"dataframe\">\n",
       "  <thead>\n",
       "    <tr style=\"text-align: right;\">\n",
       "      <th></th>\n",
       "      <th>user_id</th>\n",
       "      <th>is_two</th>\n",
       "      <th>is_five</th>\n",
       "    </tr>\n",
       "  </thead>\n",
       "  <tbody>\n",
       "    <tr>\n",
       "      <th>0</th>\n",
       "      <td>0002849b70a3ce2</td>\n",
       "      <td>0</td>\n",
       "      <td>0</td>\n",
       "    </tr>\n",
       "    <tr>\n",
       "      <th>1</th>\n",
       "      <td>0005ca5e93f2cf4</td>\n",
       "      <td>1</td>\n",
       "      <td>0</td>\n",
       "    </tr>\n",
       "    <tr>\n",
       "      <th>2</th>\n",
       "      <td>000898990054619</td>\n",
       "      <td>1</td>\n",
       "      <td>0</td>\n",
       "    </tr>\n",
       "    <tr>\n",
       "      <th>3</th>\n",
       "      <td>00096d1f542ab2b</td>\n",
       "      <td>0</td>\n",
       "      <td>0</td>\n",
       "    </tr>\n",
       "    <tr>\n",
       "      <th>4</th>\n",
       "      <td>000a55a418c128c</td>\n",
       "      <td>1</td>\n",
       "      <td>0</td>\n",
       "    </tr>\n",
       "  </tbody>\n",
       "</table>\n",
       "</div>"
      ],
      "text/plain": [
       "           user_id  is_two  is_five\n",
       "0  0002849b70a3ce2       0        0\n",
       "1  0005ca5e93f2cf4       1        0\n",
       "2  000898990054619       1        0\n",
       "3  00096d1f542ab2b       0        0\n",
       "4  000a55a418c128c       1        0"
      ]
     },
     "execution_count": 32,
     "metadata": {},
     "output_type": "execute_result"
    }
   ],
   "source": [
    "# Создадим столбец is_five\n",
    "user_orders = df.groupby('user_id')['order_id'].nunique()\n",
    "user_profile['is_five'] = user_profile['user_id'].map(user_orders).apply(lambda x: 1 if x >= 5 else 0)\n",
    "\n",
    "# Проверим наличие новых столбцов \n",
    "user_profile[['user_id', 'is_two', 'is_five']].head()"
   ]
  },
  {
   "cell_type": "markdown",
   "id": "1LGZVL7FhrmD",
   "metadata": {
    "id": "1LGZVL7FhrmD"
   },
   "source": [
    "---\n",
    "\n",
    "**Задача 3.2.** Прежде чем проводить исследовательский анализ данных и делать выводы, важно понять, с какими данными вы работаете: насколько они репрезентативны и нет ли в них аномалий.\n",
    "\n",
    "Используя данные о профилях пользователей, рассчитайте:\n",
    "\n",
    "- общее число пользователей в выборке;\n",
    "- среднюю выручку с одного заказа;\n",
    "- долю пользователей, совершивших 2 и более заказа;\n",
    "- долю пользователей, совершивших 5 и более заказов.\n",
    "\n",
    "Также изучите статистические показатели:\n",
    "\n",
    "- по общему числу заказов;\n",
    "- по среднему числу билетов в заказе;\n",
    "- по среднему количеству дней между покупками.\n",
    "\n",
    "По результатам оцените данные: достаточно ли их по объёму, есть ли аномальные значения в данных о количестве заказов и среднем количестве билетов?\n",
    "\n",
    "Если вы найдёте аномальные значения, опишите их и примите обоснованное решение о том, как с ними поступить:\n",
    "\n",
    "- Оставить и учитывать их при анализе?\n",
    "- Отфильтровать данные по какому-то значению, например, по 95-му или 99-му перцентилю?\n",
    "\n",
    "Если вы проведёте фильтрацию, то вычислите объём отфильтрованных данных и выведите статистические показатели по обновлённому датасету."
   ]
  },
  {
   "cell_type": "code",
   "execution_count": 33,
   "id": "557be834",
   "metadata": {
    "id": "557be834"
   },
   "outputs": [
    {
     "name": "stdout",
     "output_type": "stream",
     "text": [
      "Общее число пользователей: 21933\n",
      "Средяя выручка с одного заказа: 555.57\n",
      "Доля пользователей, совершивших 2 и более заказа: 0.62\n",
      "Доля пользователей, совершивших 5 и более заказов: 0.29\n"
     ]
    }
   ],
   "source": [
    "# Пользуясь анкетой рассчитаем показатели user_profile\n",
    "\n",
    "sum_revenue = sum(user_profile['cnt_orders'] * user_profile['mean_revenue_rub'])\n",
    "\n",
    "\n",
    "print(f'''Общее число пользователей: {user_profile.shape[0]}\n",
    "Средяя выручка с одного заказа: {round(sum_revenue / sum(user_profile['cnt_orders']), 2)}\n",
    "Доля пользователей, совершивших 2 и более заказа: {round(user_profile['is_two'].mean(), 2)}\n",
    "Доля пользователей, совершивших 5 и более заказов: {round(user_profile['is_five'].mean(), 2)}''')"
   ]
  },
  {
   "cell_type": "code",
   "execution_count": 34,
   "id": "b1eee99f",
   "metadata": {
    "id": "b1eee99f"
   },
   "outputs": [
    {
     "data": {
      "text/html": [
       "<div>\n",
       "<style scoped>\n",
       "    .dataframe tbody tr th:only-of-type {\n",
       "        vertical-align: middle;\n",
       "    }\n",
       "\n",
       "    .dataframe tbody tr th {\n",
       "        vertical-align: top;\n",
       "    }\n",
       "\n",
       "    .dataframe thead th {\n",
       "        text-align: right;\n",
       "    }\n",
       "</style>\n",
       "<table border=\"1\" class=\"dataframe\">\n",
       "  <thead>\n",
       "    <tr style=\"text-align: right;\">\n",
       "      <th></th>\n",
       "      <th>cnt_orders</th>\n",
       "      <th>tickets_mean</th>\n",
       "      <th>days_mean</th>\n",
       "    </tr>\n",
       "  </thead>\n",
       "  <tbody>\n",
       "    <tr>\n",
       "      <th>count</th>\n",
       "      <td>21933.000000</td>\n",
       "      <td>21933.000000</td>\n",
       "      <td>21933.000000</td>\n",
       "    </tr>\n",
       "    <tr>\n",
       "      <th>mean</th>\n",
       "      <td>13.249943</td>\n",
       "      <td>2.755987</td>\n",
       "      <td>5.961859</td>\n",
       "    </tr>\n",
       "    <tr>\n",
       "      <th>std</th>\n",
       "      <td>122.470535</td>\n",
       "      <td>0.920739</td>\n",
       "      <td>11.080418</td>\n",
       "    </tr>\n",
       "    <tr>\n",
       "      <th>min</th>\n",
       "      <td>1.000000</td>\n",
       "      <td>1.000000</td>\n",
       "      <td>-1.000000</td>\n",
       "    </tr>\n",
       "    <tr>\n",
       "      <th>25%</th>\n",
       "      <td>1.000000</td>\n",
       "      <td>2.000000</td>\n",
       "      <td>-1.000000</td>\n",
       "    </tr>\n",
       "    <tr>\n",
       "      <th>50%</th>\n",
       "      <td>2.000000</td>\n",
       "      <td>2.764151</td>\n",
       "      <td>-0.166667</td>\n",
       "    </tr>\n",
       "    <tr>\n",
       "      <th>75%</th>\n",
       "      <td>5.000000</td>\n",
       "      <td>3.125000</td>\n",
       "      <td>9.200000</td>\n",
       "    </tr>\n",
       "    <tr>\n",
       "      <th>max</th>\n",
       "      <td>10251.000000</td>\n",
       "      <td>12.000000</td>\n",
       "      <td>73.500000</td>\n",
       "    </tr>\n",
       "  </tbody>\n",
       "</table>\n",
       "</div>"
      ],
      "text/plain": [
       "         cnt_orders  tickets_mean     days_mean\n",
       "count  21933.000000  21933.000000  21933.000000\n",
       "mean      13.249943      2.755987      5.961859\n",
       "std      122.470535      0.920739     11.080418\n",
       "min        1.000000      1.000000     -1.000000\n",
       "25%        1.000000      2.000000     -1.000000\n",
       "50%        2.000000      2.764151     -0.166667\n",
       "75%        5.000000      3.125000      9.200000\n",
       "max    10251.000000     12.000000     73.500000"
      ]
     },
     "execution_count": 34,
     "metadata": {},
     "output_type": "execute_result"
    }
   ],
   "source": [
    "# Изучим статистические показатели \n",
    "\n",
    "user_profile[['cnt_orders', 'tickets_mean', 'days_mean']].describe()"
   ]
  },
  {
   "cell_type": "markdown",
   "id": "843679f7",
   "metadata": {
    "id": "ff28dc17"
   },
   "source": [
    "- В столбце `cnt_orders` присутствуют аномально выское значения, при верхнем квартиле равном 5, стандартное отклонение равно 122, а максимум 10251. Отфильтруем значения по 95 процентилю\n",
    "\n",
    "- В столбце `tickets_mean` нет значений, похожий на аномальные.\n",
    "\n",
    "- В столбце `days_mean` высокий максимум, но он не нуждается в фильрации и обусловлен "
   ]
  },
  {
   "cell_type": "code",
   "execution_count": 35,
   "id": "26e9cc40",
   "metadata": {},
   "outputs": [
    {
     "data": {
      "text/html": [
       "<div>\n",
       "<style scoped>\n",
       "    .dataframe tbody tr th:only-of-type {\n",
       "        vertical-align: middle;\n",
       "    }\n",
       "\n",
       "    .dataframe tbody tr th {\n",
       "        vertical-align: top;\n",
       "    }\n",
       "\n",
       "    .dataframe thead th {\n",
       "        text-align: right;\n",
       "    }\n",
       "</style>\n",
       "<table border=\"1\" class=\"dataframe\">\n",
       "  <thead>\n",
       "    <tr style=\"text-align: right;\">\n",
       "      <th></th>\n",
       "      <th>cnt_orders</th>\n",
       "      <th>mean_revenue_rub</th>\n",
       "      <th>tickets_mean</th>\n",
       "      <th>days_mean</th>\n",
       "      <th>is_two</th>\n",
       "      <th>is_five</th>\n",
       "    </tr>\n",
       "  </thead>\n",
       "  <tbody>\n",
       "    <tr>\n",
       "      <th>count</th>\n",
       "      <td>20864.000000</td>\n",
       "      <td>20864.000000</td>\n",
       "      <td>20864.000000</td>\n",
       "      <td>20864.000000</td>\n",
       "      <td>20864.000000</td>\n",
       "      <td>20864.000000</td>\n",
       "    </tr>\n",
       "    <tr>\n",
       "      <th>mean</th>\n",
       "      <td>4.108081</td>\n",
       "      <td>575.920150</td>\n",
       "      <td>2.756520</td>\n",
       "      <td>6.161730</td>\n",
       "      <td>0.598639</td>\n",
       "      <td>0.255512</td>\n",
       "    </tr>\n",
       "    <tr>\n",
       "      <th>std</th>\n",
       "      <td>5.239384</td>\n",
       "      <td>569.276774</td>\n",
       "      <td>0.941957</td>\n",
       "      <td>11.321338</td>\n",
       "      <td>0.490186</td>\n",
       "      <td>0.436159</td>\n",
       "    </tr>\n",
       "    <tr>\n",
       "      <th>min</th>\n",
       "      <td>1.000000</td>\n",
       "      <td>-10.770000</td>\n",
       "      <td>1.000000</td>\n",
       "      <td>-1.000000</td>\n",
       "      <td>0.000000</td>\n",
       "      <td>0.000000</td>\n",
       "    </tr>\n",
       "    <tr>\n",
       "      <th>25%</th>\n",
       "      <td>1.000000</td>\n",
       "      <td>204.980000</td>\n",
       "      <td>2.000000</td>\n",
       "      <td>-1.000000</td>\n",
       "      <td>0.000000</td>\n",
       "      <td>0.000000</td>\n",
       "    </tr>\n",
       "    <tr>\n",
       "      <th>50%</th>\n",
       "      <td>2.000000</td>\n",
       "      <td>465.379038</td>\n",
       "      <td>2.777778</td>\n",
       "      <td>-0.333333</td>\n",
       "      <td>1.000000</td>\n",
       "      <td>0.000000</td>\n",
       "    </tr>\n",
       "    <tr>\n",
       "      <th>75%</th>\n",
       "      <td>5.000000</td>\n",
       "      <td>798.905313</td>\n",
       "      <td>3.187500</td>\n",
       "      <td>9.800000</td>\n",
       "      <td>1.000000</td>\n",
       "      <td>1.000000</td>\n",
       "    </tr>\n",
       "    <tr>\n",
       "      <th>max</th>\n",
       "      <td>32.000000</td>\n",
       "      <td>16738.696667</td>\n",
       "      <td>12.000000</td>\n",
       "      <td>73.500000</td>\n",
       "      <td>1.000000</td>\n",
       "      <td>1.000000</td>\n",
       "    </tr>\n",
       "  </tbody>\n",
       "</table>\n",
       "</div>"
      ],
      "text/plain": [
       "         cnt_orders  mean_revenue_rub  tickets_mean     days_mean  \\\n",
       "count  20864.000000      20864.000000  20864.000000  20864.000000   \n",
       "mean       4.108081        575.920150      2.756520      6.161730   \n",
       "std        5.239384        569.276774      0.941957     11.321338   \n",
       "min        1.000000        -10.770000      1.000000     -1.000000   \n",
       "25%        1.000000        204.980000      2.000000     -1.000000   \n",
       "50%        2.000000        465.379038      2.777778     -0.333333   \n",
       "75%        5.000000        798.905313      3.187500      9.800000   \n",
       "max       32.000000      16738.696667     12.000000     73.500000   \n",
       "\n",
       "             is_two       is_five  \n",
       "count  20864.000000  20864.000000  \n",
       "mean       0.598639      0.255512  \n",
       "std        0.490186      0.436159  \n",
       "min        0.000000      0.000000  \n",
       "25%        0.000000      0.000000  \n",
       "50%        1.000000      0.000000  \n",
       "75%        1.000000      1.000000  \n",
       "max        1.000000      1.000000  "
      ]
     },
     "execution_count": 35,
     "metadata": {},
     "output_type": "execute_result"
    }
   ],
   "source": [
    "user_profile = user_profile[user_profile['cnt_orders'] <= user_profile['cnt_orders'].quantile(0.95)]\n",
    "user_profile.describe()"
   ]
  },
  {
   "cell_type": "markdown",
   "id": "10926043",
   "metadata": {},
   "source": [
    "После фильтрации по 95му процентилю из 21933 значений осталось 20864, максимум с 10251 снизился до 32, а стандартное отклонение со 122.4 до 5.2"
   ]
  },
  {
   "cell_type": "markdown",
   "id": "6yhiv3t1mPNU",
   "metadata": {
    "id": "6yhiv3t1mPNU"
   },
   "source": [
    "---\n",
    "\n",
    "### 4. Исследовательский анализ данных\n",
    "\n",
    "Следующий этап — исследование признаков, влияющих на возврат пользователей, то есть на совершение повторного заказа. Для этого используйте профили пользователей."
   ]
  },
  {
   "cell_type": "markdown",
   "id": "6fe731c3",
   "metadata": {
    "id": "6fe731c3"
   },
   "source": [
    "\n",
    "\n",
    "#### 4.1. Исследование признаков первого заказа и их связи с возвращением на платформу\n",
    "\n",
    "Исследуйте признаки, описывающие первый заказ пользователя, и выясните, влияют ли они на вероятность возвращения пользователя.\n",
    "\n",
    "---\n",
    "\n",
    "**Задача 4.1.1.** Изучите распределение пользователей по признакам.\n",
    "\n",
    "- Сгруппируйте пользователей:\n",
    "    - по типу их первого мероприятия;\n",
    "    - по типу устройства, с которого совершена первая покупка;\n",
    "    - по региону проведения мероприятия из первого заказа;\n",
    "    - по билетному оператору, продавшему билеты на первый заказ.\n",
    "- Подсчитайте общее количество пользователей в каждом сегменте и их долю в разрезе каждого признака. Сегмент — это группа пользователей, объединённых определённым признаком, то есть объединённые принадлежностью к категории. Например, все клиенты, сделавшие первый заказ с мобильного телефона, — это сегмент.\n",
    "- Ответьте на вопрос: равномерно ли распределены пользователи по сегментам или есть выраженные «точки входа» — сегменты с наибольшим числом пользователей?\n",
    "\n",
    "---\n"
   ]
  },
  {
   "cell_type": "code",
   "execution_count": 36,
   "id": "a8228a03",
   "metadata": {
    "id": "a8228a03"
   },
   "outputs": [
    {
     "data": {
      "text/plain": [
       "Text(0, 0.5, 'кол-во пользователей')"
      ]
     },
     "execution_count": 36,
     "metadata": {},
     "output_type": "execute_result"
    },
    {
     "data": {
      "image/png": "[encoded data removed]",
      "text/plain": [
       "<Figure size 720x432 with 1 Axes>"
      ]
     },
     "metadata": {
      "needs_background": "light"
     },
     "output_type": "display_data"
    }
   ],
   "source": [
    "# Сгруппируем пользователей по типу мероприятия\n",
    "group_event_type = user_profile.groupby('first_event_type')\n",
    "\n",
    "# Посмотрим кол-во пользователей по сегментам а так же отобразим их долю припопомщи визуализации\n",
    "group_event_type['user_id'].count().sort_values(ascending=False).plot(kind='bar', figsize=(10, 6))\n",
    "plt.title('Кол-во пользователей по типу первого мероприятия', size=20)\n",
    "plt.xlabel('тип мероприятия', size=15)\n",
    "plt.ylabel('кол-во пользователей', size=15)"
   ]
  },
  {
   "cell_type": "markdown",
   "id": "b9e1ed47",
   "metadata": {
    "id": "b5e97b12"
   },
   "source": [
    "Больше всего пользователей впервые посетили мероприятие, одного из следующих типов: \n",
    "- Концерт - более 8 тыс.\n",
    "- Другое - около 5 тыс.\n",
    "- театр - около 4 тыс."
   ]
  },
  {
   "cell_type": "code",
   "execution_count": 37,
   "id": "02aedf63",
   "metadata": {
    "id": "02aedf63"
   },
   "outputs": [
    {
     "data": {
      "text/plain": [
       "Text(0, 0.5, 'кол-во пользователей')"
      ]
     },
     "execution_count": 37,
     "metadata": {},
     "output_type": "execute_result"
    },
    {
     "data": {
      "image/png": "[encoded data removed]",
      "text/plain": [
       "<Figure size 720x432 with 1 Axes>"
      ]
     },
     "metadata": {
      "needs_background": "light"
     },
     "output_type": "display_data"
    }
   ],
   "source": [
    "# Сгруппируем пользователей по типу устройства \n",
    "group_event_type = user_profile.groupby('first_device_type')\n",
    "\n",
    "# Посмотрим кол-во пользователей по сегментам а так же отобразим их долю припопомщи визуализации\n",
    "group_event_type['user_id'].count().sort_values(ascending=False).plot(kind='bar', figsize=(10, 6))\n",
    "plt.title('Кол-во пользователей по типу первого устройства', size=20)\n",
    "plt.xlabel('тип устройства', size=15)\n",
    "plt.ylabel('кол-во пользователей', size=15)"
   ]
  },
  {
   "cell_type": "markdown",
   "id": "bc41f3bb",
   "metadata": {},
   "source": [
    "Большинство первых заказов сделаны с мобильного телефон - 16 тыс."
   ]
  },
  {
   "cell_type": "code",
   "execution_count": 38,
   "id": "c8d8f608",
   "metadata": {},
   "outputs": [
    {
     "data": {
      "text/plain": [
       "Text(0, 0.5, 'кол-во пользователей')"
      ]
     },
     "execution_count": 38,
     "metadata": {},
     "output_type": "execute_result"
    },
    {
     "data": {
      "image/png": "[encoded data removed]",
      "text/plain": [
       "<Figure size 720x432 with 1 Axes>"
      ]
     },
     "metadata": {
      "needs_background": "light"
     },
     "output_type": "display_data"
    }
   ],
   "source": [
    "# Сгруппируем пользователей по региону \n",
    "group_event_type = user_profile.groupby('first_region_name')\n",
    "\n",
    "# Посмотрим кол-во пользователей по сегментам а так же отобразим их долю припопомщи визуализации\n",
    "group_event_type['user_id'].count().sort_values(ascending=False).iloc[:15].plot(kind='bar', figsize=(10, 6))\n",
    "plt.title('Кол-во пользователей по региону первого заказа', size=20)\n",
    "plt.xlabel('регион', size=15)\n",
    "plt.ylabel('кол-во пользователей', size=15)"
   ]
  },
  {
   "cell_type": "markdown",
   "id": "d4797366",
   "metadata": {},
   "source": [
    "Большинство первых заказов сделаны с регионов:\n",
    "- Каменевский регион - более 6 тыс.\n",
    "- Североярская область - около 3.5 тыс.\n",
    "- Широковская область - более 1 тыс."
   ]
  },
  {
   "cell_type": "code",
   "execution_count": 39,
   "id": "1a426a2a",
   "metadata": {},
   "outputs": [
    {
     "data": {
      "text/plain": [
       "Text(0, 0.5, 'кол-во пользователей')"
      ]
     },
     "execution_count": 39,
     "metadata": {},
     "output_type": "execute_result"
    },
    {
     "data": {
      "image/png": "[encoded data removed]",
      "text/plain": [
       "<Figure size 720x432 with 1 Axes>"
      ]
     },
     "metadata": {
      "needs_background": "light"
     },
     "output_type": "display_data"
    }
   ],
   "source": [
    "# Сгруппируем пользователей по билетному оператору \n",
    "group_event_type = user_profile.groupby('first_service_name')\n",
    "\n",
    "# Посмотрим кол-во пользователей по сегментам а так же отобразим их долю припопомщи визуализации\n",
    "group_event_type['user_id'].count().sort_values(ascending=False).iloc[:15].plot(kind='bar', figsize=(10, 6))\n",
    "plt.title('Кол-во пользователей по первому билетному оператору', size=20)\n",
    "plt.xlabel('оператор', size=15)\n",
    "plt.ylabel('кол-во пользователей', size=15)"
   ]
  },
  {
   "cell_type": "markdown",
   "id": "2670ff8b",
   "metadata": {},
   "source": [
    "Большинство первых заказов сделаны у операторов:\n",
    "\n",
    "- Билеты без проблем - более 4 тыс.\n",
    "- Мой билет - около 3 тыс.\n",
    "- Лови билет! - около 2.5 тыс.\n",
    "- Билеты в руки - около 2.5 тыс.\n",
    "- Облачко - около 2 тыс.\n",
    "- Весь в билетах - более 1 тыс.\n",
    "- Лучшие билеты - более 1 тыс."
   ]
  },
  {
   "cell_type": "markdown",
   "id": "db4e7824",
   "metadata": {},
   "source": [
    "Во всех случаях пользователи распределены не равномерно, по каждому признаку видны \"точки входа\""
   ]
  },
  {
   "cell_type": "markdown",
   "id": "d8ffd79b",
   "metadata": {
    "id": "d8ffd79b"
   },
   "source": [
    "---\n",
    "\n",
    "**Задача 4.1.2.** Проанализируйте возвраты пользователей:\n",
    "\n",
    "- Для каждого сегмента вычислите долю пользователей, совершивших два и более заказа.\n",
    "- Визуализируйте результат подходящим графиком. Если сегментов слишком много, то поместите на график только 10 сегментов с наибольшим количеством пользователей. Такое возможно с сегментами по региону и по билетному оператору.\n",
    "- Ответьте на вопросы:\n",
    "    - Какие сегменты пользователей чаще возвращаются на Яндекс Афишу?\n",
    "    - Наблюдаются ли успешные «точки входа» — такие сегменты, в которых пользователи чаще совершают повторный заказ, чем в среднем по выборке?\n",
    "\n",
    "При интерпретации результатов учитывайте размер сегментов: если в сегменте мало пользователей (например, десятки), то доли могут быть нестабильными и недостоверными, то есть показывать широкую вариацию значений.\n",
    "\n",
    "---\n"
   ]
  },
  {
   "cell_type": "code",
   "execution_count": 40,
   "id": "548d068a",
   "metadata": {
    "id": "548d068a"
   },
   "outputs": [],
   "source": [
    "# Напишем функцию для подсчета конверсии и ее визуализации\n",
    "def conv(value, m=None):\n",
    "    users = user_profile.groupby(value)['user_id'].count() \n",
    "    users_is_two = user_profile[user_profile['is_two']==1].groupby(value)['user_id'].count()\n",
    "    convers = users_is_two / users * 100\n",
    "    return convers.sort_values(ascending=False).iloc[:m].plot(kind='bar', figsize=(8, 4))"
   ]
  },
  {
   "cell_type": "code",
   "execution_count": 41,
   "id": "6e2071b7",
   "metadata": {},
   "outputs": [
    {
     "data": {
      "text/plain": [
       "Text(0, 0.5, 'Конверсия, %')"
      ]
     },
     "execution_count": 41,
     "metadata": {},
     "output_type": "execute_result"
    },
    {
     "data": {
      "image/png": "[encoded data removed]",
      "text/plain": [
       "<Figure size 576x288 with 1 Axes>"
      ]
     },
     "metadata": {
      "needs_background": "light"
     },
     "output_type": "display_data"
    }
   ],
   "source": [
    "# строим визуализации по сегментам столбца\n",
    "conv('first_event_type')\n",
    "plt.title('конверсия по сегментам first_event_type', size=15)\n",
    "plt.ylabel('Конверсия, %', size=12)"
   ]
  },
  {
   "cell_type": "code",
   "execution_count": 42,
   "id": "27441ea8",
   "metadata": {
    "id": "27441ea8"
   },
   "outputs": [
    {
     "data": {
      "text/plain": [
       "Text(0, 0.5, 'Конверсия, %')"
      ]
     },
     "execution_count": 42,
     "metadata": {},
     "output_type": "execute_result"
    },
    {
     "data": {
      "image/png": "[encoded data removed]",
      "text/plain": [
       "<Figure size 576x288 with 1 Axes>"
      ]
     },
     "metadata": {
      "needs_background": "light"
     },
     "output_type": "display_data"
    }
   ],
   "source": [
    "# строим визуализации по сегментам столбца\n",
    "conv('first_device_type')\n",
    "plt.title('конверсия по сегментам first_device_type', size=15)\n",
    "plt.ylabel('Конверсия, %', size=12)"
   ]
  },
  {
   "cell_type": "code",
   "execution_count": 43,
   "id": "2da12c2e",
   "metadata": {
    "id": "2da12c2e"
   },
   "outputs": [
    {
     "data": {
      "text/plain": [
       "Text(0, 0.5, 'Конверсия, %')"
      ]
     },
     "execution_count": 43,
     "metadata": {},
     "output_type": "execute_result"
    },
    {
     "data": {
      "image/png": "[encoded data removed]",
      "text/plain": [
       "<Figure size 576x288 with 1 Axes>"
      ]
     },
     "metadata": {
      "needs_background": "light"
     },
     "output_type": "display_data"
    }
   ],
   "source": [
    "# строим визуализации по сегментам столбца\n",
    "conv('first_region_name', 10)\n",
    "plt.title('конверсия по сегментам first_region_name', size=15)\n",
    "plt.ylabel('Конверсия, %', size=12)"
   ]
  },
  {
   "cell_type": "code",
   "execution_count": 44,
   "id": "febb6885",
   "metadata": {},
   "outputs": [
    {
     "data": {
      "text/plain": [
       "Text(0, 0.5, 'Конверсия, %')"
      ]
     },
     "execution_count": 44,
     "metadata": {},
     "output_type": "execute_result"
    },
    {
     "data": {
      "image/png": "[encoded data removed]",
      "text/plain": [
       "<Figure size 576x288 with 1 Axes>"
      ]
     },
     "metadata": {
      "needs_background": "light"
     },
     "output_type": "display_data"
    }
   ],
   "source": [
    "# строим визуализации по сегментам столбца\n",
    "conv('first_service_name', 10)\n",
    "plt.title('конверсия по сегментам first_service_name', size=15)\n",
    "plt.ylabel('Конверсия, %', size=12)"
   ]
  },
  {
   "cell_type": "markdown",
   "id": "09b7aead",
   "metadata": {},
   "source": [
    "По графикам видно, что коверсия не сильно зависит от сегментации, однако среди регионов и сервисов есть сегменты с конверсией, стремящейся к 100%: сервис Зе Бест! и Верхозерский край. Это может быть связано с малым числом пользователей по сегменту в целом."
   ]
  },
  {
   "cell_type": "markdown",
   "id": "1cd85c08",
   "metadata": {
    "id": "1cd85c08",
    "outputId": "0afbc606-1346-4bf6-f188-550c838d0f5d",
    "scrolled": false
   },
   "source": [
    "---\n",
    "\n",
    "**Задача 4.1.3.** Опираясь на выводы из задач выше, проверьте продуктовые гипотезы:\n",
    "\n",
    "- **Гипотеза 1.** Тип мероприятия влияет на вероятность возврата на Яндекс Афишу: пользователи, которые совершили первый заказ на спортивные мероприятия, совершают повторный заказ чаще, чем пользователи, оформившие свой первый заказ на концерты.\n",
    "- **Гипотеза 2.** В регионах, где больше всего пользователей посещают мероприятия, выше доля повторных заказов, чем в менее активных регионах.\n",
    "\n",
    "---"
   ]
  },
  {
   "cell_type": "markdown",
   "id": "d632fb56",
   "metadata": {
    "id": "dcc3e24d"
   },
   "source": [
    "Гипотеза 1\n",
    "Некорректно сравнивать показатели тк на концерт приходило примерно в 9 раз больше пользователей чем на спортивные мероприятия, однако если смотреть на конверсию, то в случае концертов она больше, чем в случае спортивных мероприятий, таким образом мы можем говорить о том, что первая гипотеза не имеет обоснованного подтверждения"
   ]
  },
  {
   "cell_type": "markdown",
   "id": "cc644053",
   "metadata": {
    "id": "1f023ef3"
   },
   "source": [
    "Гипотеза 2\n",
    "Большинство первых заказов сделаны с регионов: Каменевский регион, Североярская область, Широковская область. Эти регионы не входят в топ 10 по величине конверсии пользователей в пользователей, совершивших 2 и более покупки, таким образом вторая гипотеза не подтвердилась "
   ]
  },
  {
   "cell_type": "markdown",
   "id": "88c3b292",
   "metadata": {
    "id": "88c3b292"
   },
   "source": [
    "---\n",
    "\n",
    "#### 4.2. Исследование поведения пользователей через показатели выручки и состава заказа\n",
    "\n",
    "Изучите количественные характеристики заказов пользователей, чтобы узнать среднюю выручку сервиса с заказа и количество билетов, которое пользователи обычно покупают.\n",
    "\n",
    "Эти метрики важны не только для оценки выручки, но и для оценки вовлечённости пользователей. Возможно, пользователи с более крупными и дорогими заказами более заинтересованы в сервисе и поэтому чаще возвращаются.\n",
    "\n",
    "---\n",
    "\n",
    "**Задача 4.2.1.** Проследите связь между средней выручкой сервиса с заказа и повторными заказами.\n",
    "\n",
    "- Постройте сравнительные гистограммы распределения средней выручки с билета (`avg_revenue_rub`):\n",
    "    - для пользователей, совершивших один заказ;\n",
    "    - для вернувшихся пользователей, совершивших 2 и более заказа.\n",
    "- Ответьте на вопросы:\n",
    "    - В каких диапазонах средней выручки концентрируются пользователи из каждой группы?\n",
    "    - Есть ли различия между группами?\n",
    "\n",
    "Текст на сером фоне:\n",
    "    \n",
    "**Рекомендация:**\n",
    "\n",
    "1. Используйте одинаковые интервалы (`bins`) и прозрачность (`alpha`), чтобы визуально сопоставить распределения.\n",
    "2. Задайте параметру `density` значение `True`, чтобы сравнивать форму распределений, даже если число пользователей в группах отличается.\n",
    "\n",
    "---\n"
   ]
  },
  {
   "cell_type": "code",
   "execution_count": 45,
   "id": "a63c4025",
   "metadata": {
    "id": "a63c4025"
   },
   "outputs": [
    {
     "data": {
      "image/png": "[encoded data removed]",
      "text/plain": [
       "<Figure size 720x432 with 1 Axes>"
      ]
     },
     "metadata": {
      "needs_background": "light"
     },
     "output_type": "display_data"
    }
   ],
   "source": [
    "plt.figure(figsize=(10, 6))\n",
    "plt.hist(user_profile[user_profile['is_two']==1]['mean_revenue_rub'][user_profile['mean_revenue_rub'] < 3000], \n",
    "         bins=50, alpha=0.6, density=True, label='is_two=1')\n",
    "plt.hist(user_profile[user_profile['is_two']==0]['mean_revenue_rub'][user_profile['mean_revenue_rub'] < 3000], \n",
    "         bins=50, alpha=0.6, density=True, label='is_two=0')\n",
    "# часть выбросов мы урезали параметром user_profile['mean_revenue_rub'] < 3000 для более наглядного отображения\n",
    "plt.title('Гистограммы распределения выручки по сегментам пользователей', size=18, pad=15)\n",
    "plt.xlabel('средняя выручка', size=15)\n",
    "plt.grid()\n",
    "plt.legend()\n",
    "plt.show()"
   ]
  },
  {
   "cell_type": "markdown",
   "id": "dc3fa968",
   "metadata": {
    "id": "262616d0"
   },
   "source": [
    "Между группами присутствует различие. Среди пользователей, не совершивших повторный заказ наблюдается резкий скачок кол-ва значений в интервале от 0 до ~200, среди тех, кто совершил повторыный заказ, данные распределены более равномерно, наблюдается большее кол-во значений в диапазоне от 200 до 1000"
   ]
  },
  {
   "cell_type": "markdown",
   "id": "f5416363",
   "metadata": {
    "id": "f5416363",
    "outputId": "59988e63-21c8-4fbe-e009-5769b1e83a42"
   },
   "source": [
    "---\n",
    "\n",
    "**Задача 4.2.2.** Сравните распределение по средней выручке с заказа в двух группах пользователей:\n",
    "\n",
    "- совершившие 2–4 заказа;\n",
    "- совершившие 5 и более заказов.\n",
    "\n",
    "Ответьте на вопрос: есть ли различия по значению средней выручки с заказа между пользователями этих двух групп?\n",
    "\n",
    "---\n"
   ]
  },
  {
   "cell_type": "code",
   "execution_count": 59,
   "id": "2ed4916f",
   "metadata": {
    "id": "2ed4916f"
   },
   "outputs": [
    {
     "data": {
      "image/png": "[encoded data removed]",
      "text/plain": [
       "<Figure size 720x432 with 1 Axes>"
      ]
     },
     "metadata": {
      "needs_background": "light"
     },
     "output_type": "display_data"
    }
   ],
   "source": [
    "plt.figure(figsize=(10, 6))\n",
    "plt.hist(user_profile[user_profile['is_five']==1]['mean_revenue_rub'][user_profile['mean_revenue_rub'] < 3000], \n",
    "         bins=50, alpha=0.6, density=True, label='is_five=1')\n",
    "plt.hist(user_profile[(user_profile['is_five']==0)\n",
    "                     & user_profile['is_two']==1]['mean_revenue_rub'][user_profile['mean_revenue_rub'] < 3000], \n",
    "         bins=50, alpha=0.6, density=True, label='is_two=1')\n",
    "# часть выбросов мы урезали параметром user_profile['mean_revenue_rub'] < 3000 для более наглядного отображения\n",
    "plt.title('Гистограммы распределения выручки по сегментам пользователей', size=18, pad=15)\n",
    "plt.xlabel('средняя выручка', size=15)\n",
    "plt.grid()\n",
    "plt.legend()\n",
    "plt.show()"
   ]
  },
  {
   "cell_type": "markdown",
   "id": "3dd460af",
   "metadata": {
    "id": "1a101c4c"
   },
   "source": [
    "Среди представленных групп есть различия по средней выручке: разница аналогична сравнения групп по признаку `is_two`:\n",
    "Распределения значений is_five=1 ближе к нормальному, мода приблизительно равно 500, в случае же с is_five=0 клиентами мода находится в значениях близких к нулю"
   ]
  },
  {
   "cell_type": "markdown",
   "id": "c40138c8",
   "metadata": {
    "id": "c40138c8"
   },
   "source": [
    "---\n",
    "\n",
    "**Задача 4.2.3.** Проанализируйте влияние среднего количества билетов в заказе на вероятность повторной покупки.\n",
    "\n",
    "- Изучите распределение пользователей по среднему количеству билетов в заказе (`avg_tickets_count`) и опишите основные наблюдения.\n",
    "- Разделите пользователей на несколько сегментов по среднему количеству билетов в заказе:\n",
    "    - от 1 до 2 билетов;\n",
    "    - от 2 до 3 билетов;\n",
    "    - от 3 до 5 билетов;\n",
    "    - от 5 и более билетов.\n",
    "- Для каждого сегмента подсчитайте общее число пользователей и долю пользователей, совершивших повторные заказы.\n",
    "- Ответьте на вопросы:\n",
    "    - Как распределены пользователи по сегментам — равномерно или сконцентрировано?\n",
    "    - Есть ли сегменты с аномально высокой или низкой долей повторных покупок?\n",
    "\n",
    "---"
   ]
  },
  {
   "cell_type": "code",
   "execution_count": 47,
   "id": "3cff9697",
   "metadata": {
    "id": "3cff9697"
   },
   "outputs": [
    {
     "data": {
      "image/png": "[encoded data removed]",
      "text/plain": [
       "<Figure size 432x288 with 1 Axes>"
      ]
     },
     "metadata": {
      "needs_background": "light"
     },
     "output_type": "display_data"
    }
   ],
   "source": [
    "# Изучим распределение пользователей по среднему количеству билетов в заказе\n",
    "plt.hist(user_profile['tickets_mean'], bins=12, edgecolor='k')\n",
    "plt.show()"
   ]
  },
  {
   "cell_type": "markdown",
   "id": "9cce7d94",
   "metadata": {
    "id": "c2b400f2"
   },
   "source": [
    "Среднее кол-во билетов имеет нормальное распределение, большинство значений лежат в диапазоне 2-4"
   ]
  },
  {
   "cell_type": "code",
   "execution_count": 48,
   "id": "1143a357",
   "metadata": {},
   "outputs": [],
   "source": [
    "# Разделим пользователей на сегменты \n",
    "bins = [1, 2, 3, 5, user_profile['tickets_mean'].max()+1]\n",
    "labels = ['1-2 билета', '2-3 билета', '3-5 билетов', '5+ билетов']\n",
    "user_profile['tickets_category'] = pd.cut(user_profile['tickets_mean'], bins=bins, labels=labels, include_lowest=True)"
   ]
  },
  {
   "cell_type": "code",
   "execution_count": 49,
   "id": "25a5f8d1",
   "metadata": {},
   "outputs": [
    {
     "data": {
      "image/png": "[encoded data removed]",
      "text/plain": [
       "<Figure size 576x288 with 1 Axes>"
      ]
     },
     "metadata": {
      "needs_background": "light"
     },
     "output_type": "display_data"
    }
   ],
   "source": [
    "# общее число пользователей по сегментам \n",
    "user_profile.groupby('tickets_category')['user_id'].count().sort_values(ascending=False).plot(kind='bar', figsize=(8, 4))\n",
    "plt.title('Кол-во пользователей в разрезе сегмента', size=15)\n",
    "plt.show()"
   ]
  },
  {
   "cell_type": "code",
   "execution_count": 50,
   "id": "4ac7ac7a",
   "metadata": {
    "scrolled": true
   },
   "outputs": [
    {
     "data": {
      "image/png": "[encoded data removed]",
      "text/plain": [
       "<Figure size 576x288 with 1 Axes>"
      ]
     },
     "metadata": {
      "needs_background": "light"
     },
     "output_type": "display_data"
    }
   ],
   "source": [
    "# Доля пользователей, совершивших повторные заказы в разрезе сегмента\n",
    "conv('tickets_category') # Воспользуемся ранее написанной функцией\n",
    "plt.title('Доля пользователей, совершивших повторные заказы в разрезе сегмента', size=15)\n",
    "plt.show()"
   ]
  },
  {
   "cell_type": "markdown",
   "id": "c733b433",
   "metadata": {},
   "source": [
    "Пользователи распределены по сегментам не равномерно, большинство пользователей в среднем покупали 2-3 билета, тех кто брал 5 и более билетов сильно меньше.\n",
    "\n",
    "Сегменты с аномально высокой или низкой долей повторных покупок отсутствуют, все значения лежат в диапазоне 40-70%"
   ]
  },
  {
   "cell_type": "markdown",
   "id": "417e222d",
   "metadata": {
    "id": "417e222d"
   },
   "source": [
    "---\n",
    "\n",
    "#### 4.3. Исследование временных характеристик первого заказа и их влияния на повторные покупки\n",
    "\n",
    "Изучите временные параметры, связанные с первым заказом пользователей:\n",
    "\n",
    "- день недели первой покупки;\n",
    "- время с момента первой покупки — лайфтайм;\n",
    "- средний интервал между покупками пользователей с повторными заказами.\n",
    "\n",
    "---\n",
    "\n",
    "**Задача 4.3.1.** Проанализируйте, как день недели, в которой была совершена первая покупка, влияет на поведение пользователей.\n",
    "\n",
    "- По данным даты первого заказа выделите день недели.\n",
    "- Для каждого дня недели подсчитайте общее число пользователей и долю пользователей, совершивших повторные заказы. Результаты визуализируйте.\n",
    "- Ответьте на вопрос: влияет ли день недели, в которую совершена первая покупка, на вероятность возврата клиента?\n",
    "\n",
    "---\n"
   ]
  },
  {
   "cell_type": "code",
   "execution_count": 51,
   "id": "1709f7ff",
   "metadata": {
    "id": "1709f7ff"
   },
   "outputs": [
    {
     "data": {
      "image/png": "[encoded data removed]",
      "text/plain": [
       "<Figure size 576x288 with 1 Axes>"
      ]
     },
     "metadata": {
      "needs_background": "light"
     },
     "output_type": "display_data"
    }
   ],
   "source": [
    "# Общее число пользователей в разрезе дня недели 1го заказа \n",
    "user_profile['first_dow'] = user_profile['first_date'].dt.dayofweek\n",
    "user_profile.groupby('first_dow')['user_id'].count().reset_index().sort_values(by='first_dow').set_index('first_dow').plot(\n",
    "kind='bar', figsize=(8, 4))\n",
    "plt.title('Общее число пользователей в разрезе дня недели 1го заказа', pad=15)\n",
    "plt.xlabel('день недели (0 - пн, 6 - вс)', size=12)\n",
    "plt.show()"
   ]
  },
  {
   "cell_type": "code",
   "execution_count": 52,
   "id": "d7ea10ee",
   "metadata": {
    "id": "d7ea10ee"
   },
   "outputs": [
    {
     "data": {
      "image/png": "[encoded data removed]",
      "text/plain": [
       "<Figure size 576x288 with 1 Axes>"
      ]
     },
     "metadata": {
      "needs_background": "light"
     },
     "output_type": "display_data"
    }
   ],
   "source": [
    "# Доля пользователей, совершивших повторные заказы\n",
    "users = user_profile.groupby('first_dow')['user_id'].count() \n",
    "users_is_two = user_profile[user_profile['is_two']==1].groupby('first_dow')['user_id'].count()\n",
    "convers = users_is_two / users * 100\n",
    "convers.reset_index().sort_values(by='first_dow').set_index('first_dow').plot(kind='bar', figsize=(8, 4))\n",
    "\n",
    "plt.title('Доля пользователей, совершивших повторные заказы', pad=15)\n",
    "plt.xlabel('день недели (0 - пн, 6 - вс)', size=12)\n",
    "plt.show()"
   ]
  },
  {
   "cell_type": "markdown",
   "id": "3402f8d1",
   "metadata": {
    "id": "cc5ac042"
   },
   "source": [
    "Основываясь на полученных данных, можем сделать вывод, что день недели не влияет на вероятность возврата клиента"
   ]
  },
  {
   "cell_type": "markdown",
   "id": "71d4e4b4",
   "metadata": {
    "id": "71d4e4b4"
   },
   "source": [
    "---\n",
    "\n",
    "**Задача 4.3.2.** Изучите, как средний интервал между заказами влияет на удержание клиентов.\n",
    "\n",
    "- Рассчитайте среднее время между заказами для двух групп пользователей:\n",
    "    - совершившие 2–4 заказа;\n",
    "    - совершившие 5 и более заказов.\n",
    "- Исследуйте, как средний интервал между заказами влияет на вероятность повторного заказа, и сделайте выводы.\n",
    "\n",
    "---\n"
   ]
  },
  {
   "cell_type": "code",
   "execution_count": 53,
   "id": "bc39c3f8",
   "metadata": {
    "id": "bc39c3f8"
   },
   "outputs": [
    {
     "name": "stdout",
     "output_type": "stream",
     "text": [
      "Среднее время между заказами пользователей, совершивших 2-4 заказа: 12.36\n",
      "Среднее время между заказами пользователей, совершивших 5 и более заказов: 7.58\n"
     ]
    }
   ],
   "source": [
    "bins = [1, 2, 5, user_profile['cnt_orders'].max()+1]\n",
    "labels = ['1 заказ', '2-4 заказа', '5+ заказов']\n",
    "user_profile['order_category'] = pd.cut(user_profile['cnt_orders'], bins=bins, labels=labels, include_lowest=True)\n",
    "\n",
    "def avg_days_between(cond):\n",
    "    sum_days = sum(user_profile[cond]['days_mean']*(user_profile[cond]['cnt_orders']-1))\n",
    "    count_intervals = sum(user_profile[cond]['cnt_orders'])-user_profile[cond]['user_id'].count()\n",
    "    return round(sum_days / count_intervals, 2)\n",
    "\n",
    "cond1 = user_profile['order_category']=='2-4 заказа'\n",
    "cond2 = user_profile['order_category']=='5+ заказов'\n",
    "\n",
    "print(f'''Среднее время между заказами пользователей, совершивших 2-4 заказа: {avg_days_between(cond1)}\n",
    "Среднее время между заказами пользователей, совершивших 5 и более заказов: {avg_days_between(cond2)}''')"
   ]
  },
  {
   "cell_type": "code",
   "execution_count": 54,
   "id": "7982196b",
   "metadata": {
    "id": "ceca9898"
   },
   "outputs": [
    {
     "data": {
      "text/plain": [
       "Text(0, 0.5, 'среднее кол-во дней между заказами')"
      ]
     },
     "execution_count": 54,
     "metadata": {},
     "output_type": "execute_result"
    },
    {
     "data": {
      "image/png": "[encoded data removed]",
      "text/plain": [
       "<Figure size 648x360 with 1 Axes>"
      ]
     },
     "metadata": {
      "needs_background": "light"
     },
     "output_type": "display_data"
    }
   ],
   "source": [
    "plt.figure(figsize=(9, 5))\n",
    "plt.scatter(user_profile['cnt_orders'], user_profile['days_mean'])\n",
    "plt.xlabel('кол-во заказов', size=15)\n",
    "plt.ylabel('среднее кол-во дней между заказами', size=15)"
   ]
  },
  {
   "cell_type": "markdown",
   "id": "e80a1dcf",
   "metadata": {
    "id": "f1471104"
   },
   "source": [
    "По графику можно заметить обратную корреляцию между кол-вом заказов и кол-вом дней между ними: чем больше заказов, тем меньше интервал "
   ]
  },
  {
   "cell_type": "markdown",
   "id": "eb26eac5",
   "metadata": {
    "id": "eb26eac5"
   },
   "source": [
    "---\n",
    "\n",
    "#### 4.4. Корреляционный анализ количества покупок и признаков пользователя\n",
    "\n",
    "Изучите, какие характеристики первого заказа и профиля пользователя могут быть связаны с числом покупок. Для этого используйте универсальный коэффициент корреляции `phi_k`, который позволяет анализировать как числовые, так и категориальные признаки.\n",
    "\n",
    "---\n",
    "\n",
    "**Задача 4.4.1:** Проведите корреляционный анализ:\n",
    "- Рассчитайте коэффициент корреляции `phi_k` между признаками профиля пользователя и числом заказов (`total_orders`). При необходимости используйте параметр `interval_cols` для определения интервальных данных.\n",
    "- Проанализируйте полученные результаты. Если полученные значения будут близки к нулю, проверьте разброс данных в `total_orders`. Такое возможно, когда в данных преобладает одно значение: в таком случае корреляционный анализ может показать отсутствие связей. Чтобы этого избежать, выделите сегменты пользователей по полю `total_orders`, а затем повторите корреляционный анализ. Выделите такие сегменты:\n",
    "    - 1 заказ;\n",
    "    - от 2 до 4 заказов;\n",
    "    - от 5 и выше.\n",
    "- Визуализируйте результат корреляции с помощью тепловой карты.\n",
    "- Ответьте на вопрос: какие признаки наиболее связаны с количеством заказов?\n",
    "\n",
    "---"
   ]
  },
  {
   "cell_type": "code",
   "execution_count": 55,
   "id": "d2ca7ee0",
   "metadata": {
    "id": "d2ca7ee0",
    "scrolled": true
   },
   "outputs": [
    {
     "name": "stdout",
     "output_type": "stream",
     "text": [
      "interval columns not set, guessing: ['cnt_orders', 'mean_revenue_rub', 'tickets_mean', 'days_mean', 'is_two', 'is_five', 'first_dow']\n"
     ]
    },
    {
     "name": "stderr",
     "output_type": "stream",
     "text": [
      "/opt/conda/lib/python3.9/site-packages/phik/data_quality.py:59: UserWarning: The number of unique values of variable user_id is large: 20864. Are you sure this is not an interval variable? Analysis for pairs of variables including user_id can be slow.\n",
      "  warnings.warn(\n",
      "/opt/conda/lib/python3.9/site-packages/phik/bivariate.py:255: UserWarning: Many cells: 3192192. Are interval variables set correctly?\n",
      "  warnings.warn(\n"
     ]
    },
    {
     "data": {
      "text/plain": [
       "user_id               1.000000\n",
       "cnt_orders            1.000000\n",
       "is_five               1.000000\n",
       "order_category        0.790713\n",
       "is_two                0.618740\n",
       "days_mean             0.595388\n",
       "last_date             0.393659\n",
       "first_date            0.388742\n",
       "tickets_mean          0.314573\n",
       "tickets_category      0.259539\n",
       "mean_revenue_rub      0.047313\n",
       "first_device_type     0.042641\n",
       "first_service_name    0.036429\n",
       "first_event_type      0.026103\n",
       "first_dow             0.021037\n",
       "first_region_name     0.000000\n",
       "Name: cnt_orders, dtype: float64"
      ]
     },
     "execution_count": 55,
     "metadata": {},
     "output_type": "execute_result"
    }
   ],
   "source": [
    "user_profile[user_profile.columns.to_list()].phik_matrix()['cnt_orders'].sort_values(ascending=False)"
   ]
  },
  {
   "cell_type": "code",
   "execution_count": 56,
   "id": "9407eee5",
   "metadata": {
    "id": "669ae228"
   },
   "outputs": [
    {
     "name": "stdout",
     "output_type": "stream",
     "text": [
      "interval columns not set, guessing: ['mean_revenue_rub', 'tickets_mean', 'days_mean']\n"
     ]
    },
    {
     "data": {
      "text/html": [
       "<div>\n",
       "<style scoped>\n",
       "    .dataframe tbody tr th:only-of-type {\n",
       "        vertical-align: middle;\n",
       "    }\n",
       "\n",
       "    .dataframe tbody tr th {\n",
       "        vertical-align: top;\n",
       "    }\n",
       "\n",
       "    .dataframe thead th {\n",
       "        text-align: right;\n",
       "    }\n",
       "</style>\n",
       "<table border=\"1\" class=\"dataframe\">\n",
       "  <thead>\n",
       "    <tr style=\"text-align: right;\">\n",
       "      <th></th>\n",
       "      <th>order_category</th>\n",
       "    </tr>\n",
       "  </thead>\n",
       "  <tbody>\n",
       "    <tr>\n",
       "      <th>order_category</th>\n",
       "      <td>1.000000</td>\n",
       "    </tr>\n",
       "    <tr>\n",
       "      <th>days_mean</th>\n",
       "      <td>0.618888</td>\n",
       "    </tr>\n",
       "    <tr>\n",
       "      <th>last_date</th>\n",
       "      <td>0.557437</td>\n",
       "    </tr>\n",
       "    <tr>\n",
       "      <th>first_date</th>\n",
       "      <td>0.527666</td>\n",
       "    </tr>\n",
       "    <tr>\n",
       "      <th>tickets_mean</th>\n",
       "      <td>0.374549</td>\n",
       "    </tr>\n",
       "    <tr>\n",
       "      <th>first_region_name</th>\n",
       "      <td>0.098883</td>\n",
       "    </tr>\n",
       "    <tr>\n",
       "      <th>mean_revenue_rub</th>\n",
       "      <td>0.073651</td>\n",
       "    </tr>\n",
       "    <tr>\n",
       "      <th>first_service_name</th>\n",
       "      <td>0.068286</td>\n",
       "    </tr>\n",
       "    <tr>\n",
       "      <th>first_event_type</th>\n",
       "      <td>0.025861</td>\n",
       "    </tr>\n",
       "    <tr>\n",
       "      <th>first_device_type</th>\n",
       "      <td>0.017124</td>\n",
       "    </tr>\n",
       "  </tbody>\n",
       "</table>\n",
       "</div>"
      ],
      "text/plain": [
       "                    order_category\n",
       "order_category            1.000000\n",
       "days_mean                 0.618888\n",
       "last_date                 0.557437\n",
       "first_date                0.527666\n",
       "tickets_mean              0.374549\n",
       "first_region_name         0.098883\n",
       "mean_revenue_rub          0.073651\n",
       "first_service_name        0.068286\n",
       "first_event_type          0.025861\n",
       "first_device_type         0.017124"
      ]
     },
     "execution_count": 56,
     "metadata": {},
     "output_type": "execute_result"
    }
   ],
   "source": [
    "# Посмотрим корреляцию по категориям \n",
    "matrix = user_profile[['first_region_name', 'first_event_type', 'mean_revenue_rub', 'tickets_mean', 'first_date', 'last_date', \n",
    "'days_mean', 'order_category',\n",
    "'first_service_name', 'first_device_type']].phik_matrix()[['order_category']].sort_values(by='order_category', ascending=False)\n",
    "matrix"
   ]
  },
  {
   "cell_type": "code",
   "execution_count": 57,
   "id": "5aaf2ed9",
   "metadata": {
    "id": "c2053802"
   },
   "outputs": [
    {
     "data": {
      "text/plain": [
       "<AxesSubplot:>"
      ]
     },
     "execution_count": 57,
     "metadata": {},
     "output_type": "execute_result"
    },
    {
     "data": {
      "image/png": "[encoded data removed]",
      "text/plain": [
       "<Figure size 432x288 with 2 Axes>"
      ]
     },
     "metadata": {
      "needs_background": "light"
     },
     "output_type": "display_data"
    }
   ],
   "source": [
    "# строим тепловую карту\n",
    "sns.heatmap(matrix, annot=True, vmin=0, vmax=1, fmt='.2f')"
   ]
  },
  {
   "cell_type": "markdown",
   "id": "15a47854",
   "metadata": {},
   "source": [
    "С кол-вом заказов наиболее сильно коррелируют атрибуты `days_mean`, `last_date` и `first_date`"
   ]
  },
  {
   "cell_type": "markdown",
   "id": "e7c496e9",
   "metadata": {
    "id": "e7c496e9"
   },
   "source": [
    "### 5. Общий вывод и рекомендации\n",
    "\n",
    "В конце проекта напишите общий вывод и рекомендации: расскажите заказчику, на что нужно обратить внимание. В выводах кратко укажите:\n",
    "\n",
    "- **Информацию о данных**, с которыми вы работали, и то, как они были подготовлены: например, расскажите о фильтрации данных, переводе тенге в рубли, фильтрации выбросов.\n",
    "- **Основные результаты анализа.** Например, укажите:\n",
    "    - Сколько пользователей в выборке? Как распределены пользователи по числу заказов? Какие ещё статистические показатели вы подсчитали важным во время изучения данных?\n",
    "    - Какие признаки первого заказа связаны с возвратом пользователей?\n",
    "    - Как связаны средняя выручка и количество билетов в заказе с вероятностью повторных покупок?\n",
    "    - Какие временные характеристики влияют на удержание (день недели, интервалы между покупками)?\n",
    "    - Какие характеристики первого заказа и профиля пользователя могут быть связаны с числом покупок согласно результатам корреляционного анализа?\n",
    "- Дополните выводы информацией, которая покажется вам важной и интересной. Следите за общим объёмом выводов — они должны быть компактными и ёмкими.\n",
    "\n",
    "В конце предложите заказчику рекомендации о том, как именно действовать в его ситуации. Например, укажите, на какие сегменты пользователей стоит обратить внимание в первую очередь, а какие нуждаются в дополнительных маркетинговых усилиях."
   ]
  },
  {
   "cell_type": "markdown",
   "id": "c4bba28e",
   "metadata": {
    "id": "77aa4e06"
   },
   "source": [
    "## Вывод\n",
    "\n",
    "- В рамках исследования мы поработали с базой данных data-analyst-afisha, содержащей информацию о покупках билотов на платформе яндекс афиша. Мы составили подзапрос sql, содержащий необходимую информацию и продолжили работу с ним в jupyterhub.\n",
    "\n",
    "- В ходе предобработки данных мы создали столбец `revenue_rub` содержащий информацию о стоимости заказа в рублях\n",
    "- Также оптимизировали типы данных, изучили категориальные значения, кол-во городов, регионов и сервисов\n",
    "- Создали профиль пользователя для дальнейшей работы\n",
    "\n",
    "Основные результаты анализа \n",
    "- В выборке представлены 21933 пользователя, 75% пользователей совершили менее 6 заказов, при этом макимальное число заказов достигает 10251, в среднем каждый заказ включает 2-3 билета.\n",
    "\n",
    "- Чаще всего возвращаются пользователи купишвие билеты в Верхозёрском крае и Озернопольской области, также те, кто покупал билеты на сервисах Зе бест!, Билет по телефону и Быстрый кассир. Это может быть связано с малым числом пользователей в данных сегментах \n",
    "\n",
    "- Средняя выручка для клиентов совершивших повторные заказы больше, наибольшую конверсию в повторный заказ имеют пользователи, покупающие 2-3 билета, а наименьшую те, кто берут больше 5\n",
    "\n",
    "- День недели не влияет на удержание пользовате\n",
    "\n",
    "- большинство билетов куплены у Билеты без проблем\n",
    "\n",
    "- Чаще всего первый билет покупают на концерт\n",
    "\n",
    "В качетсве рекомендации можем посоветовать обратить внимание на популярность концертов, около 9000 пользователей впервые купили билет на концерт и около 60% сделала повторный заказ"
   ]
  },
  {
   "cell_type": "markdown",
   "id": "R8WPcqKyqW6Z",
   "metadata": {
    "id": "R8WPcqKyqW6Z"
   },
   "source": [
    "### 6. Финализация проекта и публикация в Git\n",
    "\n",
    "Когда вы закончите анализировать данные, оформите проект, а затем опубликуйте его.\n",
    "\n",
    "Выполните следующие действия:\n",
    "\n",
    "1. Создайте файл `.gitignore`. Добавьте в него все временные и чувствительные файлы, которые не должны попасть в репозиторий.\n",
    "2. Сформируйте файл `requirements.txt`. Зафиксируйте все библиотеки, которые вы использовали в проекте.\n",
    "3. Вынести все чувствительные данные (параметры подключения к базе) в `.env`файл.\n",
    "4. Проверьте, что проект запускается и воспроизводим.\n",
    "5. Загрузите проект в публичный репозиторий — например, на GitHub. Убедитесь, что все нужные файлы находятся в репозитории, исключая те, что в `.gitignore`. Ссылка на репозиторий понадобится для отправки проекта на проверку. Вставьте её в шаблон проекта в тетрадке Jupyter Notebook перед отправкой проекта на ревью."
   ]
  },
  {
   "cell_type": "markdown",
   "id": "xMijfOFruLHQ",
   "metadata": {
    "id": "xMijfOFruLHQ"
   },
   "source": [
    "**Вставьте ссылку на проект в этой ячейке тетрадки перед отправкой проекта на ревью.**"
   ]
  }
 ],
 "metadata": {
  "ExecuteTimeLog": [
   {
    "duration": 579,
    "start_time": "2025-10-12T18:05:52.336Z"
   },
   {
    "duration": 3,
    "start_time": "2025-10-12T18:06:05.027Z"
   },
   {
    "duration": 3,
    "start_time": "2025-10-12T18:06:21.712Z"
   },
   {
    "duration": 8700,
    "start_time": "2025-10-12T18:06:42.688Z"
   },
   {
    "duration": 72,
    "start_time": "2025-10-12T18:09:34.741Z"
   },
   {
    "duration": 3,
    "start_time": "2025-10-12T18:09:41.001Z"
   },
   {
    "duration": 464,
    "start_time": "2025-10-12T18:09:42.653Z"
   },
   {
    "duration": 26,
    "start_time": "2025-10-12T18:10:06.606Z"
   },
   {
    "duration": 16,
    "start_time": "2025-10-12T18:10:18.302Z"
   },
   {
    "duration": 15,
    "start_time": "2025-10-12T18:10:41.890Z"
   },
   {
    "duration": 15,
    "start_time": "2025-10-12T18:10:42.822Z"
   },
   {
    "duration": 12,
    "start_time": "2025-10-12T18:10:50.182Z"
   },
   {
    "duration": 3,
    "start_time": "2025-10-12T18:11:08.294Z"
   },
   {
    "duration": 5318,
    "start_time": "2025-10-12T18:11:09.431Z"
   },
   {
    "duration": 17,
    "start_time": "2025-10-12T18:11:14.751Z"
   },
   {
    "duration": 3,
    "start_time": "2025-10-12T18:13:02.768Z"
   },
   {
    "duration": 16,
    "start_time": "2025-10-12T18:13:07.318Z"
   },
   {
    "duration": 724,
    "start_time": "2025-10-12T18:13:15.028Z"
   },
   {
    "duration": 17,
    "start_time": "2025-10-12T18:13:17.712Z"
   },
   {
    "duration": 12,
    "start_time": "2025-10-12T18:13:23.168Z"
   },
   {
    "duration": 3,
    "start_time": "2025-10-12T18:13:32.213Z"
   },
   {
    "duration": 4941,
    "start_time": "2025-10-12T18:13:32.781Z"
   },
   {
    "duration": 16,
    "start_time": "2025-10-12T18:13:37.724Z"
   },
   {
    "duration": 281,
    "start_time": "2025-10-12T18:13:37.742Z"
   },
   {
    "duration": 267,
    "start_time": "2025-10-12T18:13:38.231Z"
   },
   {
    "duration": 50,
    "start_time": "2025-10-13T08:25:19.029Z"
   },
   {
    "duration": 543,
    "start_time": "2025-10-13T08:25:33.272Z"
   },
   {
    "duration": 3,
    "start_time": "2025-10-13T08:25:33.817Z"
   },
   {
    "duration": 28,
    "start_time": "2025-10-13T08:25:33.822Z"
   },
   {
    "duration": 9250,
    "start_time": "2025-10-13T08:25:33.852Z"
   },
   {
    "duration": 3,
    "start_time": "2025-10-13T08:25:43.105Z"
   },
   {
    "duration": 4523,
    "start_time": "2025-10-13T08:25:43.110Z"
   },
   {
    "duration": 33,
    "start_time": "2025-10-13T08:25:47.634Z"
   },
   {
    "duration": 256,
    "start_time": "2025-10-13T08:25:47.669Z"
   },
   {
    "duration": 42,
    "start_time": "2025-10-13T08:25:47.926Z"
   },
   {
    "duration": 9,
    "start_time": "2025-10-13T08:25:54.621Z"
   },
   {
    "duration": 150,
    "start_time": "2025-10-13T08:32:38.125Z"
   },
   {
    "duration": 1718,
    "start_time": "2025-10-13T08:34:25.267Z"
   },
   {
    "duration": 3,
    "start_time": "2025-10-13T08:34:32.386Z"
   },
   {
    "duration": 9,
    "start_time": "2025-10-13T08:34:32.391Z"
   },
   {
    "duration": 11,
    "start_time": "2025-10-13T08:34:32.402Z"
   },
   {
    "duration": 4,
    "start_time": "2025-10-13T08:34:32.416Z"
   },
   {
    "duration": 14,
    "start_time": "2025-10-13T08:34:32.422Z"
   },
   {
    "duration": 5745,
    "start_time": "2025-10-13T08:34:32.438Z"
   },
   {
    "duration": 16,
    "start_time": "2025-10-13T08:34:38.185Z"
   },
   {
    "duration": 279,
    "start_time": "2025-10-13T08:34:38.203Z"
   },
   {
    "duration": 42,
    "start_time": "2025-10-13T08:34:38.484Z"
   },
   {
    "duration": 9,
    "start_time": "2025-10-13T08:34:38.529Z"
   },
   {
    "duration": 4,
    "start_time": "2025-10-13T08:34:38.540Z"
   },
   {
    "duration": 0,
    "start_time": "2025-10-13T08:34:39.700Z"
   },
   {
    "duration": 1207,
    "start_time": "2025-10-13T08:34:41.966Z"
   },
   {
    "duration": 6,
    "start_time": "2025-10-13T08:34:53.718Z"
   },
   {
    "duration": 3,
    "start_time": "2025-10-13T08:35:16.242Z"
   },
   {
    "duration": 335,
    "start_time": "2025-10-13T08:35:26.278Z"
   },
   {
    "duration": 3,
    "start_time": "2025-10-13T08:37:13.782Z"
   },
   {
    "duration": 310,
    "start_time": "2025-10-13T08:37:15.222Z"
   },
   {
    "duration": 19,
    "start_time": "2025-10-13T08:37:42.999Z"
   },
   {
    "duration": 553,
    "start_time": "2025-10-13T10:16:29.682Z"
   },
   {
    "duration": 4,
    "start_time": "2025-10-13T10:16:30.238Z"
   },
   {
    "duration": 3,
    "start_time": "2025-10-13T10:16:30.256Z"
   },
   {
    "duration": 11031,
    "start_time": "2025-10-13T10:16:30.262Z"
   },
   {
    "duration": 3,
    "start_time": "2025-10-13T10:16:41.295Z"
   },
   {
    "duration": 4862,
    "start_time": "2025-10-13T10:16:41.300Z"
   },
   {
    "duration": 25,
    "start_time": "2025-10-13T10:16:46.164Z"
   },
   {
    "duration": 270,
    "start_time": "2025-10-13T10:16:46.191Z"
   },
   {
    "duration": 48,
    "start_time": "2025-10-13T10:16:46.463Z"
   },
   {
    "duration": 9,
    "start_time": "2025-10-13T10:16:46.513Z"
   },
   {
    "duration": 9,
    "start_time": "2025-10-13T10:16:46.524Z"
   },
   {
    "duration": 577,
    "start_time": "2025-10-13T10:18:36.925Z"
   },
   {
    "duration": 4,
    "start_time": "2025-10-13T10:18:37.504Z"
   },
   {
    "duration": 11,
    "start_time": "2025-10-13T10:18:37.510Z"
   },
   {
    "duration": 7209,
    "start_time": "2025-10-13T10:18:37.522Z"
   },
   {
    "duration": 3,
    "start_time": "2025-10-13T10:18:44.734Z"
   },
   {
    "duration": 9089,
    "start_time": "2025-10-13T10:18:44.739Z"
   },
   {
    "duration": 33,
    "start_time": "2025-10-13T10:18:53.830Z"
   },
   {
    "duration": 260,
    "start_time": "2025-10-13T10:18:53.865Z"
   },
   {
    "duration": 60,
    "start_time": "2025-10-13T10:18:54.127Z"
   },
   {
    "duration": 9,
    "start_time": "2025-10-13T10:18:54.189Z"
   },
   {
    "duration": 19,
    "start_time": "2025-10-13T10:18:54.199Z"
   },
   {
    "duration": 7,
    "start_time": "2025-10-13T10:23:55.939Z"
   },
   {
    "duration": 6,
    "start_time": "2025-10-13T10:24:09.926Z"
   },
   {
    "duration": 6,
    "start_time": "2025-10-13T10:24:30.267Z"
   },
   {
    "duration": 88,
    "start_time": "2025-10-13T10:34:26.675Z"
   },
   {
    "duration": 6,
    "start_time": "2025-10-13T10:35:16.363Z"
   },
   {
    "duration": 15,
    "start_time": "2025-10-13T10:35:25.915Z"
   },
   {
    "duration": 5,
    "start_time": "2025-10-13T10:35:32.893Z"
   },
   {
    "duration": 5,
    "start_time": "2025-10-13T10:36:36.123Z"
   },
   {
    "duration": 6,
    "start_time": "2025-10-13T10:37:00.331Z"
   },
   {
    "duration": 5,
    "start_time": "2025-10-13T10:37:04.683Z"
   },
   {
    "duration": 96,
    "start_time": "2025-10-13T10:37:53.187Z"
   },
   {
    "duration": 3,
    "start_time": "2025-10-13T10:38:13.756Z"
   },
   {
    "duration": 18,
    "start_time": "2025-10-13T10:38:16.349Z"
   },
   {
    "duration": 16,
    "start_time": "2025-10-13T10:44:59.942Z"
   },
   {
    "duration": 3,
    "start_time": "2025-10-13T10:45:08.783Z"
   },
   {
    "duration": 5,
    "start_time": "2025-10-13T10:45:08.788Z"
   },
   {
    "duration": 28,
    "start_time": "2025-10-13T10:45:08.795Z"
   },
   {
    "duration": 24,
    "start_time": "2025-10-13T10:45:08.824Z"
   },
   {
    "duration": 4,
    "start_time": "2025-10-13T10:45:08.850Z"
   },
   {
    "duration": 4826,
    "start_time": "2025-10-13T10:45:08.856Z"
   },
   {
    "duration": 18,
    "start_time": "2025-10-13T10:45:13.684Z"
   },
   {
    "duration": 258,
    "start_time": "2025-10-13T10:45:13.704Z"
   },
   {
    "duration": 63,
    "start_time": "2025-10-13T10:45:13.964Z"
   },
   {
    "duration": 11,
    "start_time": "2025-10-13T10:45:14.029Z"
   },
   {
    "duration": 4,
    "start_time": "2025-10-13T10:45:14.043Z"
   },
   {
    "duration": 18,
    "start_time": "2025-10-13T10:45:14.049Z"
   },
   {
    "duration": 17,
    "start_time": "2025-10-13T10:45:18.270Z"
   },
   {
    "duration": 17,
    "start_time": "2025-10-13T10:46:01.517Z"
   },
   {
    "duration": 6,
    "start_time": "2025-10-13T10:48:09.128Z"
   },
   {
    "duration": 4,
    "start_time": "2025-10-13T10:48:18.629Z"
   },
   {
    "duration": 18,
    "start_time": "2025-10-13T10:48:23.966Z"
   },
   {
    "duration": 8963,
    "start_time": "2025-10-13T10:48:51.105Z"
   },
   {
    "duration": 159,
    "start_time": "2025-10-13T10:49:11.278Z"
   },
   {
    "duration": 312,
    "start_time": "2025-10-13T10:49:39.886Z"
   },
   {
    "duration": 3,
    "start_time": "2025-10-13T10:50:13.070Z"
   },
   {
    "duration": 7840,
    "start_time": "2025-10-13T10:50:13.558Z"
   },
   {
    "duration": 316,
    "start_time": "2025-10-13T10:50:21.399Z"
   },
   {
    "duration": 5,
    "start_time": "2025-10-13T10:51:17.551Z"
   },
   {
    "duration": 3682,
    "start_time": "2025-10-13T10:51:18.607Z"
   },
   {
    "duration": 0,
    "start_time": "2025-10-13T10:51:22.291Z"
   },
   {
    "duration": 3,
    "start_time": "2025-10-13T10:51:40.625Z"
   },
   {
    "duration": 3782,
    "start_time": "2025-10-13T10:51:43.190Z"
   },
   {
    "duration": 8,
    "start_time": "2025-10-13T10:52:16.846Z"
   },
   {
    "duration": 8,
    "start_time": "2025-10-13T10:52:35.024Z"
   },
   {
    "duration": 7,
    "start_time": "2025-10-13T10:52:43.408Z"
   },
   {
    "duration": 9,
    "start_time": "2025-10-13T10:52:59.437Z"
   },
   {
    "duration": 9,
    "start_time": "2025-10-13T10:54:00.639Z"
   },
   {
    "duration": 9,
    "start_time": "2025-10-13T10:54:09.087Z"
   },
   {
    "duration": 8,
    "start_time": "2025-10-13T10:56:21.630Z"
   },
   {
    "duration": 14,
    "start_time": "2025-10-13T10:56:25.098Z"
   },
   {
    "duration": 8,
    "start_time": "2025-10-13T10:56:30.679Z"
   },
   {
    "duration": 5,
    "start_time": "2025-10-13T10:56:43.674Z"
   },
   {
    "duration": 9,
    "start_time": "2025-10-13T10:57:31.007Z"
   },
   {
    "duration": 9,
    "start_time": "2025-10-13T10:57:46.310Z"
   },
   {
    "duration": 8,
    "start_time": "2025-10-13T10:58:08.742Z"
   },
   {
    "duration": 11,
    "start_time": "2025-10-13T10:59:03.470Z"
   },
   {
    "duration": 2161,
    "start_time": "2025-10-13T11:02:12.881Z"
   },
   {
    "duration": 18,
    "start_time": "2025-10-13T11:02:22.446Z"
   },
   {
    "duration": 1990,
    "start_time": "2025-10-13T11:02:35.662Z"
   },
   {
    "duration": 71,
    "start_time": "2025-10-13T18:47:09.008Z"
   },
   {
    "duration": 556,
    "start_time": "2025-10-13T18:47:15.475Z"
   },
   {
    "duration": 6,
    "start_time": "2025-10-13T18:47:16.035Z"
   },
   {
    "duration": 12,
    "start_time": "2025-10-13T18:47:16.044Z"
   },
   {
    "duration": 9514,
    "start_time": "2025-10-13T18:47:16.057Z"
   },
   {
    "duration": 2,
    "start_time": "2025-10-13T18:47:25.574Z"
   },
   {
    "duration": 4981,
    "start_time": "2025-10-13T18:47:25.578Z"
   },
   {
    "duration": 23,
    "start_time": "2025-10-13T18:47:30.565Z"
   },
   {
    "duration": 283,
    "start_time": "2025-10-13T18:47:30.590Z"
   },
   {
    "duration": 71,
    "start_time": "2025-10-13T18:47:30.875Z"
   },
   {
    "duration": 12,
    "start_time": "2025-10-13T18:47:30.948Z"
   },
   {
    "duration": 16,
    "start_time": "2025-10-13T18:47:30.962Z"
   },
   {
    "duration": 9,
    "start_time": "2025-10-13T18:47:30.981Z"
   },
   {
    "duration": 8,
    "start_time": "2025-10-13T18:47:56.749Z"
   },
   {
    "duration": 3,
    "start_time": "2025-10-13T18:48:05.014Z"
   },
   {
    "duration": 11,
    "start_time": "2025-10-13T18:48:07.421Z"
   },
   {
    "duration": 8095,
    "start_time": "2025-10-13T18:49:32.493Z"
   },
   {
    "duration": 493,
    "start_time": "2025-10-13T18:49:45.293Z"
   },
   {
    "duration": 3,
    "start_time": "2025-10-13T18:50:03.195Z"
   },
   {
    "duration": 2484,
    "start_time": "2025-10-13T18:50:05.491Z"
   },
   {
    "duration": 339,
    "start_time": "2025-10-13T18:50:08.021Z"
   },
   {
    "duration": 3,
    "start_time": "2025-10-13T18:52:07.403Z"
   },
   {
    "duration": 8823,
    "start_time": "2025-10-13T18:52:09.412Z"
   },
   {
    "duration": 311,
    "start_time": "2025-10-13T18:52:18.237Z"
   },
   {
    "duration": 15,
    "start_time": "2025-10-13T18:54:06.887Z"
   },
   {
    "duration": 9199,
    "start_time": "2025-10-13T18:54:23.300Z"
   },
   {
    "duration": 318,
    "start_time": "2025-10-13T18:54:32.500Z"
   },
   {
    "duration": 2,
    "start_time": "2025-10-13T19:09:39.112Z"
   },
   {
    "duration": 7047,
    "start_time": "2025-10-13T19:09:40.505Z"
   },
   {
    "duration": 275,
    "start_time": "2025-10-13T19:09:47.554Z"
   },
   {
    "duration": 2,
    "start_time": "2025-10-13T19:12:25.827Z"
   },
   {
    "duration": 4320,
    "start_time": "2025-10-13T19:12:26.989Z"
   },
   {
    "duration": 276,
    "start_time": "2025-10-13T19:12:53.748Z"
   },
   {
    "duration": 2,
    "start_time": "2025-10-13T19:15:27.538Z"
   },
   {
    "duration": 4698,
    "start_time": "2025-10-13T19:15:28.437Z"
   },
   {
    "duration": 463,
    "start_time": "2025-10-13T19:15:33.137Z"
   },
   {
    "duration": 3,
    "start_time": "2025-10-13T19:17:29.940Z"
   },
   {
    "duration": 6778,
    "start_time": "2025-10-13T19:17:31.123Z"
   },
   {
    "duration": 288,
    "start_time": "2025-10-13T19:17:37.903Z"
   },
   {
    "duration": 3,
    "start_time": "2025-10-13T19:19:27.599Z"
   },
   {
    "duration": 3,
    "start_time": "2025-10-13T19:19:29.985Z"
   },
   {
    "duration": 2092,
    "start_time": "2025-10-13T19:19:30.447Z"
   },
   {
    "duration": 0,
    "start_time": "2025-10-13T19:19:32.540Z"
   },
   {
    "duration": 3,
    "start_time": "2025-10-13T19:21:05.108Z"
   },
   {
    "duration": 3,
    "start_time": "2025-10-13T19:21:06.866Z"
   },
   {
    "duration": 1758,
    "start_time": "2025-10-13T19:21:08.252Z"
   },
   {
    "duration": 3,
    "start_time": "2025-10-13T19:21:20.295Z"
   },
   {
    "duration": 6959,
    "start_time": "2025-10-13T19:21:25.083Z"
   },
   {
    "duration": 6670,
    "start_time": "2025-10-13T19:22:12.087Z"
   },
   {
    "duration": 3,
    "start_time": "2025-10-13T19:23:17.664Z"
   },
   {
    "duration": 1656,
    "start_time": "2025-10-13T19:23:18.875Z"
   },
   {
    "duration": 3,
    "start_time": "2025-10-13T19:23:35.795Z"
   },
   {
    "duration": 6864,
    "start_time": "2025-10-13T19:23:40.179Z"
   },
   {
    "duration": 3,
    "start_time": "2025-10-13T19:29:15.961Z"
   },
   {
    "duration": 2930,
    "start_time": "2025-10-13T19:29:16.895Z"
   },
   {
    "duration": 0,
    "start_time": "2025-10-13T19:29:19.827Z"
   },
   {
    "duration": 7,
    "start_time": "2025-10-13T19:29:49.702Z"
   },
   {
    "duration": 6,
    "start_time": "2025-10-13T19:30:03.545Z"
   },
   {
    "duration": 1123,
    "start_time": "2025-10-13T19:30:22.224Z"
   },
   {
    "duration": 5,
    "start_time": "2025-10-13T19:30:28.579Z"
   },
   {
    "duration": 3,
    "start_time": "2025-10-13T19:30:35.511Z"
   },
   {
    "duration": 6756,
    "start_time": "2025-10-13T19:30:37.779Z"
   },
   {
    "duration": 280,
    "start_time": "2025-10-13T19:30:44.537Z"
   },
   {
    "duration": 3,
    "start_time": "2025-10-13T19:31:13.854Z"
   },
   {
    "duration": 6357,
    "start_time": "2025-10-13T19:31:14.360Z"
   },
   {
    "duration": 277,
    "start_time": "2025-10-13T19:31:20.719Z"
   },
   {
    "duration": 48,
    "start_time": "2025-10-14T16:56:03.858Z"
   },
   {
    "duration": 474,
    "start_time": "2025-10-14T16:56:26.855Z"
   },
   {
    "duration": 3,
    "start_time": "2025-10-14T16:56:27.331Z"
   },
   {
    "duration": 4,
    "start_time": "2025-10-14T16:56:27.336Z"
   },
   {
    "duration": 10008,
    "start_time": "2025-10-14T16:56:27.341Z"
   },
   {
    "duration": 3,
    "start_time": "2025-10-14T16:56:37.350Z"
   },
   {
    "duration": 5091,
    "start_time": "2025-10-14T16:56:37.355Z"
   },
   {
    "duration": 22,
    "start_time": "2025-10-14T16:56:42.448Z"
   },
   {
    "duration": 269,
    "start_time": "2025-10-14T16:56:42.471Z"
   },
   {
    "duration": 99,
    "start_time": "2025-10-14T16:56:42.741Z"
   },
   {
    "duration": 8,
    "start_time": "2025-10-14T16:56:42.842Z"
   },
   {
    "duration": 11,
    "start_time": "2025-10-14T16:56:42.851Z"
   },
   {
    "duration": 10,
    "start_time": "2025-10-14T16:56:42.864Z"
   },
   {
    "duration": 4,
    "start_time": "2025-10-14T16:56:42.875Z"
   },
   {
    "duration": 7472,
    "start_time": "2025-10-14T16:56:42.881Z"
   },
   {
    "duration": 41,
    "start_time": "2025-10-14T16:57:25.478Z"
   },
   {
    "duration": 58,
    "start_time": "2025-10-16T07:23:36.847Z"
   },
   {
    "duration": 552,
    "start_time": "2025-10-16T07:23:44.168Z"
   },
   {
    "duration": 7,
    "start_time": "2025-10-16T07:23:44.722Z"
   },
   {
    "duration": 28,
    "start_time": "2025-10-16T07:23:44.732Z"
   },
   {
    "duration": 10074,
    "start_time": "2025-10-16T07:23:44.762Z"
   },
   {
    "duration": 3,
    "start_time": "2025-10-16T07:23:54.841Z"
   },
   {
    "duration": 12614,
    "start_time": "2025-10-16T07:23:54.846Z"
   },
   {
    "duration": 24,
    "start_time": "2025-10-16T07:24:07.462Z"
   },
   {
    "duration": 288,
    "start_time": "2025-10-16T07:24:07.487Z"
   },
   {
    "duration": 51,
    "start_time": "2025-10-16T07:24:07.777Z"
   },
   {
    "duration": 10,
    "start_time": "2025-10-16T07:24:07.831Z"
   },
   {
    "duration": 13,
    "start_time": "2025-10-16T07:24:07.843Z"
   },
   {
    "duration": 4,
    "start_time": "2025-10-16T07:24:07.858Z"
   },
   {
    "duration": 17,
    "start_time": "2025-10-16T07:24:07.864Z"
   },
   {
    "duration": 8336,
    "start_time": "2025-10-16T07:24:07.883Z"
   },
   {
    "duration": 0,
    "start_time": "2025-10-16T07:24:16.273Z"
   },
   {
    "duration": 0,
    "start_time": "2025-10-16T07:24:16.274Z"
   },
   {
    "duration": 18,
    "start_time": "2025-10-16T07:25:39.520Z"
   },
   {
    "duration": 98,
    "start_time": "2025-10-16T07:26:35.489Z"
   },
   {
    "duration": 4,
    "start_time": "2025-10-16T07:26:37.312Z"
   },
   {
    "duration": 136,
    "start_time": "2025-10-16T07:26:38.585Z"
   },
   {
    "duration": 8,
    "start_time": "2025-10-16T07:29:11.705Z"
   },
   {
    "duration": 8,
    "start_time": "2025-10-16T07:29:55.947Z"
   },
   {
    "duration": 7,
    "start_time": "2025-10-16T07:30:17.922Z"
   },
   {
    "duration": 5,
    "start_time": "2025-10-16T07:31:51.294Z"
   },
   {
    "duration": 6,
    "start_time": "2025-10-16T07:31:52.345Z"
   },
   {
    "duration": 5,
    "start_time": "2025-10-16T07:32:17.110Z"
   },
   {
    "duration": 5,
    "start_time": "2025-10-16T07:32:19.058Z"
   },
   {
    "duration": 9,
    "start_time": "2025-10-16T07:32:30.555Z"
   },
   {
    "duration": 13,
    "start_time": "2025-10-16T07:32:59.913Z"
   },
   {
    "duration": 9,
    "start_time": "2025-10-16T07:35:42.539Z"
   },
   {
    "duration": 4,
    "start_time": "2025-10-16T07:36:03.289Z"
   },
   {
    "duration": 6,
    "start_time": "2025-10-16T07:36:04.772Z"
   },
   {
    "duration": 14,
    "start_time": "2025-10-16T07:37:24.061Z"
   },
   {
    "duration": 16,
    "start_time": "2025-10-16T07:37:58.092Z"
   },
   {
    "duration": 10,
    "start_time": "2025-10-16T07:38:03.933Z"
   },
   {
    "duration": 14,
    "start_time": "2025-10-16T07:39:47.250Z"
   },
   {
    "duration": 4,
    "start_time": "2025-10-16T07:40:22.401Z"
   },
   {
    "duration": 5,
    "start_time": "2025-10-16T07:40:23.772Z"
   },
   {
    "duration": 6,
    "start_time": "2025-10-16T07:40:24.853Z"
   },
   {
    "duration": 9,
    "start_time": "2025-10-16T07:42:09.717Z"
   },
   {
    "duration": 4,
    "start_time": "2025-10-16T07:42:11.004Z"
   },
   {
    "duration": 5,
    "start_time": "2025-10-16T07:42:11.944Z"
   },
   {
    "duration": 4,
    "start_time": "2025-10-16T07:42:17.140Z"
   },
   {
    "duration": 5,
    "start_time": "2025-10-16T07:42:18.288Z"
   },
   {
    "duration": 14,
    "start_time": "2025-10-16T07:42:30.709Z"
   },
   {
    "duration": 8,
    "start_time": "2025-10-16T07:42:31.701Z"
   },
   {
    "duration": 4,
    "start_time": "2025-10-16T07:43:04.077Z"
   },
   {
    "duration": 6,
    "start_time": "2025-10-16T07:43:05.640Z"
   },
   {
    "duration": 5,
    "start_time": "2025-10-16T07:44:42.926Z"
   },
   {
    "duration": 5,
    "start_time": "2025-10-16T07:44:44.231Z"
   },
   {
    "duration": 6,
    "start_time": "2025-10-16T07:44:45.308Z"
   },
   {
    "duration": 7,
    "start_time": "2025-10-16T07:49:21.068Z"
   },
   {
    "duration": 6,
    "start_time": "2025-10-16T07:49:22.028Z"
   },
   {
    "duration": 8,
    "start_time": "2025-10-16T07:53:40.796Z"
   },
   {
    "duration": 4,
    "start_time": "2025-10-16T07:57:14.460Z"
   },
   {
    "duration": 180,
    "start_time": "2025-10-16T07:57:24.380Z"
   },
   {
    "duration": 19,
    "start_time": "2025-10-16T07:57:44.776Z"
   },
   {
    "duration": 1572,
    "start_time": "2025-10-16T07:58:12.328Z"
   },
   {
    "duration": 139,
    "start_time": "2025-10-16T07:58:34.549Z"
   },
   {
    "duration": 65,
    "start_time": "2025-10-16T07:58:41.021Z"
   },
   {
    "duration": 62,
    "start_time": "2025-10-16T07:58:53.068Z"
   },
   {
    "duration": 53,
    "start_time": "2025-10-16T10:17:37.497Z"
   },
   {
    "duration": 584,
    "start_time": "2025-10-16T10:17:43.907Z"
   },
   {
    "duration": 3,
    "start_time": "2025-10-16T10:17:44.493Z"
   },
   {
    "duration": 10,
    "start_time": "2025-10-16T10:17:44.497Z"
   },
   {
    "duration": 13387,
    "start_time": "2025-10-16T10:17:44.508Z"
   },
   {
    "duration": 6,
    "start_time": "2025-10-16T10:17:57.897Z"
   },
   {
    "duration": 4481,
    "start_time": "2025-10-16T10:17:57.905Z"
   },
   {
    "duration": 33,
    "start_time": "2025-10-16T10:18:02.387Z"
   },
   {
    "duration": 248,
    "start_time": "2025-10-16T10:18:02.422Z"
   },
   {
    "duration": 53,
    "start_time": "2025-10-16T10:18:02.672Z"
   },
   {
    "duration": 9,
    "start_time": "2025-10-16T10:18:02.726Z"
   },
   {
    "duration": 59,
    "start_time": "2025-10-16T10:18:02.737Z"
   },
   {
    "duration": 14,
    "start_time": "2025-10-16T10:18:02.798Z"
   },
   {
    "duration": 3,
    "start_time": "2025-10-16T10:18:02.814Z"
   },
   {
    "duration": 7851,
    "start_time": "2025-10-16T10:18:02.820Z"
   },
   {
    "duration": 91,
    "start_time": "2025-10-16T10:18:10.673Z"
   },
   {
    "duration": 117,
    "start_time": "2025-10-16T10:18:10.765Z"
   },
   {
    "duration": 8,
    "start_time": "2025-10-16T10:18:10.883Z"
   },
   {
    "duration": 64,
    "start_time": "2025-10-16T10:18:10.893Z"
   },
   {
    "duration": 5,
    "start_time": "2025-10-16T10:18:10.958Z"
   },
   {
    "duration": 68,
    "start_time": "2025-10-16T10:18:10.965Z"
   },
   {
    "duration": 625,
    "start_time": "2025-10-16T10:18:11.034Z"
   },
   {
    "duration": 244,
    "start_time": "2025-10-16T10:19:01.144Z"
   },
   {
    "duration": 200,
    "start_time": "2025-10-16T10:21:29.311Z"
   },
   {
    "duration": 9,
    "start_time": "2025-10-16T10:21:53.413Z"
   },
   {
    "duration": 9,
    "start_time": "2025-10-16T10:22:10.338Z"
   },
   {
    "duration": 10,
    "start_time": "2025-10-16T10:22:23.184Z"
   },
   {
    "duration": 14,
    "start_time": "2025-10-16T10:24:36.664Z"
   },
   {
    "duration": 419,
    "start_time": "2025-10-16T10:24:54.676Z"
   },
   {
    "duration": 409,
    "start_time": "2025-10-16T10:25:25.025Z"
   },
   {
    "duration": 13,
    "start_time": "2025-10-16T10:36:07.736Z"
   },
   {
    "duration": 599,
    "start_time": "2025-10-16T10:36:36.613Z"
   },
   {
    "duration": 475,
    "start_time": "2025-10-16T10:36:52.293Z"
   },
   {
    "duration": 3,
    "start_time": "2025-10-16T10:37:33.057Z"
   },
   {
    "duration": 426,
    "start_time": "2025-10-16T10:38:16.316Z"
   },
   {
    "duration": 433,
    "start_time": "2025-10-16T10:40:32.784Z"
   },
   {
    "duration": 446,
    "start_time": "2025-10-16T10:40:45.663Z"
   },
   {
    "duration": 498,
    "start_time": "2025-10-16T10:41:13.032Z"
   },
   {
    "duration": 545,
    "start_time": "2025-10-16T10:41:18.904Z"
   },
   {
    "duration": 528,
    "start_time": "2025-10-16T10:41:29.948Z"
   },
   {
    "duration": 245,
    "start_time": "2025-10-16T10:46:28.298Z"
   },
   {
    "duration": 277,
    "start_time": "2025-10-16T10:46:46.065Z"
   },
   {
    "duration": 272,
    "start_time": "2025-10-16T10:47:06.524Z"
   },
   {
    "duration": 272,
    "start_time": "2025-10-16T10:47:40.757Z"
   },
   {
    "duration": 290,
    "start_time": "2025-10-16T10:47:49.014Z"
   },
   {
    "duration": 311,
    "start_time": "2025-10-16T10:47:55.889Z"
   },
   {
    "duration": 276,
    "start_time": "2025-10-16T10:48:05.064Z"
   },
   {
    "duration": 294,
    "start_time": "2025-10-16T10:50:52.653Z"
   },
   {
    "duration": 273,
    "start_time": "2025-10-16T10:51:12.974Z"
   },
   {
    "duration": 339,
    "start_time": "2025-10-16T11:07:13.108Z"
   },
   {
    "duration": 72,
    "start_time": "2025-10-16T17:26:02.496Z"
   },
   {
    "duration": 1131,
    "start_time": "2025-10-16T17:26:08.068Z"
   },
   {
    "duration": 22,
    "start_time": "2025-10-16T17:26:09.201Z"
   },
   {
    "duration": 11,
    "start_time": "2025-10-16T17:26:09.232Z"
   },
   {
    "duration": 10258,
    "start_time": "2025-10-16T17:26:09.246Z"
   },
   {
    "duration": 14,
    "start_time": "2025-10-16T17:26:19.505Z"
   },
   {
    "duration": 6428,
    "start_time": "2025-10-16T17:26:19.522Z"
   },
   {
    "duration": 24,
    "start_time": "2025-10-16T17:26:25.952Z"
   },
   {
    "duration": 300,
    "start_time": "2025-10-16T17:26:25.978Z"
   },
   {
    "duration": 58,
    "start_time": "2025-10-16T17:26:26.280Z"
   },
   {
    "duration": 12,
    "start_time": "2025-10-16T17:26:26.342Z"
   },
   {
    "duration": 15,
    "start_time": "2025-10-16T17:26:26.357Z"
   },
   {
    "duration": 7,
    "start_time": "2025-10-16T17:26:26.374Z"
   },
   {
    "duration": 9,
    "start_time": "2025-10-16T17:26:26.384Z"
   },
   {
    "duration": 9054,
    "start_time": "2025-10-16T17:26:26.395Z"
   },
   {
    "duration": 106,
    "start_time": "2025-10-16T17:26:35.451Z"
   },
   {
    "duration": 137,
    "start_time": "2025-10-16T17:26:35.558Z"
   },
   {
    "duration": 13,
    "start_time": "2025-10-16T17:26:35.697Z"
   },
   {
    "duration": 52,
    "start_time": "2025-10-16T17:26:35.713Z"
   },
   {
    "duration": 5,
    "start_time": "2025-10-16T17:26:35.767Z"
   },
   {
    "duration": 89,
    "start_time": "2025-10-16T17:26:35.774Z"
   },
   {
    "duration": 491,
    "start_time": "2025-10-16T17:26:35.865Z"
   },
   {
    "duration": 593,
    "start_time": "2025-10-16T17:26:36.358Z"
   },
   {
    "duration": 330,
    "start_time": "2025-10-16T17:26:36.953Z"
   },
   {
    "duration": 389,
    "start_time": "2025-10-16T17:26:37.284Z"
   },
   {
    "duration": 395,
    "start_time": "2025-10-16T17:26:37.675Z"
   },
   {
    "duration": 53,
    "start_time": "2025-10-17T15:49:44.035Z"
   },
   {
    "duration": 886,
    "start_time": "2025-10-17T15:49:48.947Z"
   },
   {
    "duration": 5,
    "start_time": "2025-10-17T15:49:49.836Z"
   },
   {
    "duration": 7,
    "start_time": "2025-10-17T15:49:49.843Z"
   },
   {
    "duration": 9603,
    "start_time": "2025-10-17T15:49:49.852Z"
   },
   {
    "duration": 3,
    "start_time": "2025-10-17T15:49:59.457Z"
   },
   {
    "duration": 5065,
    "start_time": "2025-10-17T15:49:59.462Z"
   },
   {
    "duration": 19,
    "start_time": "2025-10-17T15:50:04.529Z"
   },
   {
    "duration": 267,
    "start_time": "2025-10-17T15:50:04.549Z"
   },
   {
    "duration": 82,
    "start_time": "2025-10-17T15:50:04.817Z"
   },
   {
    "duration": 10,
    "start_time": "2025-10-17T15:50:04.902Z"
   },
   {
    "duration": 13,
    "start_time": "2025-10-17T15:50:04.914Z"
   },
   {
    "duration": 11,
    "start_time": "2025-10-17T15:50:04.928Z"
   },
   {
    "duration": 15,
    "start_time": "2025-10-17T15:50:04.941Z"
   },
   {
    "duration": 7378,
    "start_time": "2025-10-17T15:50:04.958Z"
   },
   {
    "duration": 93,
    "start_time": "2025-10-17T15:50:12.338Z"
   },
   {
    "duration": 121,
    "start_time": "2025-10-17T15:50:12.433Z"
   },
   {
    "duration": 8,
    "start_time": "2025-10-17T15:50:12.555Z"
   },
   {
    "duration": 43,
    "start_time": "2025-10-17T15:50:12.564Z"
   },
   {
    "duration": 42,
    "start_time": "2025-10-17T15:50:12.609Z"
   },
   {
    "duration": 81,
    "start_time": "2025-10-17T15:50:12.653Z"
   },
   {
    "duration": 374,
    "start_time": "2025-10-17T15:50:12.735Z"
   },
   {
    "duration": 473,
    "start_time": "2025-10-17T15:50:13.111Z"
   },
   {
    "duration": 265,
    "start_time": "2025-10-17T15:50:13.586Z"
   },
   {
    "duration": 302,
    "start_time": "2025-10-17T15:50:13.852Z"
   },
   {
    "duration": 311,
    "start_time": "2025-10-17T15:50:14.156Z"
   },
   {
    "duration": 706,
    "start_time": "2025-10-17T15:51:48.252Z"
   },
   {
    "duration": 3,
    "start_time": "2025-10-17T15:51:48.960Z"
   },
   {
    "duration": 4,
    "start_time": "2025-10-17T15:51:48.965Z"
   },
   {
    "duration": 9003,
    "start_time": "2025-10-17T15:51:48.970Z"
   },
   {
    "duration": 3,
    "start_time": "2025-10-17T15:51:57.975Z"
   },
   {
    "duration": 17829,
    "start_time": "2025-10-17T15:51:57.980Z"
   },
   {
    "duration": 19,
    "start_time": "2025-10-17T15:52:15.810Z"
   },
   {
    "duration": 308,
    "start_time": "2025-10-17T15:52:15.831Z"
   },
   {
    "duration": 68,
    "start_time": "2025-10-17T15:52:16.140Z"
   },
   {
    "duration": 8,
    "start_time": "2025-10-17T15:52:16.209Z"
   },
   {
    "duration": 20,
    "start_time": "2025-10-17T15:52:16.219Z"
   },
   {
    "duration": 4,
    "start_time": "2025-10-17T15:52:16.240Z"
   },
   {
    "duration": 3,
    "start_time": "2025-10-17T15:52:16.246Z"
   },
   {
    "duration": 7451,
    "start_time": "2025-10-17T15:52:16.251Z"
   },
   {
    "duration": 86,
    "start_time": "2025-10-17T15:52:23.705Z"
   },
   {
    "duration": 134,
    "start_time": "2025-10-17T15:52:23.793Z"
   },
   {
    "duration": 7,
    "start_time": "2025-10-17T15:52:23.929Z"
   },
   {
    "duration": 6,
    "start_time": "2025-10-17T15:52:23.938Z"
   },
   {
    "duration": 5,
    "start_time": "2025-10-17T15:52:23.946Z"
   },
   {
    "duration": 98,
    "start_time": "2025-10-17T15:52:23.952Z"
   },
   {
    "duration": 378,
    "start_time": "2025-10-17T15:52:24.051Z"
   },
   {
    "duration": 464,
    "start_time": "2025-10-17T15:52:24.431Z"
   },
   {
    "duration": 287,
    "start_time": "2025-10-17T15:52:24.896Z"
   },
   {
    "duration": 320,
    "start_time": "2025-10-17T15:52:25.185Z"
   },
   {
    "duration": 293,
    "start_time": "2025-10-17T15:52:25.507Z"
   },
   {
    "duration": 264,
    "start_time": "2025-10-17T15:52:25.806Z"
   },
   {
    "duration": 252,
    "start_time": "2025-10-17T15:53:45.763Z"
   },
   {
    "duration": 7,
    "start_time": "2025-10-17T16:01:13.723Z"
   },
   {
    "duration": 391,
    "start_time": "2025-10-17T16:01:24.508Z"
   },
   {
    "duration": 347,
    "start_time": "2025-10-17T16:03:40.885Z"
   },
   {
    "duration": 104,
    "start_time": "2025-10-17T16:05:34.547Z"
   },
   {
    "duration": 1399,
    "start_time": "2025-10-17T16:05:57.982Z"
   },
   {
    "duration": 145,
    "start_time": "2025-10-17T16:06:04.875Z"
   },
   {
    "duration": 354,
    "start_time": "2025-10-17T16:06:34.211Z"
   },
   {
    "duration": 301,
    "start_time": "2025-10-17T16:07:20.892Z"
   },
   {
    "duration": 8,
    "start_time": "2025-10-17T16:09:11.963Z"
   },
   {
    "duration": 173,
    "start_time": "2025-10-17T16:09:18.108Z"
   },
   {
    "duration": 210,
    "start_time": "2025-10-17T16:09:26.068Z"
   },
   {
    "duration": 13,
    "start_time": "2025-10-17T16:09:42.467Z"
   },
   {
    "duration": 108,
    "start_time": "2025-10-17T16:11:50.667Z"
   },
   {
    "duration": 44,
    "start_time": "2025-10-18T13:37:31.749Z"
   },
   {
    "duration": 753,
    "start_time": "2025-10-18T13:37:37.000Z"
   },
   {
    "duration": 3,
    "start_time": "2025-10-18T13:37:37.755Z"
   },
   {
    "duration": 12,
    "start_time": "2025-10-18T13:37:37.759Z"
   },
   {
    "duration": 10322,
    "start_time": "2025-10-18T13:37:37.772Z"
   },
   {
    "duration": 3,
    "start_time": "2025-10-18T13:37:48.096Z"
   },
   {
    "duration": 209537,
    "start_time": "2025-10-18T13:37:48.100Z"
   },
   {
    "duration": 23,
    "start_time": "2025-10-18T13:41:17.638Z"
   },
   {
    "duration": 212,
    "start_time": "2025-10-18T13:41:17.662Z"
   },
   {
    "duration": 40,
    "start_time": "2025-10-18T13:41:17.875Z"
   },
   {
    "duration": 7,
    "start_time": "2025-10-18T13:41:17.917Z"
   },
   {
    "duration": 15,
    "start_time": "2025-10-18T13:41:17.926Z"
   },
   {
    "duration": 5,
    "start_time": "2025-10-18T13:41:17.942Z"
   },
   {
    "duration": 5,
    "start_time": "2025-10-18T13:41:17.948Z"
   },
   {
    "duration": 6433,
    "start_time": "2025-10-18T13:41:17.956Z"
   },
   {
    "duration": 75,
    "start_time": "2025-10-18T13:41:24.391Z"
   },
   {
    "duration": 94,
    "start_time": "2025-10-18T13:41:24.467Z"
   },
   {
    "duration": 7,
    "start_time": "2025-10-18T13:41:24.563Z"
   },
   {
    "duration": 5,
    "start_time": "2025-10-18T13:41:24.571Z"
   },
   {
    "duration": 4,
    "start_time": "2025-10-18T13:41:24.578Z"
   },
   {
    "duration": 69,
    "start_time": "2025-10-18T13:41:24.583Z"
   },
   {
    "duration": 278,
    "start_time": "2025-10-18T13:41:24.654Z"
   },
   {
    "duration": 346,
    "start_time": "2025-10-18T13:41:24.933Z"
   },
   {
    "duration": 379,
    "start_time": "2025-10-18T13:41:25.280Z"
   },
   {
    "duration": 223,
    "start_time": "2025-10-18T13:41:25.660Z"
   },
   {
    "duration": 301,
    "start_time": "2025-10-18T13:41:25.885Z"
   },
   {
    "duration": 271,
    "start_time": "2025-10-18T13:41:26.187Z"
   },
   {
    "duration": 214,
    "start_time": "2025-10-18T13:41:26.459Z"
   },
   {
    "duration": 86,
    "start_time": "2025-10-18T13:41:26.675Z"
   },
   {
    "duration": 40,
    "start_time": "2025-10-18T13:41:26.763Z"
   },
   {
    "duration": 9,
    "start_time": "2025-10-18T13:48:29.510Z"
   },
   {
    "duration": 549,
    "start_time": "2025-10-18T13:48:34.051Z"
   },
   {
    "duration": 10,
    "start_time": "2025-10-18T13:49:30.605Z"
   },
   {
    "duration": 7,
    "start_time": "2025-10-18T13:49:36.736Z"
   },
   {
    "duration": 78,
    "start_time": "2025-10-18T13:51:01.157Z"
   },
   {
    "duration": 10,
    "start_time": "2025-10-18T13:51:18.595Z"
   },
   {
    "duration": 89,
    "start_time": "2025-10-18T13:51:37.598Z"
   },
   {
    "duration": 191,
    "start_time": "2025-10-18T13:51:49.382Z"
   },
   {
    "duration": 211,
    "start_time": "2025-10-18T13:52:06.078Z"
   },
   {
    "duration": 192,
    "start_time": "2025-10-18T13:52:13.601Z"
   },
   {
    "duration": 235,
    "start_time": "2025-10-18T13:52:25.567Z"
   },
   {
    "duration": 195,
    "start_time": "2025-10-18T13:52:53.175Z"
   },
   {
    "duration": 225,
    "start_time": "2025-10-18T13:52:58.483Z"
   },
   {
    "duration": 2,
    "start_time": "2025-10-18T13:57:34.606Z"
   },
   {
    "duration": 50,
    "start_time": "2025-10-19T15:15:42.854Z"
   },
   {
    "duration": 968,
    "start_time": "2025-10-19T15:15:47.474Z"
   },
   {
    "duration": 4,
    "start_time": "2025-10-19T15:15:48.445Z"
   },
   {
    "duration": 18,
    "start_time": "2025-10-19T15:15:48.450Z"
   },
   {
    "duration": 10013,
    "start_time": "2025-10-19T15:15:48.471Z"
   },
   {
    "duration": 3,
    "start_time": "2025-10-19T15:15:58.486Z"
   },
   {
    "duration": 4873,
    "start_time": "2025-10-19T15:15:58.490Z"
   },
   {
    "duration": 21,
    "start_time": "2025-10-19T15:16:03.365Z"
   },
   {
    "duration": 274,
    "start_time": "2025-10-19T15:16:03.388Z"
   },
   {
    "duration": 82,
    "start_time": "2025-10-19T15:16:03.664Z"
   },
   {
    "duration": 9,
    "start_time": "2025-10-19T15:16:03.748Z"
   },
   {
    "duration": 15,
    "start_time": "2025-10-19T15:16:03.758Z"
   },
   {
    "duration": 5,
    "start_time": "2025-10-19T15:16:03.774Z"
   },
   {
    "duration": 4,
    "start_time": "2025-10-19T15:16:03.781Z"
   },
   {
    "duration": 7796,
    "start_time": "2025-10-19T15:16:03.786Z"
   },
   {
    "duration": 98,
    "start_time": "2025-10-19T15:16:11.584Z"
   },
   {
    "duration": 120,
    "start_time": "2025-10-19T15:16:11.684Z"
   },
   {
    "duration": 8,
    "start_time": "2025-10-19T15:16:11.806Z"
   },
   {
    "duration": 58,
    "start_time": "2025-10-19T15:16:11.815Z"
   },
   {
    "duration": 6,
    "start_time": "2025-10-19T15:16:11.874Z"
   },
   {
    "duration": 65,
    "start_time": "2025-10-19T15:16:11.881Z"
   },
   {
    "duration": 388,
    "start_time": "2025-10-19T15:16:11.947Z"
   },
   {
    "duration": 425,
    "start_time": "2025-10-19T15:16:12.337Z"
   },
   {
    "duration": 483,
    "start_time": "2025-10-19T15:16:12.764Z"
   },
   {
    "duration": 287,
    "start_time": "2025-10-19T15:16:13.249Z"
   },
   {
    "duration": 321,
    "start_time": "2025-10-19T15:16:13.538Z"
   },
   {
    "duration": 326,
    "start_time": "2025-10-19T15:16:13.860Z"
   },
   {
    "duration": 261,
    "start_time": "2025-10-19T15:16:14.187Z"
   },
   {
    "duration": 116,
    "start_time": "2025-10-19T15:16:14.451Z"
   },
   {
    "duration": 280,
    "start_time": "2025-10-19T15:16:14.568Z"
   },
   {
    "duration": 193,
    "start_time": "2025-10-19T15:16:14.850Z"
   },
   {
    "duration": 76,
    "start_time": "2025-10-19T15:20:29.908Z"
   },
   {
    "duration": 72,
    "start_time": "2025-10-19T15:22:32.741Z"
   },
   {
    "duration": 63,
    "start_time": "2025-10-19T15:35:52.358Z"
   },
   {
    "duration": 61,
    "start_time": "2025-10-19T15:36:09.025Z"
   },
   {
    "duration": 182,
    "start_time": "2025-10-19T15:36:31.207Z"
   },
   {
    "duration": 149,
    "start_time": "2025-10-19T15:36:44.798Z"
   },
   {
    "duration": 159,
    "start_time": "2025-10-19T15:37:15.275Z"
   },
   {
    "duration": 144,
    "start_time": "2025-10-19T15:37:29.285Z"
   },
   {
    "duration": 149,
    "start_time": "2025-10-19T15:38:25.576Z"
   },
   {
    "duration": 175,
    "start_time": "2025-10-19T15:39:56.688Z"
   },
   {
    "duration": 156,
    "start_time": "2025-10-19T15:43:54.986Z"
   },
   {
    "duration": 174,
    "start_time": "2025-10-19T15:44:02.593Z"
   },
   {
    "duration": 113,
    "start_time": "2025-10-19T15:48:00.481Z"
   },
   {
    "duration": 981,
    "start_time": "2025-10-20T20:01:23.838Z"
   },
   {
    "duration": 4,
    "start_time": "2025-10-20T20:01:24.822Z"
   },
   {
    "duration": 9,
    "start_time": "2025-10-20T20:01:24.828Z"
   },
   {
    "duration": 9566,
    "start_time": "2025-10-20T20:01:24.839Z"
   },
   {
    "duration": 3,
    "start_time": "2025-10-20T20:01:34.408Z"
   },
   {
    "duration": 5158,
    "start_time": "2025-10-20T20:01:34.412Z"
   },
   {
    "duration": 21,
    "start_time": "2025-10-20T20:01:39.572Z"
   },
   {
    "duration": 267,
    "start_time": "2025-10-20T20:01:39.595Z"
   },
   {
    "duration": 41,
    "start_time": "2025-10-20T20:01:39.863Z"
   },
   {
    "duration": 9,
    "start_time": "2025-10-20T20:01:39.905Z"
   },
   {
    "duration": 22,
    "start_time": "2025-10-20T20:01:39.915Z"
   },
   {
    "duration": 6,
    "start_time": "2025-10-20T20:01:39.939Z"
   },
   {
    "duration": 3,
    "start_time": "2025-10-20T20:01:39.947Z"
   },
   {
    "duration": 7566,
    "start_time": "2025-10-20T20:01:39.953Z"
   },
   {
    "duration": 98,
    "start_time": "2025-10-20T20:01:47.521Z"
   },
   {
    "duration": 129,
    "start_time": "2025-10-20T20:01:47.621Z"
   },
   {
    "duration": 13,
    "start_time": "2025-10-20T20:01:47.751Z"
   },
   {
    "duration": 9,
    "start_time": "2025-10-20T20:01:47.765Z"
   },
   {
    "duration": 5,
    "start_time": "2025-10-20T20:01:47.776Z"
   },
   {
    "duration": 83,
    "start_time": "2025-10-20T20:01:47.783Z"
   },
   {
    "duration": 372,
    "start_time": "2025-10-20T20:01:47.868Z"
   },
   {
    "duration": 402,
    "start_time": "2025-10-20T20:01:48.242Z"
   },
   {
    "duration": 470,
    "start_time": "2025-10-20T20:01:48.656Z"
   },
   {
    "duration": 285,
    "start_time": "2025-10-20T20:01:49.128Z"
   },
   {
    "duration": 309,
    "start_time": "2025-10-20T20:01:49.414Z"
   },
   {
    "duration": 306,
    "start_time": "2025-10-20T20:01:49.725Z"
   },
   {
    "duration": 276,
    "start_time": "2025-10-20T20:01:50.033Z"
   },
   {
    "duration": 116,
    "start_time": "2025-10-20T20:01:50.311Z"
   },
   {
    "duration": 275,
    "start_time": "2025-10-20T20:01:50.429Z"
   },
   {
    "duration": 196,
    "start_time": "2025-10-20T20:01:50.705Z"
   },
   {
    "duration": 118,
    "start_time": "2025-10-20T20:04:14.099Z"
   },
   {
    "duration": 131,
    "start_time": "2025-10-20T20:05:04.262Z"
   },
   {
    "duration": 138,
    "start_time": "2025-10-20T20:05:24.292Z"
   },
   {
    "duration": 159,
    "start_time": "2025-10-20T20:05:34.142Z"
   },
   {
    "duration": 140,
    "start_time": "2025-10-20T20:06:23.777Z"
   },
   {
    "duration": 152,
    "start_time": "2025-10-20T20:06:35.196Z"
   },
   {
    "duration": 150,
    "start_time": "2025-10-20T20:06:47.276Z"
   },
   {
    "duration": 150,
    "start_time": "2025-10-20T20:07:51.424Z"
   },
   {
    "duration": 164,
    "start_time": "2025-10-20T20:12:01.274Z"
   },
   {
    "duration": 163,
    "start_time": "2025-10-20T20:18:37.943Z"
   },
   {
    "duration": 149,
    "start_time": "2025-10-20T20:19:34.784Z"
   },
   {
    "duration": 149,
    "start_time": "2025-10-20T20:20:43.114Z"
   },
   {
    "duration": 70,
    "start_time": "2025-10-20T20:42:05.937Z"
   },
   {
    "duration": 38,
    "start_time": "2025-10-20T20:42:12.770Z"
   },
   {
    "duration": 30,
    "start_time": "2025-10-20T20:42:27.846Z"
   },
   {
    "duration": 30,
    "start_time": "2025-10-20T20:42:39.669Z"
   },
   {
    "duration": 63,
    "start_time": "2025-10-20T20:44:49.535Z"
   },
   {
    "duration": 66,
    "start_time": "2025-10-20T20:45:15.979Z"
   },
   {
    "duration": 1361,
    "start_time": "2025-10-20T20:45:22.981Z"
   },
   {
    "duration": 1249,
    "start_time": "2025-10-20T20:47:26.210Z"
   },
   {
    "duration": 0,
    "start_time": "2025-10-20T20:52:16.406Z"
   },
   {
    "duration": 0,
    "start_time": "2025-10-20T20:52:16.409Z"
   },
   {
    "duration": 0,
    "start_time": "2025-10-20T20:52:16.410Z"
   },
   {
    "duration": 747,
    "start_time": "2025-10-20T20:53:04.564Z"
   },
   {
    "duration": 3,
    "start_time": "2025-10-20T20:53:05.314Z"
   },
   {
    "duration": 5,
    "start_time": "2025-10-20T20:53:05.318Z"
   },
   {
    "duration": 10079,
    "start_time": "2025-10-20T20:53:05.325Z"
   },
   {
    "duration": 3,
    "start_time": "2025-10-20T20:53:15.406Z"
   },
   {
    "duration": 6635,
    "start_time": "2025-10-20T20:53:15.411Z"
   },
   {
    "duration": 24,
    "start_time": "2025-10-20T20:53:22.047Z"
   },
   {
    "duration": 275,
    "start_time": "2025-10-20T20:53:22.072Z"
   },
   {
    "duration": 50,
    "start_time": "2025-10-20T20:53:22.349Z"
   },
   {
    "duration": 8,
    "start_time": "2025-10-20T20:53:22.401Z"
   },
   {
    "duration": 62,
    "start_time": "2025-10-20T20:53:22.410Z"
   },
   {
    "duration": 4,
    "start_time": "2025-10-20T20:53:22.473Z"
   },
   {
    "duration": 8,
    "start_time": "2025-10-20T20:53:22.478Z"
   },
   {
    "duration": 7424,
    "start_time": "2025-10-20T20:53:22.489Z"
   },
   {
    "duration": 101,
    "start_time": "2025-10-20T20:53:29.915Z"
   },
   {
    "duration": 139,
    "start_time": "2025-10-20T20:53:30.018Z"
   },
   {
    "duration": 8,
    "start_time": "2025-10-20T20:53:30.159Z"
   },
   {
    "duration": 10,
    "start_time": "2025-10-20T20:53:30.168Z"
   },
   {
    "duration": 14,
    "start_time": "2025-10-20T20:53:30.180Z"
   },
   {
    "duration": 85,
    "start_time": "2025-10-20T20:53:30.196Z"
   },
   {
    "duration": 412,
    "start_time": "2025-10-20T20:53:30.283Z"
   },
   {
    "duration": 444,
    "start_time": "2025-10-20T20:53:30.697Z"
   },
   {
    "duration": 490,
    "start_time": "2025-10-20T20:53:31.143Z"
   },
   {
    "duration": 302,
    "start_time": "2025-10-20T20:53:31.636Z"
   },
   {
    "duration": 344,
    "start_time": "2025-10-20T20:53:31.940Z"
   },
   {
    "duration": 320,
    "start_time": "2025-10-20T20:53:32.286Z"
   },
   {
    "duration": 272,
    "start_time": "2025-10-20T20:53:32.607Z"
   },
   {
    "duration": 124,
    "start_time": "2025-10-20T20:53:32.881Z"
   },
   {
    "duration": 272,
    "start_time": "2025-10-20T20:53:33.006Z"
   },
   {
    "duration": 156,
    "start_time": "2025-10-20T20:53:33.279Z"
   },
   {
    "duration": 730,
    "start_time": "2025-10-20T20:54:10.862Z"
   },
   {
    "duration": 3,
    "start_time": "2025-10-20T20:54:11.594Z"
   },
   {
    "duration": 17,
    "start_time": "2025-10-20T20:54:11.599Z"
   },
   {
    "duration": 9962,
    "start_time": "2025-10-20T20:54:11.618Z"
   },
   {
    "duration": 3,
    "start_time": "2025-10-20T20:54:21.582Z"
   },
   {
    "duration": 5171,
    "start_time": "2025-10-20T20:54:21.586Z"
   },
   {
    "duration": 19,
    "start_time": "2025-10-20T20:54:26.759Z"
   },
   {
    "duration": 262,
    "start_time": "2025-10-20T20:54:26.780Z"
   },
   {
    "duration": 45,
    "start_time": "2025-10-20T20:54:27.043Z"
   },
   {
    "duration": 9,
    "start_time": "2025-10-20T20:54:27.091Z"
   },
   {
    "duration": 10,
    "start_time": "2025-10-20T20:54:27.101Z"
   },
   {
    "duration": 5,
    "start_time": "2025-10-20T20:54:27.113Z"
   },
   {
    "duration": 4,
    "start_time": "2025-10-20T20:54:27.119Z"
   },
   {
    "duration": 7421,
    "start_time": "2025-10-20T20:54:27.124Z"
   },
   {
    "duration": 92,
    "start_time": "2025-10-20T20:54:34.547Z"
   },
   {
    "duration": 144,
    "start_time": "2025-10-20T20:54:34.640Z"
   },
   {
    "duration": 8,
    "start_time": "2025-10-20T20:54:34.786Z"
   },
   {
    "duration": 7,
    "start_time": "2025-10-20T20:54:34.796Z"
   },
   {
    "duration": 5,
    "start_time": "2025-10-20T20:54:34.804Z"
   },
   {
    "duration": 96,
    "start_time": "2025-10-20T20:54:34.810Z"
   },
   {
    "duration": 391,
    "start_time": "2025-10-20T20:54:34.908Z"
   },
   {
    "duration": 393,
    "start_time": "2025-10-20T20:54:35.301Z"
   },
   {
    "duration": 491,
    "start_time": "2025-10-20T20:54:35.695Z"
   },
   {
    "duration": 281,
    "start_time": "2025-10-20T20:54:36.188Z"
   },
   {
    "duration": 319,
    "start_time": "2025-10-20T20:54:36.471Z"
   },
   {
    "duration": 318,
    "start_time": "2025-10-20T20:54:36.792Z"
   },
   {
    "duration": 263,
    "start_time": "2025-10-20T20:54:37.112Z"
   },
   {
    "duration": 120,
    "start_time": "2025-10-20T20:54:37.378Z"
   },
   {
    "duration": 268,
    "start_time": "2025-10-20T20:54:37.500Z"
   },
   {
    "duration": 158,
    "start_time": "2025-10-20T20:54:37.770Z"
   },
   {
    "duration": 1606,
    "start_time": "2025-10-20T20:54:37.930Z"
   },
   {
    "duration": 0,
    "start_time": "2025-10-20T20:54:39.537Z"
   },
   {
    "duration": 28,
    "start_time": "2025-10-20T20:56:34.281Z"
   },
   {
    "duration": 8,
    "start_time": "2025-10-20T20:56:44.504Z"
   },
   {
    "duration": 1236,
    "start_time": "2025-10-20T20:57:04.350Z"
   },
   {
    "duration": 4,
    "start_time": "2025-10-20T20:57:29.801Z"
   },
   {
    "duration": 1347,
    "start_time": "2025-10-20T20:58:09.201Z"
   },
   {
    "duration": 14,
    "start_time": "2025-10-20T20:58:37.680Z"
   },
   {
    "duration": 26,
    "start_time": "2025-10-20T20:58:43.212Z"
   },
   {
    "duration": 271,
    "start_time": "2025-10-20T20:59:33.040Z"
   },
   {
    "duration": 1238,
    "start_time": "2025-10-20T20:59:47.787Z"
   },
   {
    "duration": 1574,
    "start_time": "2025-10-20T20:59:58.453Z"
   },
   {
    "duration": 163,
    "start_time": "2025-10-20T21:00:23.645Z"
   },
   {
    "duration": 165,
    "start_time": "2025-10-20T21:00:34.978Z"
   },
   {
    "duration": 1352,
    "start_time": "2025-10-20T21:00:38.311Z"
   },
   {
    "duration": 765,
    "start_time": "2025-10-20T21:03:05.754Z"
   },
   {
    "duration": 3,
    "start_time": "2025-10-20T21:03:06.521Z"
   },
   {
    "duration": 35,
    "start_time": "2025-10-20T21:03:06.526Z"
   },
   {
    "duration": 9838,
    "start_time": "2025-10-20T21:03:06.564Z"
   },
   {
    "duration": 3,
    "start_time": "2025-10-20T21:03:16.404Z"
   },
   {
    "duration": 5068,
    "start_time": "2025-10-20T21:03:16.408Z"
   },
   {
    "duration": 20,
    "start_time": "2025-10-20T21:03:21.477Z"
   },
   {
    "duration": 273,
    "start_time": "2025-10-20T21:03:21.498Z"
   },
   {
    "duration": 42,
    "start_time": "2025-10-20T21:03:21.773Z"
   },
   {
    "duration": 11,
    "start_time": "2025-10-20T21:03:21.818Z"
   },
   {
    "duration": 26,
    "start_time": "2025-10-20T21:03:21.831Z"
   },
   {
    "duration": 17,
    "start_time": "2025-10-20T21:03:21.859Z"
   },
   {
    "duration": 7,
    "start_time": "2025-10-20T21:03:21.878Z"
   },
   {
    "duration": 7515,
    "start_time": "2025-10-20T21:03:21.887Z"
   },
   {
    "duration": 101,
    "start_time": "2025-10-20T21:03:29.404Z"
   },
   {
    "duration": 141,
    "start_time": "2025-10-20T21:03:29.507Z"
   },
   {
    "duration": 13,
    "start_time": "2025-10-20T21:03:29.649Z"
   },
   {
    "duration": 12,
    "start_time": "2025-10-20T21:03:29.664Z"
   },
   {
    "duration": 5,
    "start_time": "2025-10-20T21:03:29.678Z"
   },
   {
    "duration": 83,
    "start_time": "2025-10-20T21:03:29.684Z"
   },
   {
    "duration": 393,
    "start_time": "2025-10-20T21:03:29.769Z"
   },
   {
    "duration": 439,
    "start_time": "2025-10-20T21:03:30.164Z"
   },
   {
    "duration": 485,
    "start_time": "2025-10-20T21:03:30.605Z"
   },
   {
    "duration": 299,
    "start_time": "2025-10-20T21:03:31.092Z"
   },
   {
    "duration": 324,
    "start_time": "2025-10-20T21:03:31.393Z"
   },
   {
    "duration": 327,
    "start_time": "2025-10-20T21:03:31.718Z"
   },
   {
    "duration": 288,
    "start_time": "2025-10-20T21:03:32.058Z"
   },
   {
    "duration": 131,
    "start_time": "2025-10-20T21:03:32.349Z"
   },
   {
    "duration": 284,
    "start_time": "2025-10-20T21:03:32.482Z"
   },
   {
    "duration": 173,
    "start_time": "2025-10-20T21:03:32.768Z"
   },
   {
    "duration": 120,
    "start_time": "2025-10-20T21:03:32.943Z"
   },
   {
    "duration": 27,
    "start_time": "2025-10-20T21:03:33.065Z"
   },
   {
    "duration": 126,
    "start_time": "2025-10-20T21:04:09.473Z"
   },
   {
    "duration": 121,
    "start_time": "2025-10-20T21:12:36.712Z"
   },
   {
    "duration": 102,
    "start_time": "2025-10-20T21:12:42.871Z"
   },
   {
    "duration": 56,
    "start_time": "2025-10-22T11:10:13.793Z"
   },
   {
    "duration": 1080,
    "start_time": "2025-10-22T11:10:17.095Z"
   },
   {
    "duration": 3,
    "start_time": "2025-10-22T11:10:18.178Z"
   },
   {
    "duration": 11,
    "start_time": "2025-10-22T11:10:18.183Z"
   },
   {
    "duration": 17562,
    "start_time": "2025-10-22T11:10:18.196Z"
   },
   {
    "duration": 3,
    "start_time": "2025-10-22T11:10:35.759Z"
   },
   {
    "duration": 45082,
    "start_time": "2025-10-22T11:10:35.764Z"
   },
   {
    "duration": 21,
    "start_time": "2025-10-22T11:11:20.847Z"
   },
   {
    "duration": 270,
    "start_time": "2025-10-22T11:11:20.870Z"
   },
   {
    "duration": 47,
    "start_time": "2025-10-22T11:11:21.142Z"
   },
   {
    "duration": 30,
    "start_time": "2025-10-22T11:11:21.191Z"
   },
   {
    "duration": 18,
    "start_time": "2025-10-22T11:11:21.223Z"
   },
   {
    "duration": 76,
    "start_time": "2025-10-22T11:11:21.243Z"
   },
   {
    "duration": 21,
    "start_time": "2025-10-22T11:11:21.320Z"
   },
   {
    "duration": 8049,
    "start_time": "2025-10-22T11:11:21.342Z"
   },
   {
    "duration": 95,
    "start_time": "2025-10-22T11:11:29.393Z"
   },
   {
    "duration": 136,
    "start_time": "2025-10-22T11:11:29.489Z"
   },
   {
    "duration": 8,
    "start_time": "2025-10-22T11:11:29.627Z"
   },
   {
    "duration": 50,
    "start_time": "2025-10-22T11:11:29.637Z"
   },
   {
    "duration": 7,
    "start_time": "2025-10-22T11:11:29.688Z"
   },
   {
    "duration": 78,
    "start_time": "2025-10-22T11:11:29.697Z"
   },
   {
    "duration": 375,
    "start_time": "2025-10-22T11:11:29.777Z"
   },
   {
    "duration": 481,
    "start_time": "2025-10-22T11:11:30.155Z"
   },
   {
    "duration": 526,
    "start_time": "2025-10-22T11:11:30.638Z"
   },
   {
    "duration": 310,
    "start_time": "2025-10-22T11:11:31.166Z"
   },
   {
    "duration": 341,
    "start_time": "2025-10-22T11:11:31.478Z"
   },
   {
    "duration": 344,
    "start_time": "2025-10-22T11:11:31.822Z"
   },
   {
    "duration": 304,
    "start_time": "2025-10-22T11:11:32.169Z"
   },
   {
    "duration": 124,
    "start_time": "2025-10-22T11:11:32.476Z"
   },
   {
    "duration": 292,
    "start_time": "2025-10-22T11:11:32.602Z"
   },
   {
    "duration": 177,
    "start_time": "2025-10-22T11:11:32.897Z"
   },
   {
    "duration": 117,
    "start_time": "2025-10-22T11:14:55.722Z"
   },
   {
    "duration": 89,
    "start_time": "2025-10-22T11:15:51.121Z"
   },
   {
    "duration": 113,
    "start_time": "2025-10-22T11:16:09.646Z"
   },
   {
    "duration": 409,
    "start_time": "2025-10-22T11:20:22.957Z"
   },
   {
    "duration": 386,
    "start_time": "2025-10-22T11:21:19.712Z"
   },
   {
    "duration": 3,
    "start_time": "2025-10-22T11:31:13.767Z"
   },
   {
    "duration": 22,
    "start_time": "2025-10-22T11:31:13.773Z"
   },
   {
    "duration": 9,
    "start_time": "2025-10-22T11:31:13.796Z"
   },
   {
    "duration": 7,
    "start_time": "2025-10-22T11:31:13.807Z"
   },
   {
    "duration": 6,
    "start_time": "2025-10-22T11:31:13.816Z"
   },
   {
    "duration": 7663,
    "start_time": "2025-10-22T11:31:13.824Z"
   },
   {
    "duration": 26,
    "start_time": "2025-10-22T11:31:21.489Z"
   },
   {
    "duration": 284,
    "start_time": "2025-10-22T11:31:21.517Z"
   },
   {
    "duration": 43,
    "start_time": "2025-10-22T11:31:21.803Z"
   },
   {
    "duration": 10,
    "start_time": "2025-10-22T11:31:21.850Z"
   },
   {
    "duration": 12,
    "start_time": "2025-10-22T11:31:21.863Z"
   },
   {
    "duration": 6,
    "start_time": "2025-10-22T11:31:21.878Z"
   },
   {
    "duration": 23,
    "start_time": "2025-10-22T11:31:21.886Z"
   },
   {
    "duration": 8073,
    "start_time": "2025-10-22T11:31:21.911Z"
   },
   {
    "duration": 103,
    "start_time": "2025-10-22T11:31:29.986Z"
   },
   {
    "duration": 146,
    "start_time": "2025-10-22T11:31:30.091Z"
   },
   {
    "duration": 10,
    "start_time": "2025-10-22T11:31:30.239Z"
   },
   {
    "duration": 9,
    "start_time": "2025-10-22T11:31:30.251Z"
   },
   {
    "duration": 18,
    "start_time": "2025-10-22T11:31:30.262Z"
   },
   {
    "duration": 144,
    "start_time": "2025-10-22T11:31:30.282Z"
   },
   {
    "duration": 416,
    "start_time": "2025-10-22T11:31:30.428Z"
   },
   {
    "duration": 437,
    "start_time": "2025-10-22T11:31:30.846Z"
   },
   {
    "duration": 553,
    "start_time": "2025-10-22T11:31:31.285Z"
   },
   {
    "duration": 317,
    "start_time": "2025-10-22T11:31:31.840Z"
   },
   {
    "duration": 341,
    "start_time": "2025-10-22T11:31:32.158Z"
   },
   {
    "duration": 352,
    "start_time": "2025-10-22T11:31:32.506Z"
   },
   {
    "duration": 374,
    "start_time": "2025-10-22T11:31:32.860Z"
   },
   {
    "duration": 132,
    "start_time": "2025-10-22T11:31:33.238Z"
   },
   {
    "duration": 335,
    "start_time": "2025-10-22T11:31:33.372Z"
   },
   {
    "duration": 186,
    "start_time": "2025-10-22T11:31:33.709Z"
   },
   {
    "duration": 107,
    "start_time": "2025-10-22T11:34:19.675Z"
   },
   {
    "duration": 114,
    "start_time": "2025-10-22T11:35:57.441Z"
   },
   {
    "duration": 139,
    "start_time": "2025-10-22T11:36:53.555Z"
   },
   {
    "duration": 126,
    "start_time": "2025-10-22T11:40:31.485Z"
   },
   {
    "duration": 129,
    "start_time": "2025-10-22T11:42:25.932Z"
   },
   {
    "duration": 128,
    "start_time": "2025-10-22T11:42:33.304Z"
   },
   {
    "duration": 531,
    "start_time": "2025-10-22T11:51:34.698Z"
   },
   {
    "duration": 0,
    "start_time": "2025-10-22T11:51:35.231Z"
   },
   {
    "duration": 175,
    "start_time": "2025-10-22T11:52:02.887Z"
   },
   {
    "duration": 159,
    "start_time": "2025-10-22T11:52:56.638Z"
   },
   {
    "duration": 990,
    "start_time": "2025-10-22T14:13:01.809Z"
   },
   {
    "duration": 2,
    "start_time": "2025-10-22T14:13:02.802Z"
   },
   {
    "duration": 8,
    "start_time": "2025-10-22T14:13:02.806Z"
   },
   {
    "duration": 10722,
    "start_time": "2025-10-22T14:13:02.816Z"
   },
   {
    "duration": 4,
    "start_time": "2025-10-22T14:13:13.540Z"
   },
   {
    "duration": 5127,
    "start_time": "2025-10-22T14:13:13.547Z"
   },
   {
    "duration": 43,
    "start_time": "2025-10-22T14:13:18.676Z"
   },
   {
    "duration": 256,
    "start_time": "2025-10-22T14:13:18.721Z"
   },
   {
    "duration": 59,
    "start_time": "2025-10-22T14:13:18.979Z"
   },
   {
    "duration": 9,
    "start_time": "2025-10-22T14:13:19.043Z"
   },
   {
    "duration": 16,
    "start_time": "2025-10-22T14:13:19.055Z"
   },
   {
    "duration": 8,
    "start_time": "2025-10-22T14:13:19.073Z"
   },
   {
    "duration": 8,
    "start_time": "2025-10-22T14:13:19.083Z"
   },
   {
    "duration": 8259,
    "start_time": "2025-10-22T14:13:19.093Z"
   },
   {
    "duration": 95,
    "start_time": "2025-10-22T14:13:27.354Z"
   },
   {
    "duration": 132,
    "start_time": "2025-10-22T14:13:27.451Z"
   },
   {
    "duration": 8,
    "start_time": "2025-10-22T14:13:27.585Z"
   },
   {
    "duration": 23,
    "start_time": "2025-10-22T14:13:27.595Z"
   },
   {
    "duration": 5,
    "start_time": "2025-10-22T14:13:27.620Z"
   },
   {
    "duration": 83,
    "start_time": "2025-10-22T14:13:27.627Z"
   },
   {
    "duration": 369,
    "start_time": "2025-10-22T14:13:27.720Z"
   },
   {
    "duration": 442,
    "start_time": "2025-10-22T14:13:28.092Z"
   },
   {
    "duration": 513,
    "start_time": "2025-10-22T14:13:28.537Z"
   },
   {
    "duration": 297,
    "start_time": "2025-10-22T14:13:29.052Z"
   },
   {
    "duration": 329,
    "start_time": "2025-10-22T14:13:29.351Z"
   },
   {
    "duration": 342,
    "start_time": "2025-10-22T14:13:29.681Z"
   },
   {
    "duration": 280,
    "start_time": "2025-10-22T14:13:30.024Z"
   },
   {
    "duration": 136,
    "start_time": "2025-10-22T14:13:30.309Z"
   },
   {
    "duration": 307,
    "start_time": "2025-10-22T14:13:30.446Z"
   },
   {
    "duration": 189,
    "start_time": "2025-10-22T14:13:30.755Z"
   },
   {
    "duration": 136,
    "start_time": "2025-10-22T14:13:30.946Z"
   },
   {
    "duration": 139,
    "start_time": "2025-10-22T14:13:31.084Z"
   },
   {
    "duration": 1608,
    "start_time": "2025-10-22T14:17:32.878Z"
   },
   {
    "duration": 169,
    "start_time": "2025-10-22T14:17:57.602Z"
   },
   {
    "duration": 1549,
    "start_time": "2025-10-22T14:18:06.827Z"
   },
   {
    "duration": 7,
    "start_time": "2025-10-22T14:18:51.308Z"
   },
   {
    "duration": 7,
    "start_time": "2025-10-22T14:19:33.865Z"
   },
   {
    "duration": 7,
    "start_time": "2025-10-22T14:19:48.062Z"
   },
   {
    "duration": 8,
    "start_time": "2025-10-22T14:20:30.414Z"
   },
   {
    "duration": 1399,
    "start_time": "2025-10-22T14:26:01.708Z"
   },
   {
    "duration": 109,
    "start_time": "2025-10-22T14:26:40.823Z"
   },
   {
    "duration": 103,
    "start_time": "2025-10-22T14:26:43.755Z"
   },
   {
    "duration": 127,
    "start_time": "2025-10-22T14:26:46.346Z"
   },
   {
    "duration": 9,
    "start_time": "2025-10-22T14:26:50.332Z"
   },
   {
    "duration": 8,
    "start_time": "2025-10-22T14:27:18.536Z"
   },
   {
    "duration": 8,
    "start_time": "2025-10-22T14:27:27.429Z"
   },
   {
    "duration": 8,
    "start_time": "2025-10-22T15:04:57.583Z"
   },
   {
    "duration": 22,
    "start_time": "2025-10-22T16:06:57.473Z"
   },
   {
    "duration": 53,
    "start_time": "2025-10-23T13:22:19.993Z"
   },
   {
    "duration": 983,
    "start_time": "2025-10-23T13:22:25.520Z"
   },
   {
    "duration": 4,
    "start_time": "2025-10-23T13:22:26.505Z"
   },
   {
    "duration": 6,
    "start_time": "2025-10-23T13:22:26.510Z"
   },
   {
    "duration": 9692,
    "start_time": "2025-10-23T13:22:26.518Z"
   },
   {
    "duration": 3,
    "start_time": "2025-10-23T13:22:36.212Z"
   },
   {
    "duration": 5244,
    "start_time": "2025-10-23T13:22:36.217Z"
   },
   {
    "duration": 20,
    "start_time": "2025-10-23T13:22:41.463Z"
   },
   {
    "duration": 231,
    "start_time": "2025-10-23T13:22:41.484Z"
   },
   {
    "duration": 58,
    "start_time": "2025-10-23T13:22:41.717Z"
   },
   {
    "duration": 8,
    "start_time": "2025-10-23T13:22:41.778Z"
   },
   {
    "duration": 24,
    "start_time": "2025-10-23T13:22:41.787Z"
   },
   {
    "duration": 9,
    "start_time": "2025-10-23T13:22:41.813Z"
   },
   {
    "duration": 15,
    "start_time": "2025-10-23T13:22:41.824Z"
   },
   {
    "duration": 7781,
    "start_time": "2025-10-23T13:22:41.841Z"
   },
   {
    "duration": 77,
    "start_time": "2025-10-23T13:22:49.624Z"
   },
   {
    "duration": 118,
    "start_time": "2025-10-23T13:22:49.703Z"
   },
   {
    "duration": 8,
    "start_time": "2025-10-23T13:22:49.829Z"
   },
   {
    "duration": 9,
    "start_time": "2025-10-23T13:22:49.838Z"
   },
   {
    "duration": 5,
    "start_time": "2025-10-23T13:22:49.849Z"
   },
   {
    "duration": 82,
    "start_time": "2025-10-23T13:22:49.855Z"
   },
   {
    "duration": 334,
    "start_time": "2025-10-23T13:22:49.939Z"
   },
   {
    "duration": 445,
    "start_time": "2025-10-23T13:22:50.275Z"
   },
   {
    "duration": 492,
    "start_time": "2025-10-23T13:22:50.722Z"
   },
   {
    "duration": 279,
    "start_time": "2025-10-23T13:22:51.215Z"
   },
   {
    "duration": 335,
    "start_time": "2025-10-23T13:22:51.496Z"
   },
   {
    "duration": 329,
    "start_time": "2025-10-23T13:22:51.833Z"
   },
   {
    "duration": 260,
    "start_time": "2025-10-23T13:22:52.164Z"
   },
   {
    "duration": 106,
    "start_time": "2025-10-23T13:22:52.427Z"
   },
   {
    "duration": 271,
    "start_time": "2025-10-23T13:22:52.534Z"
   },
   {
    "duration": 160,
    "start_time": "2025-10-23T13:22:52.807Z"
   },
   {
    "duration": 126,
    "start_time": "2025-10-23T13:22:52.969Z"
   },
   {
    "duration": 112,
    "start_time": "2025-10-23T13:22:53.096Z"
   },
   {
    "duration": 21,
    "start_time": "2025-10-23T13:22:53.210Z"
   },
   {
    "duration": 37,
    "start_time": "2025-10-23T13:22:53.233Z"
   },
   {
    "duration": 1296,
    "start_time": "2025-10-23T13:22:53.272Z"
   },
   {
    "duration": 17,
    "start_time": "2025-10-23T13:23:29.649Z"
   },
   {
    "duration": 18,
    "start_time": "2025-10-23T13:23:39.142Z"
   },
   {
    "duration": 17,
    "start_time": "2025-10-23T13:23:42.215Z"
   },
   {
    "duration": 17,
    "start_time": "2025-10-23T13:23:47.850Z"
   },
   {
    "duration": 17,
    "start_time": "2025-10-23T13:23:57.230Z"
   },
   {
    "duration": 16,
    "start_time": "2025-10-23T13:24:05.942Z"
   },
   {
    "duration": 18,
    "start_time": "2025-10-23T13:26:52.967Z"
   },
   {
    "duration": 38,
    "start_time": "2025-10-23T13:27:22.182Z"
   },
   {
    "duration": 16,
    "start_time": "2025-10-23T13:56:18.153Z"
   },
   {
    "duration": 20,
    "start_time": "2025-10-23T13:56:29.074Z"
   },
   {
    "duration": 16,
    "start_time": "2025-10-23T13:56:35.467Z"
   },
   {
    "duration": 155,
    "start_time": "2025-10-23T13:57:32.555Z"
   },
   {
    "duration": 179,
    "start_time": "2025-10-23T13:59:31.072Z"
   },
   {
    "duration": 158,
    "start_time": "2025-10-23T14:03:27.384Z"
   },
   {
    "duration": 1899,
    "start_time": "2025-10-23T14:08:38.882Z"
   },
   {
    "duration": 28,
    "start_time": "2025-10-23T14:09:35.020Z"
   },
   {
    "duration": 232,
    "start_time": "2025-10-23T14:09:46.032Z"
   },
   {
    "duration": 299,
    "start_time": "2025-10-23T14:10:05.925Z"
   },
   {
    "duration": 257,
    "start_time": "2025-10-23T14:10:21.229Z"
   },
   {
    "duration": 237,
    "start_time": "2025-10-23T15:52:43.078Z"
   },
   {
    "duration": 360,
    "start_time": "2025-10-23T16:01:26.570Z"
   },
   {
    "duration": 238,
    "start_time": "2025-10-23T16:01:41.397Z"
   },
   {
    "duration": 285,
    "start_time": "2025-10-23T16:01:45.238Z"
   },
   {
    "duration": 240,
    "start_time": "2025-10-23T16:01:58.773Z"
   },
   {
    "duration": 30,
    "start_time": "2025-10-23T16:06:51.373Z"
   },
   {
    "duration": 14,
    "start_time": "2025-10-23T16:07:00.940Z"
   },
   {
    "duration": 27,
    "start_time": "2025-10-23T18:35:31.476Z"
   },
   {
    "duration": 165,
    "start_time": "2025-10-23T18:36:19.815Z"
   },
   {
    "duration": 4,
    "start_time": "2025-10-23T18:38:09.063Z"
   },
   {
    "duration": 178,
    "start_time": "2025-10-23T18:38:27.021Z"
   },
   {
    "duration": 156,
    "start_time": "2025-10-23T18:38:34.264Z"
   },
   {
    "duration": 24,
    "start_time": "2025-10-23T18:38:48.832Z"
   },
   {
    "duration": 158,
    "start_time": "2025-10-23T18:38:58.835Z"
   },
   {
    "duration": 168,
    "start_time": "2025-10-23T18:39:37.361Z"
   },
   {
    "duration": 4,
    "start_time": "2025-10-23T18:45:31.170Z"
   },
   {
    "duration": 108,
    "start_time": "2025-10-23T18:46:05.460Z"
   },
   {
    "duration": 170,
    "start_time": "2025-10-23T18:46:46.727Z"
   },
   {
    "duration": 168,
    "start_time": "2025-10-23T18:47:35.798Z"
   },
   {
    "duration": 171,
    "start_time": "2025-10-23T18:48:21.431Z"
   },
   {
    "duration": 176,
    "start_time": "2025-10-23T18:48:45.774Z"
   },
   {
    "duration": 173,
    "start_time": "2025-10-23T18:49:02.849Z"
   },
   {
    "duration": 181,
    "start_time": "2025-10-23T18:49:15.049Z"
   },
   {
    "duration": 141,
    "start_time": "2025-10-23T18:49:15.581Z"
   },
   {
    "duration": 167,
    "start_time": "2025-10-23T18:49:36.987Z"
   },
   {
    "duration": 3,
    "start_time": "2025-10-23T18:49:39.950Z"
   },
   {
    "duration": 9,
    "start_time": "2025-10-23T18:52:38.277Z"
   },
   {
    "duration": 193,
    "start_time": "2025-10-23T18:53:02.337Z"
   },
   {
    "duration": 154,
    "start_time": "2025-10-23T18:53:03.762Z"
   },
   {
    "duration": 4,
    "start_time": "2025-10-23T18:53:50.129Z"
   },
   {
    "duration": 173,
    "start_time": "2025-10-23T18:53:50.801Z"
   },
   {
    "duration": 139,
    "start_time": "2025-10-23T18:53:54.562Z"
   },
   {
    "duration": 4,
    "start_time": "2025-10-23T18:55:35.392Z"
   },
   {
    "duration": 38,
    "start_time": "2025-10-23T18:55:35.823Z"
   },
   {
    "duration": 4,
    "start_time": "2025-10-23T18:55:48.822Z"
   },
   {
    "duration": 165,
    "start_time": "2025-10-23T18:55:49.372Z"
   },
   {
    "duration": 141,
    "start_time": "2025-10-23T18:55:50.564Z"
   },
   {
    "duration": 4,
    "start_time": "2025-10-23T18:56:09.377Z"
   },
   {
    "duration": 179,
    "start_time": "2025-10-23T18:56:09.805Z"
   },
   {
    "duration": 152,
    "start_time": "2025-10-23T18:56:11.432Z"
   },
   {
    "duration": 143,
    "start_time": "2025-10-23T18:56:18.511Z"
   },
   {
    "duration": 212,
    "start_time": "2025-10-23T18:56:39.385Z"
   },
   {
    "duration": 324,
    "start_time": "2025-10-23T18:58:11.954Z"
   },
   {
    "duration": 62,
    "start_time": "2025-10-23T20:43:47.031Z"
   },
   {
    "duration": 67,
    "start_time": "2025-10-23T20:44:35.670Z"
   },
   {
    "duration": 179,
    "start_time": "2025-10-23T20:46:03.974Z"
   },
   {
    "duration": 180,
    "start_time": "2025-10-23T20:46:31.139Z"
   },
   {
    "duration": 180,
    "start_time": "2025-10-23T20:49:08.871Z"
   },
   {
    "duration": 222,
    "start_time": "2025-10-23T20:49:32.923Z"
   },
   {
    "duration": 263,
    "start_time": "2025-10-23T20:49:52.484Z"
   },
   {
    "duration": 333,
    "start_time": "2025-10-23T20:50:12.726Z"
   },
   {
    "duration": 284,
    "start_time": "2025-10-23T20:51:46.747Z"
   },
   {
    "duration": 482,
    "start_time": "2025-10-23T20:53:24.871Z"
   },
   {
    "duration": 356,
    "start_time": "2025-10-23T21:07:19.122Z"
   },
   {
    "duration": 346,
    "start_time": "2025-10-23T21:11:45.954Z"
   },
   {
    "duration": 372,
    "start_time": "2025-10-23T21:15:31.744Z"
   },
   {
    "duration": 359,
    "start_time": "2025-10-23T21:15:39.553Z"
   },
   {
    "duration": 361,
    "start_time": "2025-10-23T21:15:48.669Z"
   },
   {
    "duration": 565,
    "start_time": "2025-10-23T21:17:21.274Z"
   },
   {
    "duration": 366,
    "start_time": "2025-10-23T21:17:25.458Z"
   },
   {
    "duration": 389,
    "start_time": "2025-10-23T21:18:12.795Z"
   },
   {
    "duration": 351,
    "start_time": "2025-10-23T21:18:25.516Z"
   },
   {
    "duration": 364,
    "start_time": "2025-10-23T21:18:32.269Z"
   },
   {
    "duration": 1162,
    "start_time": "2025-10-23T21:29:39.592Z"
   },
   {
    "duration": 119,
    "start_time": "2025-10-23T21:30:03.686Z"
   },
   {
    "duration": 114,
    "start_time": "2025-10-23T21:30:10.342Z"
   },
   {
    "duration": 134,
    "start_time": "2025-10-23T21:30:40.625Z"
   },
   {
    "duration": 124,
    "start_time": "2025-10-23T21:30:45.512Z"
   },
   {
    "duration": 137,
    "start_time": "2025-10-23T21:30:49.522Z"
   },
   {
    "duration": 320,
    "start_time": "2025-10-23T21:30:56.224Z"
   },
   {
    "duration": 120,
    "start_time": "2025-10-23T21:31:15.091Z"
   },
   {
    "duration": 113,
    "start_time": "2025-10-23T21:31:20.995Z"
   },
   {
    "duration": 135,
    "start_time": "2025-10-23T21:31:35.177Z"
   },
   {
    "duration": 136,
    "start_time": "2025-10-23T21:32:01.384Z"
   },
   {
    "duration": 139,
    "start_time": "2025-10-23T21:32:06.553Z"
   },
   {
    "duration": 12,
    "start_time": "2025-10-23T21:39:06.958Z"
   },
   {
    "duration": 10,
    "start_time": "2025-10-23T21:41:25.444Z"
   },
   {
    "duration": 152,
    "start_time": "2025-10-23T21:52:38.056Z"
   },
   {
    "duration": 151,
    "start_time": "2025-10-23T21:52:54.926Z"
   },
   {
    "duration": 147,
    "start_time": "2025-10-23T21:53:50.404Z"
   },
   {
    "duration": 150,
    "start_time": "2025-10-23T21:54:47.473Z"
   },
   {
    "duration": 165,
    "start_time": "2025-10-23T21:54:54.797Z"
   },
   {
    "duration": 161,
    "start_time": "2025-10-23T21:55:03.348Z"
   },
   {
    "duration": 18,
    "start_time": "2025-10-23T22:02:58.620Z"
   },
   {
    "duration": 22,
    "start_time": "2025-10-23T22:03:22.718Z"
   },
   {
    "duration": 19,
    "start_time": "2025-10-23T22:03:45.185Z"
   },
   {
    "duration": 22,
    "start_time": "2025-10-23T22:04:18.040Z"
   },
   {
    "duration": 27,
    "start_time": "2025-10-23T22:05:01.784Z"
   },
   {
    "duration": 25,
    "start_time": "2025-10-23T22:05:15.725Z"
   },
   {
    "duration": 16,
    "start_time": "2025-10-23T22:09:54.488Z"
   },
   {
    "duration": 16,
    "start_time": "2025-10-23T22:10:24.335Z"
   },
   {
    "duration": 148,
    "start_time": "2025-10-23T22:10:57.983Z"
   },
   {
    "duration": 176,
    "start_time": "2025-10-23T22:11:42.735Z"
   },
   {
    "duration": 165,
    "start_time": "2025-10-23T22:11:48.887Z"
   },
   {
    "duration": 169,
    "start_time": "2025-10-23T22:13:38.607Z"
   },
   {
    "duration": 177,
    "start_time": "2025-10-23T22:13:58.498Z"
   },
   {
    "duration": 174,
    "start_time": "2025-10-23T22:14:01.868Z"
   },
   {
    "duration": 167,
    "start_time": "2025-10-23T22:14:05.742Z"
   },
   {
    "duration": 177,
    "start_time": "2025-10-23T22:14:12.207Z"
   },
   {
    "duration": 166,
    "start_time": "2025-10-23T22:14:20.641Z"
   },
   {
    "duration": 332,
    "start_time": "2025-10-23T22:16:27.546Z"
   },
   {
    "duration": 4,
    "start_time": "2025-10-23T22:17:57.807Z"
   },
   {
    "duration": 34,
    "start_time": "2025-10-23T22:17:59.711Z"
   },
   {
    "duration": 4,
    "start_time": "2025-10-23T22:18:11.674Z"
   },
   {
    "duration": 4,
    "start_time": "2025-10-23T22:18:24.687Z"
   },
   {
    "duration": 172,
    "start_time": "2025-10-23T22:18:25.195Z"
   },
   {
    "duration": 25,
    "start_time": "2025-10-23T22:21:05.054Z"
   },
   {
    "duration": 177,
    "start_time": "2025-10-23T22:21:12.889Z"
   },
   {
    "duration": 176,
    "start_time": "2025-10-23T22:21:38.647Z"
   },
   {
    "duration": 7,
    "start_time": "2025-10-23T22:37:44.847Z"
   },
   {
    "duration": 8,
    "start_time": "2025-10-23T22:45:04.574Z"
   },
   {
    "duration": 18,
    "start_time": "2025-10-23T22:47:32.385Z"
   },
   {
    "duration": 9,
    "start_time": "2025-10-23T22:48:14.851Z"
   },
   {
    "duration": 13,
    "start_time": "2025-10-23T22:50:25.028Z"
   },
   {
    "duration": 34,
    "start_time": "2025-10-23T22:52:02.424Z"
   },
   {
    "duration": 12,
    "start_time": "2025-10-23T22:52:14.308Z"
   },
   {
    "duration": 74,
    "start_time": "2025-10-23T22:54:19.515Z"
   },
   {
    "duration": 83,
    "start_time": "2025-10-23T22:54:35.642Z"
   },
   {
    "duration": 14,
    "start_time": "2025-10-23T22:54:43.673Z"
   },
   {
    "duration": 13,
    "start_time": "2025-10-23T22:54:52.458Z"
   },
   {
    "duration": 37,
    "start_time": "2025-10-23T22:55:00.154Z"
   },
   {
    "duration": 13,
    "start_time": "2025-10-23T22:55:21.731Z"
   },
   {
    "duration": 4,
    "start_time": "2025-10-23T22:55:43.597Z"
   },
   {
    "duration": 34,
    "start_time": "2025-10-23T22:55:52.852Z"
   },
   {
    "duration": 65,
    "start_time": "2025-10-23T22:56:13.254Z"
   },
   {
    "duration": 14,
    "start_time": "2025-10-23T22:56:17.055Z"
   },
   {
    "duration": 13,
    "start_time": "2025-10-23T22:56:47.873Z"
   },
   {
    "duration": 39,
    "start_time": "2025-10-23T22:58:20.489Z"
   },
   {
    "duration": 16,
    "start_time": "2025-10-23T23:10:31.827Z"
   },
   {
    "duration": 16,
    "start_time": "2025-10-23T23:27:28.509Z"
   },
   {
    "duration": 17,
    "start_time": "2025-10-23T23:28:49.859Z"
   },
   {
    "duration": 21,
    "start_time": "2025-10-23T23:32:15.514Z"
   },
   {
    "duration": 21,
    "start_time": "2025-10-23T23:32:20.394Z"
   },
   {
    "duration": 20,
    "start_time": "2025-10-23T23:34:22.904Z"
   },
   {
    "duration": 19,
    "start_time": "2025-10-23T23:34:39.318Z"
   },
   {
    "duration": 20,
    "start_time": "2025-10-23T23:34:45.862Z"
   },
   {
    "duration": 18,
    "start_time": "2025-10-23T23:34:51.058Z"
   },
   {
    "duration": 26,
    "start_time": "2025-10-23T23:37:11.858Z"
   },
   {
    "duration": 8,
    "start_time": "2025-10-23T23:48:44.345Z"
   },
   {
    "duration": 151,
    "start_time": "2025-10-23T23:50:33.468Z"
   },
   {
    "duration": 1209,
    "start_time": "2025-10-23T23:52:28.254Z"
   },
   {
    "duration": 155,
    "start_time": "2025-10-23T23:52:39.658Z"
   },
   {
    "duration": 157,
    "start_time": "2025-10-23T23:53:26.514Z"
   },
   {
    "duration": 110,
    "start_time": "2025-10-23T23:54:28.699Z"
   },
   {
    "duration": 94,
    "start_time": "2025-10-23T23:54:41.756Z"
   },
   {
    "duration": 111,
    "start_time": "2025-10-23T23:54:47.904Z"
   },
   {
    "duration": 168,
    "start_time": "2025-10-23T23:55:03.666Z"
   },
   {
    "duration": 170,
    "start_time": "2025-10-23T23:55:16.966Z"
   },
   {
    "duration": 172,
    "start_time": "2025-10-23T23:55:24.011Z"
   },
   {
    "duration": 178,
    "start_time": "2025-10-23T23:55:43.237Z"
   },
   {
    "duration": 184,
    "start_time": "2025-10-23T23:56:00.787Z"
   },
   {
    "duration": 185,
    "start_time": "2025-10-23T23:56:06.322Z"
   },
   {
    "duration": 2736,
    "start_time": "2025-10-24T00:08:19.652Z"
   },
   {
    "duration": 3,
    "start_time": "2025-10-24T00:08:22.475Z"
   },
   {
    "duration": 3,
    "start_time": "2025-10-24T00:08:22.722Z"
   },
   {
    "duration": 4,
    "start_time": "2025-10-24T00:08:22.898Z"
   },
   {
    "duration": 9,
    "start_time": "2025-10-24T00:08:23.219Z"
   },
   {
    "duration": 4995,
    "start_time": "2025-10-24T00:08:23.490Z"
   },
   {
    "duration": 23,
    "start_time": "2025-10-24T00:08:28.493Z"
   },
   {
    "duration": 287,
    "start_time": "2025-10-24T00:08:28.764Z"
   },
   {
    "duration": 50,
    "start_time": "2025-10-24T00:08:29.214Z"
   },
   {
    "duration": 9,
    "start_time": "2025-10-24T00:08:29.482Z"
   },
   {
    "duration": 12,
    "start_time": "2025-10-24T00:08:29.728Z"
   },
   {
    "duration": 5,
    "start_time": "2025-10-24T00:08:30.186Z"
   },
   {
    "duration": 11,
    "start_time": "2025-10-24T00:08:30.618Z"
   },
   {
    "duration": 8263,
    "start_time": "2025-10-24T00:08:30.790Z"
   },
   {
    "duration": 113,
    "start_time": "2025-10-24T00:08:39.064Z"
   },
   {
    "duration": 145,
    "start_time": "2025-10-24T00:08:39.333Z"
   },
   {
    "duration": 8,
    "start_time": "2025-10-24T00:08:39.653Z"
   },
   {
    "duration": 9,
    "start_time": "2025-10-24T00:08:39.846Z"
   },
   {
    "duration": 7,
    "start_time": "2025-10-24T00:08:40.062Z"
   },
   {
    "duration": 98,
    "start_time": "2025-10-24T00:08:40.130Z"
   },
   {
    "duration": 450,
    "start_time": "2025-10-24T00:08:40.454Z"
   },
   {
    "duration": 421,
    "start_time": "2025-10-24T00:08:43.656Z"
   },
   {
    "duration": 680,
    "start_time": "2025-10-24T00:08:44.078Z"
   },
   {
    "duration": 315,
    "start_time": "2025-10-24T00:08:44.760Z"
   },
   {
    "duration": 357,
    "start_time": "2025-10-24T00:08:45.077Z"
   },
   {
    "duration": 346,
    "start_time": "2025-10-24T00:08:45.436Z"
   },
   {
    "duration": 303,
    "start_time": "2025-10-24T00:08:45.784Z"
   },
   {
    "duration": 134,
    "start_time": "2025-10-24T00:08:46.089Z"
   },
   {
    "duration": 303,
    "start_time": "2025-10-24T00:08:46.227Z"
   },
   {
    "duration": 206,
    "start_time": "2025-10-24T00:08:46.532Z"
   },
   {
    "duration": 120,
    "start_time": "2025-10-24T00:08:46.739Z"
   },
   {
    "duration": 130,
    "start_time": "2025-10-24T00:08:46.861Z"
   },
   {
    "duration": 9,
    "start_time": "2025-10-24T00:08:46.993Z"
   },
   {
    "duration": 40,
    "start_time": "2025-10-24T00:08:47.004Z"
   },
   {
    "duration": 39,
    "start_time": "2025-10-24T00:08:47.046Z"
   },
   {
    "duration": 216,
    "start_time": "2025-10-24T00:08:47.086Z"
   },
   {
    "duration": 173,
    "start_time": "2025-10-24T00:08:47.304Z"
   },
   {
    "duration": 283,
    "start_time": "2025-10-24T00:08:47.479Z"
   },
   {
    "duration": 263,
    "start_time": "2025-10-24T00:08:47.764Z"
   },
   {
    "duration": 5,
    "start_time": "2025-10-24T00:08:48.030Z"
   },
   {
    "duration": 197,
    "start_time": "2025-10-24T00:08:48.037Z"
   },
   {
    "duration": 170,
    "start_time": "2025-10-24T00:08:48.237Z"
   },
   {
    "duration": 234,
    "start_time": "2025-10-24T00:08:48.409Z"
   },
   {
    "duration": 222,
    "start_time": "2025-10-24T00:08:48.645Z"
   },
   {
    "duration": 392,
    "start_time": "2025-10-24T00:08:48.869Z"
   },
   {
    "duration": 373,
    "start_time": "2025-10-24T00:08:49.263Z"
   },
   {
    "duration": 154,
    "start_time": "2025-10-24T00:08:49.638Z"
   },
   {
    "duration": 10,
    "start_time": "2025-10-24T00:08:49.794Z"
   },
   {
    "duration": 158,
    "start_time": "2025-10-24T00:08:49.806Z"
   },
   {
    "duration": 179,
    "start_time": "2025-10-24T00:08:49.966Z"
   },
   {
    "duration": 185,
    "start_time": "2025-10-24T00:08:50.147Z"
   },
   {
    "duration": 198,
    "start_time": "2025-10-24T00:08:50.335Z"
   },
   {
    "duration": 35,
    "start_time": "2025-10-24T00:08:50.535Z"
   },
   {
    "duration": 226,
    "start_time": "2025-10-24T00:08:50.572Z"
   },
   {
    "duration": 4,
    "start_time": "2025-10-24T00:08:50.828Z"
   },
   {
    "duration": 63,
    "start_time": "2025-10-24T00:09:42.957Z"
   },
   {
    "duration": 109190,
    "start_time": "2025-10-24T00:09:48.239Z"
   },
   {
    "duration": 79,
    "start_time": "2025-10-24T00:16:02.190Z"
   },
   {
    "duration": 234,
    "start_time": "2025-10-24T00:18:00.236Z"
   },
   {
    "duration": 111394,
    "start_time": "2025-10-24T00:18:17.055Z"
   },
   {
    "duration": 109116,
    "start_time": "2025-10-24T00:20:54.766Z"
   },
   {
    "duration": 14,
    "start_time": "2025-10-24T00:30:04.392Z"
   },
   {
    "duration": 15,
    "start_time": "2025-10-24T00:30:14.620Z"
   },
   {
    "duration": 33,
    "start_time": "2025-10-24T00:30:55.139Z"
   },
   {
    "duration": 112853,
    "start_time": "2025-10-24T00:32:27.052Z"
   },
   {
    "duration": 5170,
    "start_time": "2025-10-24T00:36:22.559Z"
   },
   {
    "duration": 5123,
    "start_time": "2025-10-24T00:37:20.741Z"
   },
   {
    "duration": 5289,
    "start_time": "2025-10-24T00:37:26.940Z"
   },
   {
    "duration": 9,
    "start_time": "2025-10-24T00:37:59.804Z"
   },
   {
    "duration": 2813,
    "start_time": "2025-10-24T00:38:24.005Z"
   },
   {
    "duration": 29,
    "start_time": "2025-10-24T00:38:39.483Z"
   },
   {
    "duration": 16,
    "start_time": "2025-10-24T00:39:31.146Z"
   },
   {
    "duration": 15,
    "start_time": "2025-10-24T00:40:48.012Z"
   },
   {
    "duration": 16,
    "start_time": "2025-10-24T00:41:14.179Z"
   },
   {
    "duration": 17,
    "start_time": "2025-10-24T00:43:16.612Z"
   },
   {
    "duration": 109566,
    "start_time": "2025-10-24T00:45:24.767Z"
   },
   {
    "duration": 5472,
    "start_time": "2025-10-24T00:47:14.335Z"
   },
   {
    "duration": 5317,
    "start_time": "2025-10-24T00:50:00.346Z"
   },
   {
    "duration": 4928,
    "start_time": "2025-10-24T00:50:44.127Z"
   },
   {
    "duration": 4992,
    "start_time": "2025-10-24T00:51:23.197Z"
   },
   {
    "duration": 5117,
    "start_time": "2025-10-24T00:51:45.326Z"
   },
   {
    "duration": 5088,
    "start_time": "2025-10-24T00:52:13.702Z"
   },
   {
    "duration": 406,
    "start_time": "2025-10-24T00:52:23.823Z"
   },
   {
    "duration": 4989,
    "start_time": "2025-10-24T13:42:35.196Z"
   },
   {
    "duration": 3,
    "start_time": "2025-10-24T13:42:40.188Z"
   },
   {
    "duration": 4,
    "start_time": "2025-10-24T13:42:40.193Z"
   },
   {
    "duration": 10803,
    "start_time": "2025-10-24T13:42:40.199Z"
   },
   {
    "duration": 3,
    "start_time": "2025-10-24T13:42:51.004Z"
   },
   {
    "duration": 24525,
    "start_time": "2025-10-24T13:42:51.009Z"
   },
   {
    "duration": 20,
    "start_time": "2025-10-24T13:43:15.535Z"
   },
   {
    "duration": 251,
    "start_time": "2025-10-24T13:43:15.556Z"
   },
   {
    "duration": 43,
    "start_time": "2025-10-24T13:43:15.809Z"
   },
   {
    "duration": 9,
    "start_time": "2025-10-24T13:43:15.854Z"
   },
   {
    "duration": 10,
    "start_time": "2025-10-24T13:43:15.864Z"
   },
   {
    "duration": 4,
    "start_time": "2025-10-24T13:43:15.876Z"
   },
   {
    "duration": 4,
    "start_time": "2025-10-24T13:43:15.881Z"
   },
   {
    "duration": 7162,
    "start_time": "2025-10-24T13:43:15.886Z"
   },
   {
    "duration": 91,
    "start_time": "2025-10-24T13:43:23.049Z"
   },
   {
    "duration": 116,
    "start_time": "2025-10-24T13:43:23.142Z"
   },
   {
    "duration": 8,
    "start_time": "2025-10-24T13:43:23.260Z"
   },
   {
    "duration": 7,
    "start_time": "2025-10-24T13:43:23.270Z"
   },
   {
    "duration": 38,
    "start_time": "2025-10-24T13:43:23.278Z"
   },
   {
    "duration": 163,
    "start_time": "2025-10-24T13:43:23.318Z"
   },
   {
    "duration": 332,
    "start_time": "2025-10-24T13:43:23.483Z"
   },
   {
    "duration": 382,
    "start_time": "2025-10-24T13:43:23.816Z"
   },
   {
    "duration": 454,
    "start_time": "2025-10-24T13:43:24.204Z"
   },
   {
    "duration": 261,
    "start_time": "2025-10-24T13:43:24.660Z"
   },
   {
    "duration": 305,
    "start_time": "2025-10-24T13:43:24.923Z"
   },
   {
    "duration": 319,
    "start_time": "2025-10-24T13:43:25.229Z"
   },
   {
    "duration": 242,
    "start_time": "2025-10-24T13:43:25.549Z"
   },
   {
    "duration": 104,
    "start_time": "2025-10-24T13:43:25.794Z"
   },
   {
    "duration": 255,
    "start_time": "2025-10-24T13:43:25.905Z"
   },
   {
    "duration": 153,
    "start_time": "2025-10-24T13:43:26.163Z"
   },
   {
    "duration": 116,
    "start_time": "2025-10-24T13:43:26.319Z"
   },
   {
    "duration": 118,
    "start_time": "2025-10-24T13:43:26.437Z"
   },
   {
    "duration": 8,
    "start_time": "2025-10-24T13:43:26.556Z"
   },
   {
    "duration": 21,
    "start_time": "2025-10-24T13:43:26.566Z"
   },
   {
    "duration": 47,
    "start_time": "2025-10-24T13:43:26.589Z"
   },
   {
    "duration": 170,
    "start_time": "2025-10-24T13:43:26.637Z"
   },
   {
    "duration": 148,
    "start_time": "2025-10-24T13:43:26.809Z"
   },
   {
    "duration": 243,
    "start_time": "2025-10-24T13:43:26.959Z"
   },
   {
    "duration": 323,
    "start_time": "2025-10-24T13:43:27.204Z"
   },
   {
    "duration": 3,
    "start_time": "2025-10-24T13:43:27.529Z"
   },
   {
    "duration": 201,
    "start_time": "2025-10-24T13:43:27.534Z"
   },
   {
    "duration": 132,
    "start_time": "2025-10-24T13:43:27.737Z"
   },
   {
    "duration": 206,
    "start_time": "2025-10-24T13:43:27.871Z"
   },
   {
    "duration": 204,
    "start_time": "2025-10-24T13:43:28.079Z"
   },
   {
    "duration": 346,
    "start_time": "2025-10-24T13:43:28.284Z"
   },
   {
    "duration": 331,
    "start_time": "2025-10-24T13:43:28.631Z"
   },
   {
    "duration": 126,
    "start_time": "2025-10-24T13:43:28.963Z"
   },
   {
    "duration": 14,
    "start_time": "2025-10-24T13:43:29.091Z"
   },
   {
    "duration": 122,
    "start_time": "2025-10-24T13:43:29.106Z"
   },
   {
    "duration": 258,
    "start_time": "2025-10-24T13:43:29.230Z"
   },
   {
    "duration": 164,
    "start_time": "2025-10-24T13:43:29.489Z"
   },
   {
    "duration": 160,
    "start_time": "2025-10-24T13:43:29.654Z"
   },
   {
    "duration": 27,
    "start_time": "2025-10-24T13:43:29.816Z"
   },
   {
    "duration": 182,
    "start_time": "2025-10-24T13:43:29.845Z"
   },
   {
    "duration": 91845,
    "start_time": "2025-10-24T13:43:30.029Z"
   },
   {
    "duration": 4132,
    "start_time": "2025-10-24T13:45:01.876Z"
   },
   {
    "duration": 366,
    "start_time": "2025-10-24T13:45:06.010Z"
   },
   {
    "duration": 332,
    "start_time": "2025-10-24T13:45:18.364Z"
   },
   {
    "duration": 334,
    "start_time": "2025-10-24T13:45:34.477Z"
   }
  ],
  "colab": {
   "provenance": [],
   "toc_visible": true
  },
  "kernelspec": {
   "display_name": "base",
   "language": "python",
   "name": "python3"
  },
  "language_info": {
   "codemirror_mode": {
    "name": "ipython",
    "version": 3
   },
   "file_extension": ".py",
   "mimetype": "text/x-python",
   "name": "python",
   "nbconvert_exporter": "python",
   "pygments_lexer": "ipython3",
   "version": "3.9.7"
  },
  "toc": {
   "base_numbering": 1,
   "nav_menu": {},
   "number_sections": true,
   "sideBar": true,
   "skip_h1_title": true,
   "title_cell": "Table of Contents",
   "title_sidebar": "Contents",
   "toc_cell": false,
   "toc_position": {},
   "toc_section_display": true,
   "toc_window_display": false
  }
 },
 "nbformat": 4,
 "nbformat_minor": 5
}
